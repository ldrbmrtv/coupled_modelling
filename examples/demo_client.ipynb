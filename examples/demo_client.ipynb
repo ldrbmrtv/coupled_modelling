{
 "cells": [
  {
   "cell_type": "markdown",
   "id": "d6683367",
   "metadata": {},
   "source": [
    "Importing packages"
   ]
  },
  {
   "cell_type": "code",
   "execution_count": 1,
   "id": "154e5cf1",
   "metadata": {},
   "outputs": [],
   "source": [
    "import os\n",
    "import json\n",
    "from coupled_modeling import KnowledgeBase"
   ]
  },
  {
   "cell_type": "markdown",
   "id": "14594abd",
   "metadata": {},
   "source": [
    "Reading JSON data of an existing coupled system"
   ]
  },
  {
   "cell_type": "code",
   "execution_count": 3,
   "id": "1674a194",
   "metadata": {},
   "outputs": [
    {
     "ename": "FileNotFoundError",
     "evalue": "[Errno 2] No such file or directory: 'mixed_fid_models/ProjectParametersCoSimFSI.json'",
     "output_type": "error",
     "traceback": [
      "\u001b[1;31m---------------------------------------------------------------------------\u001b[0m",
      "\u001b[1;31mFileNotFoundError\u001b[0m                         Traceback (most recent call last)",
      "Cell \u001b[1;32mIn [3], line 6\u001b[0m\n\u001b[0;32m      1\u001b[0m input_path \u001b[38;5;241m=\u001b[39m os\u001b[38;5;241m.\u001b[39mpath\u001b[38;5;241m.\u001b[39mjoin(\n\u001b[0;32m      2\u001b[0m     \u001b[38;5;66;03m#os.path.dirname(os.path.realpath(__file__)),\u001b[39;00m\n\u001b[0;32m      3\u001b[0m     \u001b[38;5;124m'\u001b[39m\u001b[38;5;124mmixed_fid_models/\u001b[39m\u001b[38;5;124m'\u001b[39m,\n\u001b[0;32m      4\u001b[0m     \u001b[38;5;124m'\u001b[39m\u001b[38;5;124mProjectParametersCoSimFSI.json\u001b[39m\u001b[38;5;124m'\u001b[39m)\n\u001b[1;32m----> 6\u001b[0m \u001b[38;5;28;01mwith\u001b[39;00m \u001b[38;5;28;43mopen\u001b[39;49m\u001b[43m(\u001b[49m\u001b[43minput_path\u001b[49m\u001b[43m)\u001b[49m \u001b[38;5;28;01mas\u001b[39;00m f:\n\u001b[0;32m      7\u001b[0m     data \u001b[38;5;241m=\u001b[39m json\u001b[38;5;241m.\u001b[39mload(f)\n",
      "\u001b[1;31mFileNotFoundError\u001b[0m: [Errno 2] No such file or directory: 'mixed_fid_models/ProjectParametersCoSimFSI.json'"
     ]
    }
   ],
   "source": [
    "input_path = os.path.join(\n",
    "    os.path.dirname(os.path.realpath(__file__)),\n",
    "    'mixed_fid_models/',\n",
    "    'ProjectParametersCoSimFSI.json')\n",
    "\n",
    "with open(input_path) as f:\n",
    "    data = json.load(f)"
   ]
  },
  {
   "cell_type": "markdown",
   "id": "20d8cbbc",
   "metadata": {},
   "source": [
    "Connecting to the knowledge base"
   ]
  },
  {
   "cell_type": "code",
   "execution_count": null,
   "id": "3d6db8ee",
   "metadata": {},
   "outputs": [],
   "source": [
    "kb = KnowledgeBase('http://127.0.0.1:5000/api/v1.0/')"
   ]
  },
  {
   "cell_type": "markdown",
   "id": "932e33ab",
   "metadata": {},
   "source": [
    "Importing data of the existing coupled system"
   ]
  },
  {
   "cell_type": "code",
   "execution_count": null,
   "id": "f3b56b2b",
   "metadata": {},
   "outputs": [],
   "source": [
    "kb.import_coupled_kratos('mixed_fid_models', data)"
   ]
  },
  {
   "cell_type": "markdown",
   "id": "8dfdb187",
   "metadata": {},
   "source": [
    "Creating a new coupled system"
   ]
  },
  {
   "cell_type": "code",
   "execution_count": null,
   "id": "80147c9c",
   "metadata": {},
   "outputs": [],
   "source": [
    "coupled_system = kb.create_coupled('Onera_FSI')"
   ]
  },
  {
   "cell_type": "markdown",
   "id": "1619b95a",
   "metadata": {},
   "source": [
    "Copying problem data from the existing coupled system"
   ]
  },
  {
   "cell_type": "code",
   "execution_count": null,
   "id": "660fccf7",
   "metadata": {},
   "outputs": [],
   "source": [
    "problem_data = kb.copy_instance(\n",
    "    'instance_2',\n",
    "    coupled_system,\n",
    "    {'echo_level': 2})"
   ]
  },
  {
   "cell_type": "markdown",
   "id": "b426d0b6",
   "metadata": {},
   "source": [
    "Copying solver settings from the existing coupled system"
   ]
  },
  {
   "cell_type": "code",
   "execution_count": null,
   "id": "55b004f1",
   "metadata": {},
   "outputs": [],
   "source": [
    "solver_settings = kb.copy_instance(\n",
    "    'instance_3',\n",
    "    coupled_system,\n",
    "    {'echo_level': 4})"
   ]
  },
  {
   "cell_type": "markdown",
   "id": "b31163e4",
   "metadata": {},
   "source": [
    "Creating convergence accelerators for the new coupled system from scratch"
   ]
  },
  {
   "cell_type": "code",
   "execution_count": null,
   "id": "a4e0f436",
   "metadata": {},
   "outputs": [],
   "source": [
    "convergence_accelerators = kb.create_instance(\n",
    "    'convergence_accelerators',\n",
    "    solver_settings,\n",
    "    {'data_name': 'displacements', 'solver': 'CFD', 'type': 'aitken'})"
   ]
  },
  {
   "cell_type": "markdown",
   "id": "e6f354c6",
   "metadata": {},
   "source": [
    "Copying convergence criteria"
   ]
  },
  {
   "cell_type": "code",
   "execution_count": null,
   "id": "f984e93c",
   "metadata": {},
   "outputs": [],
   "source": [
    "convergence_criteria = kb.copy_instance('instance_7', solver_settings, {\n",
    "    'data_name': 'displacements',\n",
    "    'solver': 'CFD',\n",
    "    'type': 'relative_norm_initial_residual'})"
   ]
  },
  {
   "cell_type": "markdown",
   "id": "e073919f",
   "metadata": {},
   "source": [
    "Creating new coupling sequence"
   ]
  },
  {
   "cell_type": "code",
   "execution_count": null,
   "id": "617d9472",
   "metadata": {},
   "outputs": [],
   "source": [
    "coupling_sequence = kb.create_instance('coupling_sequence', solver_settings, {\n",
    "    'name': 'CFD'})"
   ]
  },
  {
   "cell_type": "markdown",
   "id": "e2c7341e",
   "metadata": {},
   "source": [
    "Creating another coupling sequence"
   ]
  },
  {
   "cell_type": "code",
   "execution_count": null,
   "id": "566ee5f7",
   "metadata": {},
   "outputs": [],
   "source": [
    "coupling_sequence = kb.create_instance('coupling_sequence', solver_settings, {\n",
    "    'name': 'SM'})"
   ]
  },
  {
   "cell_type": "markdown",
   "id": "f17a0c95",
   "metadata": {},
   "source": [
    "Copying input data list"
   ]
  },
  {
   "cell_type": "code",
   "execution_count": null,
   "id": "c645c52d",
   "metadata": {},
   "outputs": [],
   "source": [
    "input_data_list = kb.copy_instance('instance_10', coupling_sequence, {\n",
    "    'data_transfer_operator': 'mapping_operation',\n",
    "    'from_solver': 'CFD',\n",
    "    'data_transfer_operator_options': 'use_transpose'})"
   ]
  },
  {
   "cell_type": "markdown",
   "id": "40465539",
   "metadata": {},
   "source": [
    "Creating output data list"
   ]
  },
  {
   "cell_type": "code",
   "execution_count": null,
   "id": "0aa1a9e5",
   "metadata": {},
   "outputs": [],
   "source": [
    "output_data_list = kb.create_instance('output_data_list', coupling_sequence, {\n",
    "    'data': 'displacements',\n",
    "    'data_transfer_operator': 'mapping_operation',\n",
    "    'to_solver': 'CFD',\n",
    "    'to_solver_data': 'displacements'})"
   ]
  },
  {
   "cell_type": "markdown",
   "id": "1274e56d",
   "metadata": {},
   "source": [
    "Creating mapping operation"
   ]
  },
  {
   "cell_type": "code",
   "execution_count": null,
   "id": "57d97f2d",
   "metadata": {},
   "outputs": [],
   "source": [
    "mapping_operation = kb.create_instance('data_transfer_operators', solver_settings, {\n",
    "    'label': 'mapping_operation',\n",
    "    'type': 'kratos_mapping'})"
   ]
  },
  {
   "cell_type": "markdown",
   "id": "0e721bee",
   "metadata": {},
   "source": [
    "Creating mapper settings"
   ]
  },
  {
   "cell_type": "code",
   "execution_count": null,
   "id": "3e8e7eab",
   "metadata": {},
   "outputs": [],
   "source": [
    "mapper_settings = kb.create_instance('mapper_settings', mapping_operation, {\n",
    "    'mapper_type': 'nearest_neighbor',\n",
    "    'use_initial_configuration': True})"
   ]
  },
  {
   "cell_type": "markdown",
   "id": "6bc0bf84",
   "metadata": {},
   "source": [
    "Copying solver"
   ]
  },
  {
   "cell_type": "code",
   "execution_count": null,
   "id": "2c83b066",
   "metadata": {},
   "outputs": [],
   "source": [
    "CFD = kb.copy_instance('instance_12', solver_settings, {\n",
    "    'label': 'CFD'})"
   ]
  },
  {
   "cell_type": "markdown",
   "id": "71203da6",
   "metadata": {},
   "source": [
    "Creating data"
   ]
  },
  {
   "cell_type": "code",
   "execution_count": null,
   "id": "b5ef1d45",
   "metadata": {},
   "outputs": [],
   "source": [
    "displacements = kb.create_instance('data', CFD, {\n",
    "    'label': 'displacements',\n",
    "    'dimensions': 3,\n",
    "    'model_part_name': 'WING',\n",
    "    'variable_name': 'MESH_DISPLACEMENT'})"
   ]
  },
  {
   "cell_type": "markdown",
   "id": "04e2cc4d",
   "metadata": {},
   "source": [
    "Creating another data"
   ]
  },
  {
   "cell_type": "code",
   "execution_count": null,
   "id": "6f2cc27f",
   "metadata": {},
   "outputs": [],
   "source": [
    "lift_force = kb.create_instance('data', CFD, {\n",
    "    'label': 'lift_force',\n",
    "    'dimensions': 3,\n",
    "    'model_part_name': 'WING',\n",
    "    'variable_name': 'REACTION'})"
   ]
  },
  {
   "cell_type": "markdown",
   "id": "cb6c25d4",
   "metadata": {},
   "source": [
    "Copying io settings"
   ]
  },
  {
   "cell_type": "code",
   "execution_count": null,
   "id": "e68977b9",
   "metadata": {},
   "outputs": [],
   "source": [
    "io_settings = kb.copy_instance('instance_14', CFD, {\n",
    "    'connect_to': 'run_SU2'})"
   ]
  },
  {
   "cell_type": "markdown",
   "id": "d6971ddd",
   "metadata": {},
   "source": [
    "Copying solver wrapper settings"
   ]
  },
  {
   "cell_type": "code",
   "execution_count": null,
   "id": "98e83e94",
   "metadata": {},
   "outputs": [],
   "source": [
    "solver_wrapper_settings = kb.copy_instance('instance_13', CFD, {\n",
    "    'export_data': 'displacements',\n",
    "    'import_meshes': 'WING'})"
   ]
  },
  {
   "cell_type": "markdown",
   "id": "c26c5822",
   "metadata": {},
   "source": [
    "Creating another solver"
   ]
  },
  {
   "cell_type": "code",
   "execution_count": null,
   "id": "ce88a906",
   "metadata": {},
   "outputs": [],
   "source": [
    "SM = kb.create_instance('solvers', solver_settings, {\n",
    "    'label': 'SM',\n",
    "    'type': 'solver_wrappers.kratos.structural_mechanics_wrapper'})"
   ]
  },
  {
   "cell_type": "markdown",
   "id": "78cfaf4f",
   "metadata": {},
   "source": [
    "Coping data for the second solver from the first one"
   ]
  },
  {
   "cell_type": "code",
   "execution_count": null,
   "id": "b3499e89",
   "metadata": {},
   "outputs": [],
   "source": [
    "displacements = kb.copy_instance(displacements, SM, {\n",
    "    'model_part_name': 'Structure.interface',\n",
    "    'variable_name': 'DISPLACEMENT'})"
   ]
  },
  {
   "cell_type": "markdown",
   "id": "09125e64",
   "metadata": {},
   "source": [
    "Copying another data from the first solver"
   ]
  },
  {
   "cell_type": "code",
   "execution_count": null,
   "id": "499e69fa",
   "metadata": {},
   "outputs": [],
   "source": [
    "lift_force = kb.copy_instance(lift_force, SM, {\n",
    "    'model_part_name': 'Structure.interface',\n",
    "    'variable_name': 'POINT_LOAD'})"
   ]
  },
  {
   "cell_type": "markdown",
   "id": "83834660",
   "metadata": {},
   "source": [
    "Creating solver wrapper settings for the second solver"
   ]
  },
  {
   "cell_type": "code",
   "execution_count": null,
   "id": "40e60b6a",
   "metadata": {},
   "outputs": [],
   "source": [
    "solver_wrapper_settings = kb.create_instance('solver_wrapper_settings', SM, {\n",
    "    'input_file': 'ProjectParametersSM'})"
   ]
  },
  {
   "cell_type": "markdown",
   "id": "ab309762",
   "metadata": {},
   "source": [
    "Exporting created coupled system in JSON"
   ]
  },
  {
   "cell_type": "code",
   "execution_count": null,
   "id": "4009b038",
   "metadata": {},
   "outputs": [],
   "source": [
    "export = kb.export_coupled_kratos(coupled_system)\n",
    "\n",
    "with open('export_onera_fsi.json', 'w') as file:\n",
    "    json.dump(export, file, indent=2)"
   ]
  },
  {
   "cell_type": "markdown",
   "id": "1105de57",
   "metadata": {},
   "source": [
    "Inferring new classes from the created coupled system"
   ]
  },
  {
   "cell_type": "code",
   "execution_count": null,
   "id": "c0cad2dd",
   "metadata": {},
   "outputs": [],
   "source": [
    "kb.infer_coupled_structure(coupled_system)"
   ]
  },
  {
   "cell_type": "markdown",
   "id": "a8105431",
   "metadata": {},
   "source": [
    "Updating the knowledge base"
   ]
  },
  {
   "cell_type": "code",
   "execution_count": null,
   "id": "d0def747",
   "metadata": {},
   "outputs": [],
   "source": [
    "kb.save()"
   ]
  }
 ],
 "metadata": {
  "kernelspec": {
   "display_name": "Python 3 (ipykernel)",
   "language": "python",
   "name": "python3"
  },
  "language_info": {
   "codemirror_mode": {
    "name": "ipython",
    "version": 3
   },
   "file_extension": ".py",
   "mimetype": "text/x-python",
   "name": "python",
   "nbconvert_exporter": "python",
   "pygments_lexer": "ipython3",
   "version": "3.10.5"
  }
 },
 "nbformat": 4,
 "nbformat_minor": 5
}
