{
 "cells": [
  {
   "cell_type": "markdown",
   "id": "d6683367",
   "metadata": {},
   "source": [
    "Importing packages"
   ]
  },
  {
   "cell_type": "code",
   "execution_count": 15,
   "id": "154e5cf1",
   "metadata": {},
   "outputs": [],
   "source": [
    "import os\n",
    "import json\n",
    "from coupled_modeling import KnowledgeBase"
   ]
  },
  {
   "cell_type": "markdown",
   "id": "14594abd",
   "metadata": {},
   "source": [
    "Reading JSON data of an existing coupled system"
   ]
  },
  {
   "cell_type": "code",
   "execution_count": 16,
   "id": "1674a194",
   "metadata": {},
   "outputs": [
    {
     "data": {
      "text/plain": [
       "{'problem_data': {'start_time': 0.0,\n",
       "  'end_time': 1.0,\n",
       "  'echo_level': 0,\n",
       "  'print_colors': True,\n",
       "  'parallel_type': 'OpenMP'},\n",
       " 'solver_settings': {'type': 'coupled_solvers.gauss_seidel_strong',\n",
       "  'num_coupling_iterations': 20,\n",
       "  'echo_level': 3,\n",
       "  'data_transfer_operators': {'direct_transfer': {'type': 'kratos_mapping',\n",
       "    'mapper_settings': {'mapper_type': 'nearest_neighbor', 'echo_level': 3}}},\n",
       "  'predictors': [],\n",
       "  'convergence_accelerators': [{'type': 'aitken',\n",
       "    'solver': 'low_fid_fluid',\n",
       "    'data_name': 'pitch_angle'}],\n",
       "  'convergence_criteria': [{'type': 'relative_norm_previous_residual',\n",
       "    'solver': 'low_fid_fluid',\n",
       "    'data_name': 'pitch_angle',\n",
       "    'abs_tolerance': 1e-07,\n",
       "    'rel_tolerance': 1e-05}],\n",
       "  'coupling_sequence': [{'name': 'low_fid_fluid',\n",
       "    'output_data_list': [],\n",
       "    'input_data_list': []},\n",
       "   {'name': 'spring_structure',\n",
       "    'input_data_list': [{'data': 'lift_force',\n",
       "      'from_solver': 'low_fid_fluid',\n",
       "      'from_solver_data': 'lift_force',\n",
       "      'data_transfer_operator': 'direct_transfer'}],\n",
       "    'output_data_list': [{'data': 'pitch_angle',\n",
       "      'to_solver': 'low_fid_fluid',\n",
       "      'to_solver_data': 'pitch_angle',\n",
       "      'data_transfer_operator': 'direct_transfer'}]}],\n",
       "  'solvers': {'low_fid_fluid': {'type': 'solver_wrappers.external.remote_controlled_solver_wrapper',\n",
       "    'solver_wrapper_settings': {'export_data': ['pitch_angle'],\n",
       "     'import_data': ['lift_force'],\n",
       "     'import_meshes': ['single_node_mesh_f']},\n",
       "    'io_settings': {'type': 'kratos_co_sim_io',\n",
       "     'echo_level': 4,\n",
       "     'connect_to': 'run_fluid',\n",
       "     'communication_format': 'file'},\n",
       "    'data': {'pitch_angle': {'model_part_name': 'single_node_mesh_f',\n",
       "      'variable_name': 'SCALAR_DISPLACEMENT',\n",
       "      'location': 'node_historical'},\n",
       "     'lift_force': {'model_part_name': 'single_node_mesh_f',\n",
       "      'variable_name': 'SCALAR_FORCE',\n",
       "      'location': 'node_historical'}}},\n",
       "   'spring_structure': {'type': 'solver_wrappers.external.remote_controlled_solver_wrapper',\n",
       "    'solver_wrapper_settings': {'export_data': ['lift_force'],\n",
       "     'import_data': ['pitch_angle'],\n",
       "     'import_meshes': ['single_node_mesh_s']},\n",
       "    'io_settings': {'type': 'kratos_co_sim_io',\n",
       "     'echo_level': 4,\n",
       "     'connect_to': 'run_structure',\n",
       "     'communication_format': 'file'},\n",
       "    'data': {'pitch_angle': {'model_part_name': 'single_node_mesh_s',\n",
       "      'variable_name': 'SCALAR_DISPLACEMENT',\n",
       "      'location': 'node_historical'},\n",
       "     'lift_force': {'model_part_name': 'single_node_mesh_s',\n",
       "      'variable_name': 'SCALAR_FORCE',\n",
       "      'location': 'node_historical'}}}}}}"
      ]
     },
     "execution_count": 16,
     "metadata": {},
     "output_type": "execute_result"
    }
   ],
   "source": [
    "input_path = os.path.join(\n",
    "    os.path.abspath(''),\n",
    "    'mixed_fid_models/',\n",
    "    'ProjectParametersCoSimFSI.json')\n",
    "\n",
    "with open(input_path) as f:\n",
    "    data = json.load(f)\n",
    "\n",
    "data"
   ]
  },
  {
   "cell_type": "markdown",
   "id": "20d8cbbc",
   "metadata": {},
   "source": [
    "Connecting to the knowledge base"
   ]
  },
  {
   "cell_type": "code",
   "execution_count": 17,
   "id": "3d6db8ee",
   "metadata": {},
   "outputs": [],
   "source": [
    "kb = KnowledgeBase('http://127.0.0.1:5000/api/v1.0/')"
   ]
  },
  {
   "cell_type": "markdown",
   "id": "932e33ab",
   "metadata": {},
   "source": [
    "Importing data of the existing coupled system"
   ]
  },
  {
   "cell_type": "code",
   "execution_count": 18,
   "id": "f3b56b2b",
   "metadata": {},
   "outputs": [
    {
     "data": {
      "text/plain": [
       "'instance_42'"
      ]
     },
     "execution_count": 18,
     "metadata": {},
     "output_type": "execute_result"
    }
   ],
   "source": [
    "mixed_fid_models = kb.import_coupled_kratos('mixed_fid_models', data)\n",
    "\n",
    "mixed_fid_models"
   ]
  },
  {
   "cell_type": "markdown",
   "id": "8dfdb187",
   "metadata": {},
   "source": [
    "Creating a new coupled system"
   ]
  },
  {
   "cell_type": "code",
   "execution_count": 19,
   "id": "80147c9c",
   "metadata": {},
   "outputs": [
    {
     "data": {
      "text/plain": [
       "'instance_63'"
      ]
     },
     "execution_count": 19,
     "metadata": {},
     "output_type": "execute_result"
    }
   ],
   "source": [
    "Onera_FSI = kb.create_coupled('Onera_FSI')\n",
    "\n",
    "Onera_FSI"
   ]
  },
  {
   "cell_type": "markdown",
   "id": "fbd6559d",
   "metadata": {},
   "source": [
    "Checking properties of the imported coupled system"
   ]
  },
  {
   "cell_type": "code",
   "execution_count": 20,
   "id": "60987ba7",
   "metadata": {},
   "outputs": [
    {
     "data": {
      "text/plain": [
       "{'label': ['mixed_fid_models'],\n",
       " 'problem_data': ['instance_43'],\n",
       " 'solver_settings': ['instance_44']}"
      ]
     },
     "execution_count": 20,
     "metadata": {},
     "output_type": "execute_result"
    }
   ],
   "source": [
    "kb.get_instance_properties(mixed_fid_models)"
   ]
  },
  {
   "cell_type": "markdown",
   "id": "4a53c627",
   "metadata": {},
   "source": [
    "Checking problem data of the imported coupled system"
   ]
  },
  {
   "cell_type": "code",
   "execution_count": 21,
   "id": "596a3928",
   "metadata": {},
   "outputs": [
    {
     "data": {
      "text/plain": [
       "{'echo_level': [0],\n",
       " 'end_time': [1.0],\n",
       " 'parallel_type': ['OpenMP'],\n",
       " 'print_colors': [True],\n",
       " 'start_time': [0.0]}"
      ]
     },
     "execution_count": 21,
     "metadata": {},
     "output_type": "execute_result"
    }
   ],
   "source": [
    "kb.get_instance_properties('instance_2')"
   ]
  },
  {
   "cell_type": "markdown",
   "id": "1619b95a",
   "metadata": {},
   "source": [
    "Copying problem data from the existing coupled system"
   ]
  },
  {
   "cell_type": "code",
   "execution_count": 23,
   "id": "660fccf7",
   "metadata": {},
   "outputs": [
    {
     "data": {
      "text/plain": [
       "'instance_65'"
      ]
     },
     "execution_count": 23,
     "metadata": {},
     "output_type": "execute_result"
    }
   ],
   "source": [
    "problem_data = kb.copy_instance(\n",
    "    'instance_2',\n",
    "    Onera_FSI,\n",
    "    {'echo_level': 2})\n",
    "\n",
    "problem_data"
   ]
  },
  {
   "cell_type": "markdown",
   "id": "b2e8fb60",
   "metadata": {},
   "source": [
    "Checking solver settings of the imported coupled system"
   ]
  },
  {
   "cell_type": "code",
   "execution_count": 24,
   "id": "9ccdbbb2",
   "metadata": {},
   "outputs": [
    {
     "data": {
      "text/plain": [
       "{'convergence_accelerators': ['instance_6'],\n",
       " 'convergence_criteria': ['instance_7'],\n",
       " 'coupling_sequence': ['instance_8', 'instance_9'],\n",
       " 'data_transfer_operators': ['instance_4'],\n",
       " 'echo_level': [3],\n",
       " 'num_coupling_iterations': [20],\n",
       " 'solvers': ['instance_12', 'instance_17'],\n",
       " 'type': ['coupled_solvers.gauss_seidel_strong']}"
      ]
     },
     "execution_count": 24,
     "metadata": {},
     "output_type": "execute_result"
    }
   ],
   "source": [
    "kb.get_instance_properties('instance_3')"
   ]
  },
  {
   "cell_type": "markdown",
   "id": "b426d0b6",
   "metadata": {},
   "source": [
    "Copying solver settings from the existing coupled system"
   ]
  },
  {
   "cell_type": "code",
   "execution_count": 25,
   "id": "55b004f1",
   "metadata": {},
   "outputs": [
    {
     "data": {
      "text/plain": [
       "'instance_66'"
      ]
     },
     "execution_count": 25,
     "metadata": {},
     "output_type": "execute_result"
    }
   ],
   "source": [
    "solver_settings = kb.copy_instance(\n",
    "    'instance_3',\n",
    "    Onera_FSI,\n",
    "    {'echo_level': 4})\n",
    "\n",
    "solver_settings"
   ]
  },
  {
   "cell_type": "markdown",
   "id": "19eda1ab",
   "metadata": {},
   "source": [
    "Checking existing convergence accelerators"
   ]
  },
  {
   "cell_type": "code",
   "execution_count": 26,
   "id": "d9ad328a",
   "metadata": {},
   "outputs": [
    {
     "data": {
      "text/plain": [
       "{'data_name': ['pitch_angle'], 'solver': ['low_fid_fluid'], 'type': ['aitken']}"
      ]
     },
     "execution_count": 26,
     "metadata": {},
     "output_type": "execute_result"
    }
   ],
   "source": [
    "kb.get_instance_properties('instance_6')"
   ]
  },
  {
   "cell_type": "markdown",
   "id": "b31163e4",
   "metadata": {},
   "source": [
    "Creating convergence accelerators for the new coupled system from scratch"
   ]
  },
  {
   "cell_type": "code",
   "execution_count": 27,
   "id": "a4e0f436",
   "metadata": {},
   "outputs": [
    {
     "data": {
      "text/plain": [
       "'instance_67'"
      ]
     },
     "execution_count": 27,
     "metadata": {},
     "output_type": "execute_result"
    }
   ],
   "source": [
    "convergence_accelerators = kb.create_instance(\n",
    "    'convergence_accelerators',\n",
    "    solver_settings,\n",
    "    {'data_name': 'displacements', 'solver': 'CFD', 'type': 'aitken'})\n",
    "\n",
    "convergence_accelerators"
   ]
  },
  {
   "cell_type": "markdown",
   "id": "ae630ab4",
   "metadata": {},
   "source": [
    "Checking existing convergence criteria"
   ]
  },
  {
   "cell_type": "code",
   "execution_count": 28,
   "id": "60854f61",
   "metadata": {},
   "outputs": [
    {
     "data": {
      "text/plain": [
       "{'abs_tolerance': [1e-07],\n",
       " 'data_name': ['pitch_angle'],\n",
       " 'rel_tolerance': [1e-05],\n",
       " 'solver': ['low_fid_fluid'],\n",
       " 'type': ['relative_norm_previous_residual']}"
      ]
     },
     "execution_count": 28,
     "metadata": {},
     "output_type": "execute_result"
    }
   ],
   "source": [
    "kb.get_instance_properties('instance_7')"
   ]
  },
  {
   "cell_type": "markdown",
   "id": "e6f354c6",
   "metadata": {},
   "source": [
    "Copying convergence criteria"
   ]
  },
  {
   "cell_type": "code",
   "execution_count": 29,
   "id": "f984e93c",
   "metadata": {},
   "outputs": [
    {
     "data": {
      "text/plain": [
       "'instance_68'"
      ]
     },
     "execution_count": 29,
     "metadata": {},
     "output_type": "execute_result"
    }
   ],
   "source": [
    "convergence_criteria = kb.copy_instance('instance_7', solver_settings, {\n",
    "    'data_name': 'displacements',\n",
    "    'solver': 'CFD',\n",
    "    'type': 'relative_norm_initial_residual'})\n",
    "\n",
    "convergence_criteria"
   ]
  },
  {
   "cell_type": "code",
   "execution_count": null,
   "id": "5cc8852e",
   "metadata": {},
   "outputs": [],
   "source": [
    "Checking existing coupling sequences"
   ]
  },
  {
   "cell_type": "code",
   "execution_count": 30,
   "id": "402a2435",
   "metadata": {},
   "outputs": [
    {
     "data": {
      "text/plain": [
       "{'name': ['low_fid_fluid']}"
      ]
     },
     "execution_count": 30,
     "metadata": {},
     "output_type": "execute_result"
    }
   ],
   "source": [
    "kb.get_instance_properties('instance_8')"
   ]
  },
  {
   "cell_type": "code",
   "execution_count": 31,
   "id": "f1cba210",
   "metadata": {},
   "outputs": [
    {
     "data": {
      "text/plain": [
       "{'input_data_list': ['instance_10'],\n",
       " 'name': ['spring_structure'],\n",
       " 'output_data_list': ['instance_11']}"
      ]
     },
     "execution_count": 31,
     "metadata": {},
     "output_type": "execute_result"
    }
   ],
   "source": [
    "kb.get_instance_properties('instance_9')"
   ]
  },
  {
   "cell_type": "markdown",
   "id": "e073919f",
   "metadata": {},
   "source": [
    "Creating new coupling sequence"
   ]
  },
  {
   "cell_type": "code",
   "execution_count": 32,
   "id": "617d9472",
   "metadata": {},
   "outputs": [
    {
     "data": {
      "text/plain": [
       "'instance_69'"
      ]
     },
     "execution_count": 32,
     "metadata": {},
     "output_type": "execute_result"
    }
   ],
   "source": [
    "coupling_sequence = kb.create_instance('coupling_sequence', solver_settings, {\n",
    "    'name': 'CFD'})\n",
    "\n",
    "coupling_sequence"
   ]
  },
  {
   "cell_type": "markdown",
   "id": "e2c7341e",
   "metadata": {},
   "source": [
    "Creating another coupling sequence"
   ]
  },
  {
   "cell_type": "code",
   "execution_count": 33,
   "id": "566ee5f7",
   "metadata": {},
   "outputs": [
    {
     "data": {
      "text/plain": [
       "'instance_70'"
      ]
     },
     "execution_count": 33,
     "metadata": {},
     "output_type": "execute_result"
    }
   ],
   "source": [
    "coupling_sequence = kb.create_instance('coupling_sequence', solver_settings, {\n",
    "    'name': 'SM'})\n",
    "\n",
    "coupling_sequence"
   ]
  },
  {
   "cell_type": "markdown",
   "id": "2e73d5f8",
   "metadata": {},
   "source": [
    "Checking existing input data list"
   ]
  },
  {
   "cell_type": "code",
   "execution_count": 34,
   "id": "251c9c6f",
   "metadata": {},
   "outputs": [
    {
     "data": {
      "text/plain": [
       "{'data': ['lift_force'],\n",
       " 'data_transfer_operator': ['direct_transfer'],\n",
       " 'from_solver': ['low_fid_fluid'],\n",
       " 'from_solver_data': ['lift_force']}"
      ]
     },
     "execution_count": 34,
     "metadata": {},
     "output_type": "execute_result"
    }
   ],
   "source": [
    "kb.get_instance_properties('instance_10')"
   ]
  },
  {
   "cell_type": "markdown",
   "id": "f17a0c95",
   "metadata": {},
   "source": [
    "Copying input data list"
   ]
  },
  {
   "cell_type": "code",
   "execution_count": null,
   "id": "c645c52d",
   "metadata": {},
   "outputs": [],
   "source": [
    "input_data_list = kb.copy_instance('instance_10', coupling_sequence, {\n",
    "    'data_transfer_operator': 'mapping_operation',\n",
    "    'from_solver': 'CFD',\n",
    "    'data_transfer_operator_options': 'use_transpose'})"
   ]
  },
  {
   "cell_type": "markdown",
   "id": "78ae0137",
   "metadata": {},
   "source": [
    "Checking existing output data list"
   ]
  },
  {
   "cell_type": "code",
   "execution_count": 35,
   "id": "49fdb3e1",
   "metadata": {},
   "outputs": [
    {
     "data": {
      "text/plain": [
       "{'data': ['pitch_angle'],\n",
       " 'data_transfer_operator': ['direct_transfer'],\n",
       " 'to_solver': ['low_fid_fluid'],\n",
       " 'to_solver_data': ['pitch_angle']}"
      ]
     },
     "execution_count": 35,
     "metadata": {},
     "output_type": "execute_result"
    }
   ],
   "source": [
    "kb.get_instance_properties('instance_11')"
   ]
  },
  {
   "cell_type": "markdown",
   "id": "40465539",
   "metadata": {},
   "source": [
    "Creating output data list"
   ]
  },
  {
   "cell_type": "code",
   "execution_count": 36,
   "id": "0aa1a9e5",
   "metadata": {},
   "outputs": [
    {
     "data": {
      "text/plain": [
       "'instance_71'"
      ]
     },
     "execution_count": 36,
     "metadata": {},
     "output_type": "execute_result"
    }
   ],
   "source": [
    "output_data_list = kb.create_instance('output_data_list', coupling_sequence, {\n",
    "    'data': 'displacements',\n",
    "    'data_transfer_operator': 'mapping_operation',\n",
    "    'to_solver': 'CFD',\n",
    "    'to_solver_data': 'displacements'})\n",
    "\n",
    "output_data_list"
   ]
  },
  {
   "cell_type": "markdown",
   "id": "6d7bac50",
   "metadata": {},
   "source": [
    "Checking existing data transfer operator"
   ]
  },
  {
   "cell_type": "code",
   "execution_count": 38,
   "id": "b37553f1",
   "metadata": {},
   "outputs": [
    {
     "data": {
      "text/plain": [
       "{'label': ['direct_transfer'],\n",
       " 'mapper_settings': ['instance_5'],\n",
       " 'type': ['kratos_mapping']}"
      ]
     },
     "execution_count": 38,
     "metadata": {},
     "output_type": "execute_result"
    }
   ],
   "source": [
    "kb.get_instance_properties('instance_4')"
   ]
  },
  {
   "cell_type": "markdown",
   "id": "1274e56d",
   "metadata": {},
   "source": [
    "Creating mapping operation"
   ]
  },
  {
   "cell_type": "code",
   "execution_count": null,
   "id": "57d97f2d",
   "metadata": {},
   "outputs": [],
   "source": [
    "mapping_operation = kb.create_instance('data_transfer_operators', solver_settings, {\n",
    "    'label': 'mapping_operation',\n",
    "    'type': 'kratos_mapping'})\n",
    "\n",
    "mapping_operation"
   ]
  },
  {
   "cell_type": "markdown",
   "id": "e68dd3ab",
   "metadata": {},
   "source": [
    "Checking existing mapper settings"
   ]
  },
  {
   "cell_type": "code",
   "execution_count": 39,
   "id": "72f219a6",
   "metadata": {},
   "outputs": [
    {
     "data": {
      "text/plain": [
       "{'echo_level': [3], 'mapper_type': ['nearest_neighbor']}"
      ]
     },
     "execution_count": 39,
     "metadata": {},
     "output_type": "execute_result"
    }
   ],
   "source": [
    "kb.get_instance_properties('instance_5')"
   ]
  },
  {
   "cell_type": "markdown",
   "id": "0e721bee",
   "metadata": {},
   "source": [
    "Creating mapper settings"
   ]
  },
  {
   "cell_type": "code",
   "execution_count": null,
   "id": "3e8e7eab",
   "metadata": {},
   "outputs": [],
   "source": [
    "mapper_settings = kb.create_instance('mapper_settings', mapping_operation, {\n",
    "    'mapper_type': 'nearest_neighbor',\n",
    "    'use_initial_configuration': True})\n",
    "\n",
    "mapper_settings"
   ]
  },
  {
   "cell_type": "markdown",
   "id": "8f3e1567",
   "metadata": {},
   "source": [
    "Checking existing solver"
   ]
  },
  {
   "cell_type": "code",
   "execution_count": 40,
   "id": "dd8ef126",
   "metadata": {},
   "outputs": [
    {
     "data": {
      "text/plain": [
       "{'data_': ['instance_15', 'instance_16'],\n",
       " 'io_settings': ['instance_14'],\n",
       " 'label': ['low_fid_fluid'],\n",
       " 'solver_wrapper_settings': ['instance_13'],\n",
       " 'type': ['solver_wrappers.external.remote_controlled_solver_wrapper']}"
      ]
     },
     "execution_count": 40,
     "metadata": {},
     "output_type": "execute_result"
    }
   ],
   "source": [
    "kb.get_instance_properties('instance_12')"
   ]
  },
  {
   "cell_type": "markdown",
   "id": "6bc0bf84",
   "metadata": {},
   "source": [
    "Copying solver"
   ]
  },
  {
   "cell_type": "code",
   "execution_count": 41,
   "id": "2c83b066",
   "metadata": {},
   "outputs": [
    {
     "data": {
      "text/plain": [
       "'instance_72'"
      ]
     },
     "execution_count": 41,
     "metadata": {},
     "output_type": "execute_result"
    }
   ],
   "source": [
    "CFD = kb.copy_instance('instance_12', solver_settings, {\n",
    "    'label': 'CFD'})\n",
    "\n",
    "CFD"
   ]
  },
  {
   "cell_type": "markdown",
   "id": "8ef0a3bd",
   "metadata": {},
   "source": [
    "Checking existing data"
   ]
  },
  {
   "cell_type": "code",
   "execution_count": 42,
   "id": "e462b73e",
   "metadata": {},
   "outputs": [
    {
     "data": {
      "text/plain": [
       "{'label': ['pitch_angle'],\n",
       " 'location': ['node_historical'],\n",
       " 'model_part_name': ['single_node_mesh_f'],\n",
       " 'variable_name': ['SCALAR_DISPLACEMENT']}"
      ]
     },
     "execution_count": 42,
     "metadata": {},
     "output_type": "execute_result"
    }
   ],
   "source": [
    "kb.get_instance_properties('instance_15')"
   ]
  },
  {
   "cell_type": "code",
   "execution_count": 44,
   "id": "efb0fed1",
   "metadata": {},
   "outputs": [
    {
     "data": {
      "text/plain": [
       "{'label': ['lift_force'],\n",
       " 'location': ['node_historical'],\n",
       " 'model_part_name': ['single_node_mesh_f'],\n",
       " 'variable_name': ['SCALAR_FORCE']}"
      ]
     },
     "execution_count": 44,
     "metadata": {},
     "output_type": "execute_result"
    }
   ],
   "source": [
    "kb.get_instance_properties('instance_16')"
   ]
  },
  {
   "cell_type": "markdown",
   "id": "71203da6",
   "metadata": {},
   "source": [
    "Creating data"
   ]
  },
  {
   "cell_type": "code",
   "execution_count": 43,
   "id": "b5ef1d45",
   "metadata": {},
   "outputs": [
    {
     "data": {
      "text/plain": [
       "'instance_73'"
      ]
     },
     "execution_count": 43,
     "metadata": {},
     "output_type": "execute_result"
    }
   ],
   "source": [
    "displacements = kb.create_instance('data', CFD, {\n",
    "    'label': 'displacements',\n",
    "    'dimensions': 3,\n",
    "    'model_part_name': 'WING',\n",
    "    'variable_name': 'MESH_DISPLACEMENT'})\n",
    "\n",
    "displacements"
   ]
  },
  {
   "cell_type": "markdown",
   "id": "04e2cc4d",
   "metadata": {},
   "source": [
    "Creating another data"
   ]
  },
  {
   "cell_type": "code",
   "execution_count": 45,
   "id": "6f2cc27f",
   "metadata": {},
   "outputs": [
    {
     "data": {
      "text/plain": [
       "'instance_74'"
      ]
     },
     "execution_count": 45,
     "metadata": {},
     "output_type": "execute_result"
    }
   ],
   "source": [
    "lift_force = kb.create_instance('data', CFD, {\n",
    "    'label': 'lift_force',\n",
    "    'dimensions': 3,\n",
    "    'model_part_name': 'WING',\n",
    "    'variable_name': 'REACTION'})\n",
    "\n",
    "lift_force"
   ]
  },
  {
   "cell_type": "markdown",
   "id": "52a0d1f7",
   "metadata": {},
   "source": [
    "Checking existing IO settings"
   ]
  },
  {
   "cell_type": "code",
   "execution_count": 46,
   "id": "73b9c0da",
   "metadata": {},
   "outputs": [
    {
     "data": {
      "text/plain": [
       "{'communication_format': ['file'],\n",
       " 'connect_to': ['run_fluid'],\n",
       " 'echo_level': [4],\n",
       " 'type': ['kratos_co_sim_io']}"
      ]
     },
     "execution_count": 46,
     "metadata": {},
     "output_type": "execute_result"
    }
   ],
   "source": [
    "kb.get_instance_properties('instance_14')"
   ]
  },
  {
   "cell_type": "markdown",
   "id": "cb6c25d4",
   "metadata": {},
   "source": [
    "Copying io settings"
   ]
  },
  {
   "cell_type": "code",
   "execution_count": null,
   "id": "e68977b9",
   "metadata": {},
   "outputs": [],
   "source": [
    "io_settings = kb.copy_instance('instance_14', CFD, {\n",
    "    'connect_to': 'run_SU2'})\n",
    "\n",
    "io_settings"
   ]
  },
  {
   "cell_type": "markdown",
   "id": "c83b9d8e",
   "metadata": {},
   "source": [
    "Checking existing solver wrapper settings"
   ]
  },
  {
   "cell_type": "code",
   "execution_count": 47,
   "id": "87a3f77f",
   "metadata": {},
   "outputs": [
    {
     "data": {
      "text/plain": [
       "{'export_data': ['pitch_angle'],\n",
       " 'import_data': ['lift_force'],\n",
       " 'import_meshes': ['single_node_mesh_f']}"
      ]
     },
     "execution_count": 47,
     "metadata": {},
     "output_type": "execute_result"
    }
   ],
   "source": [
    "kb.get_instance_properties('instance_13')"
   ]
  },
  {
   "cell_type": "markdown",
   "id": "d6971ddd",
   "metadata": {},
   "source": [
    "Copying solver wrapper settings"
   ]
  },
  {
   "cell_type": "code",
   "execution_count": 48,
   "id": "98e83e94",
   "metadata": {},
   "outputs": [
    {
     "data": {
      "text/plain": [
       "'instance_75'"
      ]
     },
     "execution_count": 48,
     "metadata": {},
     "output_type": "execute_result"
    }
   ],
   "source": [
    "solver_wrapper_settings = kb.copy_instance('instance_13', CFD, {\n",
    "    'export_data': 'displacements',\n",
    "    'import_meshes': 'WING'})\n",
    "\n",
    "solver_wrapper_settings"
   ]
  },
  {
   "cell_type": "markdown",
   "id": "27e598e7",
   "metadata": {},
   "source": [
    "Checking another solver"
   ]
  },
  {
   "cell_type": "code",
   "execution_count": 49,
   "id": "78070bfe",
   "metadata": {},
   "outputs": [
    {
     "data": {
      "text/plain": [
       "{'data_': ['instance_20', 'instance_21'],\n",
       " 'io_settings': ['instance_19'],\n",
       " 'label': ['spring_structure'],\n",
       " 'solver_wrapper_settings': ['instance_18'],\n",
       " 'type': ['solver_wrappers.external.remote_controlled_solver_wrapper']}"
      ]
     },
     "execution_count": 49,
     "metadata": {},
     "output_type": "execute_result"
    }
   ],
   "source": [
    "kb.get_instance_properties('instance_17')"
   ]
  },
  {
   "cell_type": "markdown",
   "id": "c26c5822",
   "metadata": {},
   "source": [
    "Creating another solver"
   ]
  },
  {
   "cell_type": "code",
   "execution_count": 53,
   "id": "ce88a906",
   "metadata": {},
   "outputs": [
    {
     "data": {
      "text/plain": [
       "'instance_76'"
      ]
     },
     "execution_count": 53,
     "metadata": {},
     "output_type": "execute_result"
    }
   ],
   "source": [
    "SM = kb.create_instance('solvers', solver_settings, {\n",
    "    'label': 'SM',\n",
    "    'type': 'solver_wrappers.kratos.structural_mechanics_wrapper'})\n",
    "\n",
    "SM"
   ]
  },
  {
   "cell_type": "markdown",
   "id": "41694d15",
   "metadata": {},
   "source": [
    "Checking existing data of the second solver"
   ]
  },
  {
   "cell_type": "code",
   "execution_count": 50,
   "id": "6c1ce179",
   "metadata": {},
   "outputs": [
    {
     "data": {
      "text/plain": [
       "{'label': ['pitch_angle'],\n",
       " 'location': ['node_historical'],\n",
       " 'model_part_name': ['single_node_mesh_s'],\n",
       " 'variable_name': ['SCALAR_DISPLACEMENT']}"
      ]
     },
     "execution_count": 50,
     "metadata": {},
     "output_type": "execute_result"
    }
   ],
   "source": [
    "kb.get_instance_properties('instance_20')"
   ]
  },
  {
   "cell_type": "code",
   "execution_count": 51,
   "id": "c5ef3987",
   "metadata": {},
   "outputs": [
    {
     "data": {
      "text/plain": [
       "{'label': ['lift_force'],\n",
       " 'location': ['node_historical'],\n",
       " 'model_part_name': ['single_node_mesh_s'],\n",
       " 'variable_name': ['SCALAR_FORCE']}"
      ]
     },
     "execution_count": 51,
     "metadata": {},
     "output_type": "execute_result"
    }
   ],
   "source": [
    "kb.get_instance_properties('instance_21')"
   ]
  },
  {
   "cell_type": "markdown",
   "id": "78cfaf4f",
   "metadata": {},
   "source": [
    "Coping data for the second solver from the first one"
   ]
  },
  {
   "cell_type": "code",
   "execution_count": 54,
   "id": "b3499e89",
   "metadata": {},
   "outputs": [
    {
     "data": {
      "text/plain": [
       "'instance_77'"
      ]
     },
     "execution_count": 54,
     "metadata": {},
     "output_type": "execute_result"
    }
   ],
   "source": [
    "displacements = kb.copy_instance(displacements, SM, {\n",
    "    'model_part_name': 'Structure.interface',\n",
    "    'variable_name': 'DISPLACEMENT'})\n",
    "\n",
    "displacements"
   ]
  },
  {
   "cell_type": "markdown",
   "id": "09125e64",
   "metadata": {},
   "source": [
    "Copying another data from the first solver"
   ]
  },
  {
   "cell_type": "code",
   "execution_count": 55,
   "id": "499e69fa",
   "metadata": {},
   "outputs": [
    {
     "data": {
      "text/plain": [
       "'instance_78'"
      ]
     },
     "execution_count": 55,
     "metadata": {},
     "output_type": "execute_result"
    }
   ],
   "source": [
    "lift_force = kb.copy_instance(lift_force, SM, {\n",
    "    'model_part_name': 'Structure.interface',\n",
    "    'variable_name': 'POINT_LOAD'})\n",
    "\n",
    "lift_force"
   ]
  },
  {
   "cell_type": "markdown",
   "id": "e0a3cbc2",
   "metadata": {},
   "source": [
    "Checking existing wrapper settings of the second solver"
   ]
  },
  {
   "cell_type": "code",
   "execution_count": 56,
   "id": "b68f4906",
   "metadata": {},
   "outputs": [
    {
     "data": {
      "text/plain": [
       "{'export_data': ['lift_force'],\n",
       " 'import_data': ['pitch_angle'],\n",
       " 'import_meshes': ['single_node_mesh_s']}"
      ]
     },
     "execution_count": 56,
     "metadata": {},
     "output_type": "execute_result"
    }
   ],
   "source": [
    "kb.get_instance_properties('instance_18')"
   ]
  },
  {
   "cell_type": "markdown",
   "id": "83834660",
   "metadata": {},
   "source": [
    "Creating solver wrapper settings for the second solver"
   ]
  },
  {
   "cell_type": "code",
   "execution_count": 57,
   "id": "40e60b6a",
   "metadata": {},
   "outputs": [
    {
     "data": {
      "text/plain": [
       "'instance_79'"
      ]
     },
     "execution_count": 57,
     "metadata": {},
     "output_type": "execute_result"
    }
   ],
   "source": [
    "solver_wrapper_settings = kb.create_instance('solver_wrapper_settings', SM, {\n",
    "    'input_file': 'ProjectParametersSM'})\n",
    "\n",
    "solver_wrapper_settings"
   ]
  },
  {
   "cell_type": "markdown",
   "id": "ab309762",
   "metadata": {},
   "source": [
    "Exporting created coupled system in JSON"
   ]
  },
  {
   "cell_type": "code",
   "execution_count": 59,
   "id": "4009b038",
   "metadata": {},
   "outputs": [
    {
     "data": {
      "text/plain": [
       "{'problem_data': {'echo_level': 2,\n",
       "  'end_time': 1.0,\n",
       "  'parallel_type': 'OpenMP',\n",
       "  'print_colors': True,\n",
       "  'start_time': 0.0},\n",
       " 'solver_settings': {'convergence_accelerators': [{'data_name': 'displacements',\n",
       "    'solver': 'CFD',\n",
       "    'type': 'aitken'}],\n",
       "  'convergence_criteria': [{'abs_tolerance': 1e-07,\n",
       "    'data_name': 'displacements',\n",
       "    'rel_tolerance': 1e-05,\n",
       "    'solver': 'CFD',\n",
       "    'type': 'relative_norm_initial_residual'}],\n",
       "  'coupling_sequence': [{'name': 'CFD'},\n",
       "   {'name': 'SM',\n",
       "    'output_data_list': [{'data': 'displacements',\n",
       "      'data_transfer_operator': 'mapping_operation',\n",
       "      'to_solver': 'CFD',\n",
       "      'to_solver_data': 'displacements'}]}],\n",
       "  'echo_level': 4,\n",
       "  'num_coupling_iterations': 20,\n",
       "  'solvers': {'CFD': {'data': {'displacements': {'dimensions': 3,\n",
       "      'model_part_name': 'WING',\n",
       "      'variable_name': 'MESH_DISPLACEMENT'},\n",
       "     'lift_force': {'dimensions': 3,\n",
       "      'model_part_name': 'WING',\n",
       "      'variable_name': 'REACTION'}},\n",
       "    'solver_wrapper_settings': {'export_data': ['displacements'],\n",
       "     'import_data': ['lift_force'],\n",
       "     'import_meshes': ['WING']},\n",
       "    'type': 'solver_wrappers.external.remote_controlled_solver_wrapper'},\n",
       "   'SM': {'data': {'displacements': {'dimensions': 3,\n",
       "      'model_part_name': 'Structure.interface',\n",
       "      'variable_name': 'DISPLACEMENT'},\n",
       "     'lift_force': {'dimensions': 3,\n",
       "      'model_part_name': 'Structure.interface',\n",
       "      'variable_name': 'POINT_LOAD'}},\n",
       "    'solver_wrapper_settings': {'input_file': 'ProjectParametersSM'},\n",
       "    'type': 'solver_wrappers.kratos.structural_mechanics_wrapper'}},\n",
       "  'type': 'coupled_solvers.gauss_seidel_strong'}}"
      ]
     },
     "execution_count": 59,
     "metadata": {},
     "output_type": "execute_result"
    }
   ],
   "source": [
    "export = kb.export_coupled_kratos(Onera_FSI)\n",
    "\n",
    "export"
   ]
  },
  {
   "cell_type": "markdown",
   "id": "81b3bc7f",
   "metadata": {},
   "source": [
    "Saving exported data into a file"
   ]
  },
  {
   "cell_type": "code",
   "execution_count": 60,
   "id": "5c9bea79",
   "metadata": {},
   "outputs": [],
   "source": [
    "with open('export_onera_fsi.json', 'w') as file:\n",
    "    json.dump(export, file, indent=2)"
   ]
  },
  {
   "cell_type": "markdown",
   "id": "1105de57",
   "metadata": {},
   "source": [
    "Inferring new classes from the created coupled system"
   ]
  },
  {
   "cell_type": "code",
   "execution_count": 64,
   "id": "c0cad2dd",
   "metadata": {},
   "outputs": [
    {
     "data": {
      "text/plain": [
       "400"
      ]
     },
     "execution_count": 64,
     "metadata": {},
     "output_type": "execute_result"
    }
   ],
   "source": [
    "kb.infer_coupled_structure(Onera_FSI)"
   ]
  },
  {
   "cell_type": "markdown",
   "id": "a8105431",
   "metadata": {},
   "source": [
    "Updating the knowledge base"
   ]
  },
  {
   "cell_type": "code",
   "execution_count": 65,
   "id": "d0def747",
   "metadata": {},
   "outputs": [
    {
     "data": {
      "text/plain": [
       "201"
      ]
     },
     "execution_count": 65,
     "metadata": {},
     "output_type": "execute_result"
    }
   ],
   "source": [
    "kb.save()"
   ]
  },
  {
   "cell_type": "code",
   "execution_count": null,
   "id": "245f2058",
   "metadata": {},
   "outputs": [],
   "source": []
  }
 ],
 "metadata": {
  "kernelspec": {
   "display_name": "Python 3 (ipykernel)",
   "language": "python",
   "name": "python3"
  },
  "language_info": {
   "codemirror_mode": {
    "name": "ipython",
    "version": 3
   },
   "file_extension": ".py",
   "mimetype": "text/x-python",
   "name": "python",
   "nbconvert_exporter": "python",
   "pygments_lexer": "ipython3",
   "version": "3.10.5"
  }
 },
 "nbformat": 4,
 "nbformat_minor": 5
}
