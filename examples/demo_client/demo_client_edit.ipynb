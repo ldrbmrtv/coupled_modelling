{
 "cells": [
  {
   "cell_type": "markdown",
   "id": "89d9908e",
   "metadata": {},
   "source": [
    "# Copying and editing an existing coupled system"
   ]
  },
  {
   "cell_type": "markdown",
   "id": "20d8cbbc",
   "metadata": {},
   "source": [
    "Connecting to the knowledge base"
   ]
  },
  {
   "cell_type": "code",
   "execution_count": 1,
   "id": "3d6db8ee",
   "metadata": {},
   "outputs": [
    {
     "data": {
      "text/plain": [
       "<coupled_modelling.coupled_modelling.KnowledgeBase at 0x1563d8974d0>"
      ]
     },
     "execution_count": 1,
     "metadata": {},
     "output_type": "execute_result"
    }
   ],
   "source": [
    "from coupled_modelling import KnowledgeBase\n",
    "\n",
    "kb = KnowledgeBase('http://127.0.0.1:5000/api/v1.0/')\n",
    "\n",
    "kb"
   ]
  },
  {
   "cell_type": "markdown",
   "id": "14594abd",
   "metadata": {},
   "source": [
    "Importing an existing coupled systems from the JSON file"
   ]
  },
  {
   "cell_type": "code",
   "execution_count": 2,
   "id": "1674a194",
   "metadata": {},
   "outputs": [],
   "source": [
    "import os\n",
    "import json\n",
    "\n",
    "main_dir = os.path.dirname(os.path.abspath(''))\n",
    "\n",
    "input_path = os.path.join(\n",
    "    main_dir,\n",
    "    'mixed_fid_models/',\n",
    "    'ProjectParametersCoSimFSI.json')\n",
    "\n",
    "with open(input_path) as f:\n",
    "    data = json.load(f)\n",
    "\n",
    "mixed_fid_models = kb.import_kratos('mixed_fid_models', data)"
   ]
  },
  {
   "cell_type": "markdown",
   "id": "e019a55a",
   "metadata": {},
   "source": [
    "To copy an entire coupled system, we set the *recursive* parameter as *True*"
   ]
  },
  {
   "cell_type": "code",
   "execution_count": 3,
   "id": "de928f6c",
   "metadata": {},
   "outputs": [
    {
     "data": {
      "text/plain": [
       "{'label': 'mixed_fid_models',\n",
       " 'problem_data': {'instance_63': {'echo_level': 0,\n",
       "   'end_time': 1.0,\n",
       "   'parallel_type': 'OpenMP',\n",
       "   'print_colors': True,\n",
       "   'start_time': 0.0}},\n",
       " 'solver_settings': {'instance_44': {'convergence_accelerators': [{'instance_62': {'data_name': 'pitch_angle',\n",
       "      'solver': 'low_fid_fluid',\n",
       "      'type': 'aitken'}}],\n",
       "   'convergence_criteria': [{'instance_59': {'abs_tolerance': 1e-07,\n",
       "      'data_name': 'pitch_angle',\n",
       "      'rel_tolerance': 1e-05,\n",
       "      'solver': 'low_fid_fluid',\n",
       "      'type': 'relative_norm_previous_residual'}}],\n",
       "   'coupling_sequence': [{'instance_45': {'name': 'low_fid_fluid'}},\n",
       "    {'instance_46': {'input_data_list': [{'instance_48': {'data': 'lift_force',\n",
       "         'data_transfer_operator': 'direct_transfer',\n",
       "         'from_solver': 'low_fid_fluid',\n",
       "         'from_solver_data': 'lift_force'}}],\n",
       "      'name': 'spring_structure',\n",
       "      'output_data_list': [{'instance_47': {'data': 'pitch_angle',\n",
       "         'data_transfer_operator': 'direct_transfer',\n",
       "         'to_solver': 'low_fid_fluid',\n",
       "         'to_solver_data': 'pitch_angle'}}]}}],\n",
       "   'data_transfer_operators': {'instance_60': {'label': 'direct_transfer',\n",
       "     'mapper_settings': {'instance_61': {'echo_level': 3,\n",
       "       'mapper_type': 'nearest_neighbor'}},\n",
       "     'type': 'kratos_mapping'}},\n",
       "   'echo_level': 3,\n",
       "   'num_coupling_iterations': 20,\n",
       "   'solvers': [{'instance_49': {'data': [{'instance_51': {'label': 'pitch_angle',\n",
       "         'location': 'node_historical',\n",
       "         'model_part_name': 'single_node_mesh_f',\n",
       "         'variable_name': 'SCALAR_DISPLACEMENT'}},\n",
       "       {'instance_52': {'label': 'lift_force',\n",
       "         'location': 'node_historical',\n",
       "         'model_part_name': 'single_node_mesh_f',\n",
       "         'variable_name': 'SCALAR_FORCE'}}],\n",
       "      'io_settings': {'instance_50': {'communication_format': 'file',\n",
       "        'connect_to': 'run_fluid',\n",
       "        'echo_level': 4,\n",
       "        'type': 'kratos_co_sim_io'}},\n",
       "      'label': 'low_fid_fluid',\n",
       "      'solver_wrapper_settings': {'instance_53': {'export_data': ['pitch_angle'],\n",
       "        'import_data': ['lift_force'],\n",
       "        'import_meshes': ['single_node_mesh_f']}},\n",
       "      'type': 'solver_wrappers.external.remote_controlled_solver_wrapper'}},\n",
       "    {'instance_54': {'data': [{'instance_56': {'label': 'pitch_angle',\n",
       "         'location': 'node_historical',\n",
       "         'model_part_name': 'single_node_mesh_s',\n",
       "         'variable_name': 'SCALAR_DISPLACEMENT'}},\n",
       "       {'instance_57': {'label': 'lift_force',\n",
       "         'location': 'node_historical',\n",
       "         'model_part_name': 'single_node_mesh_s',\n",
       "         'variable_name': 'SCALAR_FORCE'}}],\n",
       "      'io_settings': {'instance_55': {'communication_format': 'file',\n",
       "        'connect_to': 'run_structure',\n",
       "        'echo_level': 4,\n",
       "        'type': 'kratos_co_sim_io'}},\n",
       "      'label': 'spring_structure',\n",
       "      'solver_wrapper_settings': {'instance_58': {'export_data': ['lift_force'],\n",
       "        'import_data': ['pitch_angle'],\n",
       "        'import_meshes': ['single_node_mesh_s']}},\n",
       "      'type': 'solver_wrappers.external.remote_controlled_solver_wrapper'}}],\n",
       "   'type': 'coupled_solvers.gauss_seidel_strong'}}}"
      ]
     },
     "execution_count": 3,
     "metadata": {},
     "output_type": "execute_result"
    }
   ],
   "source": [
    "Onera_FSI = mixed_fid_models.make_copy(recursive=True)\n",
    "Onera_FSI.get_properties(recursive=True)"
   ]
  },
  {
   "cell_type": "markdown",
   "id": "a6c80888",
   "metadata": {},
   "source": [
    "To edit a copy of the coupled system, we can use the *.replace_values()* method of corresponding instances"
   ]
  },
  {
   "cell_type": "code",
   "execution_count": 4,
   "id": "44f5aefd",
   "metadata": {},
   "outputs": [
    {
     "data": {
      "text/plain": [
       "{'label': 'Onera_FSI',\n",
       " 'problem_data': 'instance_63',\n",
       " 'solver_settings': 'instance_44'}"
      ]
     },
     "execution_count": 4,
     "metadata": {},
     "output_type": "execute_result"
    }
   ],
   "source": [
    "Onera_FSI.replace_values({'label': 'Onera_FSI'})\n",
    "Onera_FSI.get_properties()"
   ]
  },
  {
   "cell_type": "markdown",
   "id": "ab1ab4e4",
   "metadata": {},
   "source": [
    "Updating problem data"
   ]
  },
  {
   "cell_type": "code",
   "execution_count": 5,
   "id": "13cbc2db",
   "metadata": {},
   "outputs": [
    {
     "data": {
      "text/plain": [
       "'instance_63'"
      ]
     },
     "execution_count": 5,
     "metadata": {},
     "output_type": "execute_result"
    }
   ],
   "source": [
    "problem_data = Onera_FSI.properties['problem_data']\n",
    "\n",
    "problem_data"
   ]
  },
  {
   "cell_type": "code",
   "execution_count": 6,
   "id": "3e996464",
   "metadata": {},
   "outputs": [
    {
     "data": {
      "text/plain": [
       "{'echo_level': 0,\n",
       " 'end_time': 1.0,\n",
       " 'parallel_type': 'OpenMP',\n",
       " 'print_colors': True,\n",
       " 'start_time': 0.0}"
      ]
     },
     "execution_count": 6,
     "metadata": {},
     "output_type": "execute_result"
    }
   ],
   "source": [
    "problem_data = kb.get_instance(problem_data)\n",
    "problem_data.get_properties()"
   ]
  },
  {
   "cell_type": "code",
   "execution_count": 7,
   "id": "a83f842b",
   "metadata": {},
   "outputs": [
    {
     "data": {
      "text/plain": [
       "{'echo_level': 2,\n",
       " 'end_time': 1.0,\n",
       " 'parallel_type': 'OpenMP',\n",
       " 'print_colors': True,\n",
       " 'start_time': 0.0}"
      ]
     },
     "execution_count": 7,
     "metadata": {},
     "output_type": "execute_result"
    }
   ],
   "source": [
    "problem_data.replace_values({'echo_level': 2})\n",
    "problem_data.properties"
   ]
  },
  {
   "cell_type": "markdown",
   "id": "4dba81e7",
   "metadata": {},
   "source": [
    "Updating solver settings"
   ]
  },
  {
   "cell_type": "code",
   "execution_count": 8,
   "id": "ad7e0321",
   "metadata": {},
   "outputs": [
    {
     "data": {
      "text/plain": [
       "'instance_44'"
      ]
     },
     "execution_count": 8,
     "metadata": {},
     "output_type": "execute_result"
    }
   ],
   "source": [
    "solver_settings = Onera_FSI.properties['solver_settings']\n",
    "\n",
    "solver_settings"
   ]
  },
  {
   "cell_type": "code",
   "execution_count": 9,
   "id": "274cc81c",
   "metadata": {},
   "outputs": [
    {
     "data": {
      "text/plain": [
       "{'convergence_accelerators': ['instance_62'],\n",
       " 'convergence_criteria': ['instance_59'],\n",
       " 'coupling_sequence': ['instance_45', 'instance_46'],\n",
       " 'data_transfer_operators': 'instance_60',\n",
       " 'echo_level': 3,\n",
       " 'num_coupling_iterations': 20,\n",
       " 'solvers': ['instance_49', 'instance_54'],\n",
       " 'type': 'coupled_solvers.gauss_seidel_strong'}"
      ]
     },
     "execution_count": 9,
     "metadata": {},
     "output_type": "execute_result"
    }
   ],
   "source": [
    "solver_settings = kb.get_instance(solver_settings)\n",
    "solver_settings.get_properties()"
   ]
  },
  {
   "cell_type": "code",
   "execution_count": 10,
   "id": "8a620921",
   "metadata": {},
   "outputs": [
    {
     "data": {
      "text/plain": [
       "{'convergence_accelerators': ['instance_62'],\n",
       " 'convergence_criteria': ['instance_59'],\n",
       " 'coupling_sequence': ['instance_45', 'instance_46'],\n",
       " 'data_transfer_operators': 'instance_60',\n",
       " 'echo_level': 4,\n",
       " 'num_coupling_iterations': 20,\n",
       " 'solvers': ['instance_49', 'instance_54'],\n",
       " 'type': 'coupled_solvers.gauss_seidel_strong'}"
      ]
     },
     "execution_count": 10,
     "metadata": {},
     "output_type": "execute_result"
    }
   ],
   "source": [
    "solver_settings.replace_values({'echo_level': 4})\n",
    "solver_settings.properties"
   ]
  },
  {
   "cell_type": "markdown",
   "id": "e607504d",
   "metadata": {},
   "source": [
    "Updating convergence accelerators"
   ]
  },
  {
   "cell_type": "code",
   "execution_count": 11,
   "id": "a03e9e2d",
   "metadata": {},
   "outputs": [
    {
     "data": {
      "text/plain": [
       "['instance_62']"
      ]
     },
     "execution_count": 11,
     "metadata": {},
     "output_type": "execute_result"
    }
   ],
   "source": [
    "convergence_accelerators = solver_settings.properties['convergence_accelerators']\n",
    "\n",
    "convergence_accelerators"
   ]
  },
  {
   "cell_type": "code",
   "execution_count": 12,
   "id": "f40ddc5d",
   "metadata": {},
   "outputs": [
    {
     "data": {
      "text/plain": [
       "{'data_name': 'pitch_angle', 'solver': 'low_fid_fluid', 'type': 'aitken'}"
      ]
     },
     "execution_count": 12,
     "metadata": {},
     "output_type": "execute_result"
    }
   ],
   "source": [
    "convergence_accelerators = kb.get_instance(convergence_accelerators[0])\n",
    "convergence_accelerators.get_properties()"
   ]
  },
  {
   "cell_type": "code",
   "execution_count": 13,
   "id": "25bbd7af",
   "metadata": {},
   "outputs": [
    {
     "data": {
      "text/plain": [
       "{'data_name': 'displacements', 'solver': 'CFD', 'type': 'aitken'}"
      ]
     },
     "execution_count": 13,
     "metadata": {},
     "output_type": "execute_result"
    }
   ],
   "source": [
    "convergence_accelerators.replace_values({'data_name': 'displacements', 'solver': 'CFD'})\n",
    "convergence_accelerators.properties"
   ]
  },
  {
   "cell_type": "markdown",
   "id": "a2b03edd",
   "metadata": {},
   "source": [
    "Updating convergence criteria"
   ]
  },
  {
   "cell_type": "code",
   "execution_count": 14,
   "id": "a65aaf1e",
   "metadata": {},
   "outputs": [
    {
     "data": {
      "text/plain": [
       "['instance_59']"
      ]
     },
     "execution_count": 14,
     "metadata": {},
     "output_type": "execute_result"
    }
   ],
   "source": [
    "convergence_criteria = solver_settings.properties['convergence_criteria']\n",
    "\n",
    "convergence_criteria"
   ]
  },
  {
   "cell_type": "code",
   "execution_count": 15,
   "id": "b3f2dc90",
   "metadata": {},
   "outputs": [
    {
     "data": {
      "text/plain": [
       "{'abs_tolerance': 1e-07,\n",
       " 'data_name': 'displacements',\n",
       " 'rel_tolerance': 1e-05,\n",
       " 'solver': 'CFD',\n",
       " 'type': 'relative_norm_initial_residual'}"
      ]
     },
     "execution_count": 15,
     "metadata": {},
     "output_type": "execute_result"
    }
   ],
   "source": [
    "convergence_criteria = kb.get_instance(convergence_criteria[0])\n",
    "convergence_criteria.replace_values({\n",
    "    'data_name': 'displacements',\n",
    "    'solver': 'CFD',\n",
    "    'type': 'relative_norm_initial_residual'\n",
    "})\n",
    "convergence_criteria.properties"
   ]
  },
  {
   "cell_type": "markdown",
   "id": "5f434535",
   "metadata": {},
   "source": [
    "Updating coupling sequence"
   ]
  },
  {
   "cell_type": "code",
   "execution_count": 16,
   "id": "edaab85b",
   "metadata": {},
   "outputs": [
    {
     "data": {
      "text/plain": [
       "['instance_45', 'instance_46']"
      ]
     },
     "execution_count": 16,
     "metadata": {},
     "output_type": "execute_result"
    }
   ],
   "source": [
    "coupling_sequence = solver_settings.properties['coupling_sequence']\n",
    "\n",
    "coupling_sequence"
   ]
  },
  {
   "cell_type": "code",
   "execution_count": 17,
   "id": "925d12ec",
   "metadata": {},
   "outputs": [
    {
     "data": {
      "text/plain": [
       "{'name': 'CFD'}"
      ]
     },
     "execution_count": 17,
     "metadata": {},
     "output_type": "execute_result"
    }
   ],
   "source": [
    "coupling_sequence_0 = kb.get_instance(coupling_sequence[0])\n",
    "coupling_sequence_0.replace_values({'name': 'CFD'})\n",
    "coupling_sequence_0.properties"
   ]
  },
  {
   "cell_type": "code",
   "execution_count": 18,
   "id": "2fa6951e",
   "metadata": {},
   "outputs": [
    {
     "data": {
      "text/plain": [
       "{'input_data_list': ['instance_48'],\n",
       " 'name': 'SM',\n",
       " 'output_data_list': ['instance_47']}"
      ]
     },
     "execution_count": 18,
     "metadata": {},
     "output_type": "execute_result"
    }
   ],
   "source": [
    "coupling_sequence_1 = kb.get_instance(coupling_sequence[1])\n",
    "coupling_sequence_1.replace_values({'name': 'SM'})\n",
    "coupling_sequence_1.properties"
   ]
  },
  {
   "cell_type": "markdown",
   "id": "4f96f15d",
   "metadata": {},
   "source": [
    "Updating input data list"
   ]
  },
  {
   "cell_type": "code",
   "execution_count": 19,
   "id": "93c1c05c",
   "metadata": {},
   "outputs": [
    {
     "data": {
      "text/plain": [
       "['instance_48']"
      ]
     },
     "execution_count": 19,
     "metadata": {},
     "output_type": "execute_result"
    }
   ],
   "source": [
    "input_data_list = coupling_sequence_1.properties['input_data_list']\n",
    "\n",
    "input_data_list"
   ]
  },
  {
   "cell_type": "code",
   "execution_count": 20,
   "id": "f58744e5",
   "metadata": {},
   "outputs": [
    {
     "data": {
      "text/plain": [
       "{'data': 'lift_force',\n",
       " 'data_transfer_operator': 'direct_transfer',\n",
       " 'from_solver': 'low_fid_fluid',\n",
       " 'from_solver_data': 'lift_force'}"
      ]
     },
     "execution_count": 20,
     "metadata": {},
     "output_type": "execute_result"
    }
   ],
   "source": [
    "input_data_list = kb.get_instance(input_data_list[0])\n",
    "input_data_list.get_properties()"
   ]
  },
  {
   "cell_type": "code",
   "execution_count": 21,
   "id": "01c6a3a1",
   "metadata": {},
   "outputs": [
    {
     "data": {
      "text/plain": [
       "{'data': 'lift_force',\n",
       " 'data_transfer_operator': 'mapping_operation',\n",
       " 'from_solver': 'CFD',\n",
       " 'from_solver_data': 'lift_force'}"
      ]
     },
     "execution_count": 21,
     "metadata": {},
     "output_type": "execute_result"
    }
   ],
   "source": [
    "input_data_list.replace_values({\n",
    "   'data_transfer_operator': 'mapping_operation',\n",
    "   'from_solver': 'CFD'\n",
    "})\n",
    "input_data_list.properties"
   ]
  },
  {
   "cell_type": "markdown",
   "id": "d4184c64",
   "metadata": {},
   "source": [
    "However, we want also to add *data_transfer_operator_options*, which are not present in the copy. This can be done with the *.add_values()* method\n"
   ]
  },
  {
   "cell_type": "code",
   "execution_count": 22,
   "id": "68734023",
   "metadata": {},
   "outputs": [
    {
     "data": {
      "text/plain": [
       "{'data': 'lift_force',\n",
       " 'data_transfer_operator': 'mapping_operation',\n",
       " 'data_transfer_operator_options': ['use_transpose'],\n",
       " 'from_solver': 'CFD',\n",
       " 'from_solver_data': 'lift_force'}"
      ]
     },
     "execution_count": 22,
     "metadata": {},
     "output_type": "execute_result"
    }
   ],
   "source": [
    "input_data_list.add_values({'data_transfer_operator_options': 'use_transpose'})\n",
    "input_data_list.properties"
   ]
  },
  {
   "cell_type": "markdown",
   "id": "48799db3",
   "metadata": {},
   "source": [
    "Updating output data list"
   ]
  },
  {
   "cell_type": "code",
   "execution_count": 23,
   "id": "dcbee175",
   "metadata": {},
   "outputs": [
    {
     "data": {
      "text/plain": [
       "['instance_47']"
      ]
     },
     "execution_count": 23,
     "metadata": {},
     "output_type": "execute_result"
    }
   ],
   "source": [
    "output_data_list = coupling_sequence_1.properties['output_data_list']\n",
    "\n",
    "output_data_list"
   ]
  },
  {
   "cell_type": "code",
   "execution_count": 24,
   "id": "91e4c789",
   "metadata": {},
   "outputs": [
    {
     "data": {
      "text/plain": [
       "{'data': 'displacements',\n",
       " 'data_transfer_operator': 'mapping_operation',\n",
       " 'to_solver': 'CFD',\n",
       " 'to_solver_data': 'displacements'}"
      ]
     },
     "execution_count": 24,
     "metadata": {},
     "output_type": "execute_result"
    }
   ],
   "source": [
    "output_data_list = kb.get_instance(output_data_list[0])\n",
    "output_data_list.replace_values({\n",
    "    'data': 'displacements',\n",
    "    'data_transfer_operator': 'mapping_operation',\n",
    "    'to_solver': 'CFD',\n",
    "    'to_solver_data': 'displacements'\n",
    "})\n",
    "output_data_list.properties"
   ]
  },
  {
   "cell_type": "markdown",
   "id": "5fa54b0e",
   "metadata": {},
   "source": [
    "Updating data transfer operators"
   ]
  },
  {
   "cell_type": "code",
   "execution_count": 25,
   "id": "94afc0bc",
   "metadata": {},
   "outputs": [
    {
     "data": {
      "text/plain": [
       "'instance_60'"
      ]
     },
     "execution_count": 25,
     "metadata": {},
     "output_type": "execute_result"
    }
   ],
   "source": [
    "mapping_operation = solver_settings.properties['data_transfer_operators']\n",
    "\n",
    "mapping_operation"
   ]
  },
  {
   "cell_type": "code",
   "execution_count": 26,
   "id": "f6dfea89",
   "metadata": {},
   "outputs": [
    {
     "data": {
      "text/plain": [
       "{'label': 'mapping_operation',\n",
       " 'mapper_settings': 'instance_61',\n",
       " 'type': 'kratos_mapping'}"
      ]
     },
     "execution_count": 26,
     "metadata": {},
     "output_type": "execute_result"
    }
   ],
   "source": [
    "mapping_operation = kb.get_instance(mapping_operation)\n",
    "mapping_operation.replace_values({'label': 'mapping_operation'})\n",
    "mapping_operation.properties"
   ]
  },
  {
   "cell_type": "markdown",
   "id": "1ff03f3f",
   "metadata": {},
   "source": [
    "Updating mapper settings"
   ]
  },
  {
   "cell_type": "code",
   "execution_count": 27,
   "id": "eee56630",
   "metadata": {},
   "outputs": [
    {
     "data": {
      "text/plain": [
       "'instance_61'"
      ]
     },
     "execution_count": 27,
     "metadata": {},
     "output_type": "execute_result"
    }
   ],
   "source": [
    "mapper_settings = mapping_operation.properties['mapper_settings']\n",
    "\n",
    "mapper_settings"
   ]
  },
  {
   "cell_type": "code",
   "execution_count": 28,
   "id": "a6ef3214",
   "metadata": {},
   "outputs": [
    {
     "data": {
      "text/plain": [
       "{'echo_level': 3, 'mapper_type': 'nearest_neighbor'}"
      ]
     },
     "execution_count": 28,
     "metadata": {},
     "output_type": "execute_result"
    }
   ],
   "source": [
    "mapper_settings = kb.get_instance(mapper_settings)\n",
    "mapper_settings.get_properties()"
   ]
  },
  {
   "cell_type": "markdown",
   "id": "18738e67",
   "metadata": {},
   "source": [
    "Besides of adding *use_initial_configuration*, we also need to delete *echo_level*. This is implemented with the *.delete_values()* method"
   ]
  },
  {
   "cell_type": "code",
   "execution_count": 29,
   "id": "db0a49b8",
   "metadata": {},
   "outputs": [
    {
     "data": {
      "text/plain": [
       "{'mapper_type': 'nearest_neighbor', 'use_initial_configuration': True}"
      ]
     },
     "execution_count": 29,
     "metadata": {},
     "output_type": "execute_result"
    }
   ],
   "source": [
    "mapper_settings.delete_values(['echo_level'])\n",
    "mapper_settings.add_values({'use_initial_configuration': True})\n",
    "mapper_settings.properties"
   ]
  },
  {
   "cell_type": "markdown",
   "id": "20566ba8",
   "metadata": {},
   "source": [
    "Updating the first solver"
   ]
  },
  {
   "cell_type": "code",
   "execution_count": 30,
   "id": "86385139",
   "metadata": {},
   "outputs": [
    {
     "data": {
      "text/plain": [
       "'instance_49'"
      ]
     },
     "execution_count": 30,
     "metadata": {},
     "output_type": "execute_result"
    }
   ],
   "source": [
    "CFD = solver_settings.properties['solvers'][0]\n",
    "\n",
    "CFD"
   ]
  },
  {
   "cell_type": "code",
   "execution_count": 31,
   "id": "28f3822a",
   "metadata": {},
   "outputs": [
    {
     "data": {
      "text/plain": [
       "{'data': ['instance_51', 'instance_52'],\n",
       " 'io_settings': 'instance_50',\n",
       " 'label': 'CFD',\n",
       " 'solver_wrapper_settings': 'instance_53',\n",
       " 'type': 'solver_wrappers.external.remote_controlled_solver_wrapper'}"
      ]
     },
     "execution_count": 31,
     "metadata": {},
     "output_type": "execute_result"
    }
   ],
   "source": [
    "CFD = kb.get_instance(CFD)\n",
    "CFD.replace_values({'label': 'CFD'})\n",
    "CFD.properties"
   ]
  },
  {
   "cell_type": "markdown",
   "id": "a88fbd30",
   "metadata": {},
   "source": [
    "Updating the first item of data"
   ]
  },
  {
   "cell_type": "code",
   "execution_count": 32,
   "id": "1655c44f",
   "metadata": {},
   "outputs": [
    {
     "data": {
      "text/plain": [
       "'instance_51'"
      ]
     },
     "execution_count": 32,
     "metadata": {},
     "output_type": "execute_result"
    }
   ],
   "source": [
    "displacements = CFD.properties['data'][0]\n",
    "\n",
    "displacements"
   ]
  },
  {
   "cell_type": "code",
   "execution_count": 33,
   "id": "3e14c6ad",
   "metadata": {},
   "outputs": [
    {
     "data": {
      "text/plain": [
       "{'label': 'pitch_angle',\n",
       " 'location': 'node_historical',\n",
       " 'model_part_name': 'single_node_mesh_f',\n",
       " 'variable_name': 'SCALAR_DISPLACEMENT'}"
      ]
     },
     "execution_count": 33,
     "metadata": {},
     "output_type": "execute_result"
    }
   ],
   "source": [
    "displacements = kb.get_instance(displacements)\n",
    "displacements.get_properties()"
   ]
  },
  {
   "cell_type": "markdown",
   "id": "a4bbd0ef",
   "metadata": {},
   "source": [
    "We need to delete *location* and add *dimensions*. Instead of calling both *.delete_values()* and *.add_values()*, we can replace the entire set of properties with *.replace_properties()*"
   ]
  },
  {
   "cell_type": "code",
   "execution_count": 34,
   "id": "ccd7161b",
   "metadata": {},
   "outputs": [
    {
     "data": {
      "text/plain": [
       "{'dimensions': 3,\n",
       " 'label': 'displacements',\n",
       " 'model_part_name': 'WING',\n",
       " 'variable_name': 'MESH_DISPLACEMENT'}"
      ]
     },
     "execution_count": 34,
     "metadata": {},
     "output_type": "execute_result"
    }
   ],
   "source": [
    "displacements.replace_properties({\n",
    "    'label': 'displacements',\n",
    "    'model_part_name': 'WING',\n",
    "    'variable_name': 'MESH_DISPLACEMENT',\n",
    "    'dimensions': 3\n",
    "})\n",
    "displacements.properties"
   ]
  },
  {
   "cell_type": "markdown",
   "id": "8ce83085",
   "metadata": {},
   "source": [
    "Updating the second item of data"
   ]
  },
  {
   "cell_type": "code",
   "execution_count": 35,
   "id": "894ce161",
   "metadata": {},
   "outputs": [
    {
     "data": {
      "text/plain": [
       "'instance_52'"
      ]
     },
     "execution_count": 35,
     "metadata": {},
     "output_type": "execute_result"
    }
   ],
   "source": [
    "lift_force = CFD.properties['data'][1]\n",
    "\n",
    "lift_force"
   ]
  },
  {
   "cell_type": "code",
   "execution_count": 36,
   "id": "b430986c",
   "metadata": {},
   "outputs": [
    {
     "data": {
      "text/plain": [
       "{'dimensions': 3, 'model_part_name': 'WING', 'variable_name': 'REACTION'}"
      ]
     },
     "execution_count": 36,
     "metadata": {},
     "output_type": "execute_result"
    }
   ],
   "source": [
    "lift_force = kb.get_instance(lift_force)\n",
    "lift_force.replace_properties({\n",
    "    'model_part_name': 'WING',\n",
    "    'variable_name': 'REACTION',\n",
    "    'dimensions': 3\n",
    "})\n",
    "lift_force.properties"
   ]
  },
  {
   "cell_type": "markdown",
   "id": "3d98600e",
   "metadata": {},
   "source": [
    "Updating *io_settings*"
   ]
  },
  {
   "cell_type": "code",
   "execution_count": 37,
   "id": "72de3bbc",
   "metadata": {},
   "outputs": [
    {
     "data": {
      "text/plain": [
       "'instance_50'"
      ]
     },
     "execution_count": 37,
     "metadata": {},
     "output_type": "execute_result"
    }
   ],
   "source": [
    "io_settings = CFD.properties['io_settings']\n",
    "\n",
    "io_settings"
   ]
  },
  {
   "cell_type": "code",
   "execution_count": 38,
   "id": "157bbfd1",
   "metadata": {},
   "outputs": [
    {
     "data": {
      "text/plain": [
       "{'communication_format': 'file',\n",
       " 'connect_to': 'run_SU2',\n",
       " 'echo_level': 4,\n",
       " 'type': 'kratos_co_sim_io'}"
      ]
     },
     "execution_count": 38,
     "metadata": {},
     "output_type": "execute_result"
    }
   ],
   "source": [
    "io_settings = kb.get_instance(io_settings)\n",
    "io_settings.replace_values({'connect_to': 'run_SU2'})\n",
    "io_settings.properties"
   ]
  },
  {
   "cell_type": "markdown",
   "id": "c6a9321b",
   "metadata": {},
   "source": [
    "Updating solver wrapper settings"
   ]
  },
  {
   "cell_type": "code",
   "execution_count": 39,
   "id": "ac28449c",
   "metadata": {},
   "outputs": [
    {
     "data": {
      "text/plain": [
       "'instance_53'"
      ]
     },
     "execution_count": 39,
     "metadata": {},
     "output_type": "execute_result"
    }
   ],
   "source": [
    "solver_wrapper_settings = CFD.properties['solver_wrapper_settings']\n",
    "\n",
    "solver_wrapper_settings"
   ]
  },
  {
   "cell_type": "code",
   "execution_count": 40,
   "id": "58f2ad08",
   "metadata": {},
   "outputs": [
    {
     "data": {
      "text/plain": [
       "{'export_data': ['displacements'],\n",
       " 'import_data': ['lift_force'],\n",
       " 'import_meshes': ['WING']}"
      ]
     },
     "execution_count": 40,
     "metadata": {},
     "output_type": "execute_result"
    }
   ],
   "source": [
    "solver_wrapper_settings = kb.get_instance(solver_wrapper_settings)\n",
    "solver_wrapper_settings.replace_values({\n",
    "    'export_data': 'displacements',\n",
    "    'import_meshes': 'WING'\n",
    "})\n",
    "solver_wrapper_settings.properties"
   ]
  },
  {
   "cell_type": "markdown",
   "id": "4ce4ba28",
   "metadata": {},
   "source": [
    "Updating the second solver"
   ]
  },
  {
   "cell_type": "code",
   "execution_count": 41,
   "id": "7fc147a8",
   "metadata": {},
   "outputs": [
    {
     "data": {
      "text/plain": [
       "'instance_54'"
      ]
     },
     "execution_count": 41,
     "metadata": {},
     "output_type": "execute_result"
    }
   ],
   "source": [
    "SM = solver_settings.properties['solvers'][1]\n",
    "\n",
    "SM"
   ]
  },
  {
   "cell_type": "code",
   "execution_count": 42,
   "id": "8072f585",
   "metadata": {},
   "outputs": [
    {
     "data": {
      "text/plain": [
       "{'data': ['instance_56', 'instance_57'],\n",
       " 'io_settings': 'instance_55',\n",
       " 'label': 'spring_structure',\n",
       " 'solver_wrapper_settings': 'instance_58',\n",
       " 'type': 'solver_wrappers.external.remote_controlled_solver_wrapper'}"
      ]
     },
     "execution_count": 42,
     "metadata": {},
     "output_type": "execute_result"
    }
   ],
   "source": [
    "SM = kb.get_instance(SM)\n",
    "SM.get_properties()"
   ]
  },
  {
   "cell_type": "markdown",
   "id": "7c0f9d27",
   "metadata": {},
   "source": [
    "In this case, it is still easier to delete *io_settings* and to replace *label* and *type*"
   ]
  },
  {
   "cell_type": "code",
   "execution_count": 43,
   "id": "aa62324c",
   "metadata": {},
   "outputs": [
    {
     "data": {
      "text/plain": [
       "{'data': ['instance_56', 'instance_57'],\n",
       " 'label': 'SM',\n",
       " 'solver_wrapper_settings': 'instance_58',\n",
       " 'type': 'solver_wrappers.kratos.structural_mechanics_wrapper'}"
      ]
     },
     "execution_count": 43,
     "metadata": {},
     "output_type": "execute_result"
    }
   ],
   "source": [
    "SM.delete_values(['io_settings'])\n",
    "SM.replace_values({\n",
    "    'label': 'SM',\n",
    "    'type': 'solver_wrappers.kratos.structural_mechanics_wrapper'\n",
    "})\n",
    "SM.properties"
   ]
  },
  {
   "cell_type": "markdown",
   "id": "f9a9b036",
   "metadata": {},
   "source": [
    "Updating the first data item"
   ]
  },
  {
   "cell_type": "code",
   "execution_count": 44,
   "id": "20877295",
   "metadata": {},
   "outputs": [
    {
     "data": {
      "text/plain": [
       "'instance_56'"
      ]
     },
     "execution_count": 44,
     "metadata": {},
     "output_type": "execute_result"
    }
   ],
   "source": [
    "displacements = SM.properties['data'][0]\n",
    "\n",
    "displacements"
   ]
  },
  {
   "cell_type": "code",
   "execution_count": 45,
   "id": "d7874b86",
   "metadata": {},
   "outputs": [
    {
     "data": {
      "text/plain": [
       "{'dimention': 3,\n",
       " 'label': 'displacements',\n",
       " 'model_part_name': 'Structure.interface',\n",
       " 'variable_name': 'DISPLACEMENT'}"
      ]
     },
     "execution_count": 45,
     "metadata": {},
     "output_type": "execute_result"
    }
   ],
   "source": [
    "displacements = kb.get_instance(displacements)\n",
    "displacements.replace_properties({\n",
    "    'label': 'displacements',\n",
    "    'model_part_name': 'Structure.interface',\n",
    "    'variable_name': 'DISPLACEMENT',\n",
    "    'dimention': 3\n",
    "})\n",
    "displacements.properties"
   ]
  },
  {
   "cell_type": "markdown",
   "id": "69a81999",
   "metadata": {},
   "source": [
    "Updating the second data item"
   ]
  },
  {
   "cell_type": "code",
   "execution_count": 46,
   "id": "5c9ec4b9",
   "metadata": {},
   "outputs": [
    {
     "data": {
      "text/plain": [
       "'instance_57'"
      ]
     },
     "execution_count": 46,
     "metadata": {},
     "output_type": "execute_result"
    }
   ],
   "source": [
    "lift_force = SM.properties['data'][1]\n",
    "\n",
    "lift_force"
   ]
  },
  {
   "cell_type": "code",
   "execution_count": 47,
   "id": "d13666d6",
   "metadata": {},
   "outputs": [
    {
     "data": {
      "text/plain": [
       "{'dimention': 3,\n",
       " 'label': 'lift_force',\n",
       " 'model_part_name': 'Structure.interface',\n",
       " 'variable_name': 'POINT_LOAD'}"
      ]
     },
     "execution_count": 47,
     "metadata": {},
     "output_type": "execute_result"
    }
   ],
   "source": [
    "lift_force = kb.get_instance(lift_force)\n",
    "lift_force.replace_properties({\n",
    "    'label': 'lift_force',\n",
    "    'model_part_name': 'Structure.interface',\n",
    "    'variable_name': 'POINT_LOAD',\n",
    "    'dimention': 3\n",
    "})\n",
    "lift_force.properties"
   ]
  },
  {
   "cell_type": "markdown",
   "id": "9294c06f",
   "metadata": {},
   "source": [
    "Updating solver wrapper settings"
   ]
  },
  {
   "cell_type": "code",
   "execution_count": 48,
   "id": "8af48e45",
   "metadata": {},
   "outputs": [
    {
     "data": {
      "text/plain": [
       "'instance_58'"
      ]
     },
     "execution_count": 48,
     "metadata": {},
     "output_type": "execute_result"
    }
   ],
   "source": [
    "solver_wrapper_settings = SM.properties['solver_wrapper_settings']\n",
    "\n",
    "solver_wrapper_settings"
   ]
  },
  {
   "cell_type": "code",
   "execution_count": 49,
   "id": "dabdc1de",
   "metadata": {},
   "outputs": [
    {
     "data": {
      "text/plain": [
       "{'input_file': 'ProjectParametersSM'}"
      ]
     },
     "execution_count": 49,
     "metadata": {},
     "output_type": "execute_result"
    }
   ],
   "source": [
    "solver_wrapper_settings = kb.get_instance(solver_wrapper_settings)\n",
    "solver_wrapper_settings.replace_properties({'input_file': 'ProjectParametersSM'})\n",
    "solver_wrapper_settings.properties"
   ]
  },
  {
   "cell_type": "markdown",
   "id": "ab309762",
   "metadata": {},
   "source": [
    "Exporting created coupled system in a Kratos-compatible JSON format"
   ]
  },
  {
   "cell_type": "code",
   "execution_count": 50,
   "id": "4009b038",
   "metadata": {},
   "outputs": [
    {
     "data": {
      "text/plain": [
       "{'problem_data': {'echo_level': 2,\n",
       "  'end_time': 1.0,\n",
       "  'parallel_type': 'OpenMP',\n",
       "  'print_colors': True,\n",
       "  'start_time': 0.0},\n",
       " 'solver_settings': {'convergence_accelerators': [{'data_name': 'displacements',\n",
       "    'solver': 'CFD',\n",
       "    'type': 'aitken'}],\n",
       "  'convergence_criteria': [{'abs_tolerance': 1e-07,\n",
       "    'data_name': 'displacements',\n",
       "    'rel_tolerance': 1e-05,\n",
       "    'solver': 'CFD',\n",
       "    'type': 'relative_norm_initial_residual'}],\n",
       "  'coupling_sequence': [{'name': 'CFD'},\n",
       "   {'input_data_list': [{'data': 'lift_force',\n",
       "      'data_transfer_operator': 'mapping_operation',\n",
       "      'data_transfer_operator_options': ['use_transpose'],\n",
       "      'from_solver': 'CFD',\n",
       "      'from_solver_data': 'lift_force'}],\n",
       "    'name': 'SM',\n",
       "    'output_data_list': [{'data': 'displacements',\n",
       "      'data_transfer_operator': 'mapping_operation',\n",
       "      'to_solver': 'CFD',\n",
       "      'to_solver_data': 'displacements'}]}],\n",
       "  'data_transfer_operators': {'mapping_operation': {'mapper_settings': {'mapper_type': 'nearest_neighbor',\n",
       "     'use_initial_configuration': True},\n",
       "    'type': 'kratos_mapping'}},\n",
       "  'echo_level': 4,\n",
       "  'num_coupling_iterations': 20,\n",
       "  'solvers': {'CFD': {'data': {'displacements': {'dimensions': 3,\n",
       "      'model_part_name': 'WING',\n",
       "      'variable_name': 'MESH_DISPLACEMENT'},\n",
       "     'variable_name': 'REACTION'},\n",
       "    'io_settings': {'communication_format': 'file',\n",
       "     'connect_to': 'run_SU2',\n",
       "     'echo_level': 4,\n",
       "     'type': 'kratos_co_sim_io'},\n",
       "    'solver_wrapper_settings': {'export_data': ['displacements'],\n",
       "     'import_data': ['lift_force'],\n",
       "     'import_meshes': ['WING']},\n",
       "    'type': 'solver_wrappers.external.remote_controlled_solver_wrapper'},\n",
       "   'SM': {'data': {'displacements': {'dimention': 3,\n",
       "      'model_part_name': 'Structure.interface',\n",
       "      'variable_name': 'DISPLACEMENT'},\n",
       "     'lift_force': {'dimention': 3,\n",
       "      'model_part_name': 'Structure.interface',\n",
       "      'variable_name': 'POINT_LOAD'}},\n",
       "    'solver_wrapper_settings': {'input_file': 'ProjectParametersSM'},\n",
       "    'type': 'solver_wrappers.kratos.structural_mechanics_wrapper'}},\n",
       "  'type': 'coupled_solvers.gauss_seidel_strong'}}"
      ]
     },
     "execution_count": 50,
     "metadata": {},
     "output_type": "execute_result"
    }
   ],
   "source": [
    "export = Onera_FSI.export_kratos()\n",
    "\n",
    "export"
   ]
  },
  {
   "cell_type": "markdown",
   "id": "81b3bc7f",
   "metadata": {},
   "source": [
    "Saving exported data into a file"
   ]
  },
  {
   "cell_type": "code",
   "execution_count": 51,
   "id": "5c9bea79",
   "metadata": {},
   "outputs": [],
   "source": [
    "export_path = os.path.join(\n",
    "    os.path.abspath(''),\n",
    "    'export_onera_fsi.json')\n",
    "\n",
    "with open(export_path, 'w') as file:\n",
    "    json.dump(export, file, indent=2)"
   ]
  },
  {
   "cell_type": "markdown",
   "id": "1105de57",
   "metadata": {},
   "source": [
    "Inferring new ontology classes from the created coupled system"
   ]
  },
  {
   "cell_type": "code",
   "execution_count": 52,
   "id": "c0cad2dd",
   "metadata": {},
   "outputs": [
    {
     "data": {
      "text/plain": [
       "''"
      ]
     },
     "execution_count": 52,
     "metadata": {},
     "output_type": "execute_result"
    }
   ],
   "source": [
    "Onera_FSI.infer_classes()"
   ]
  },
  {
   "cell_type": "markdown",
   "id": "ed7337bd-a1cf-4cdc-93cb-3de597df888b",
   "metadata": {},
   "source": [
    "To check the infered classes, we can retrieve the class hierarchy of the knowledge base"
   ]
  },
  {
   "cell_type": "code",
   "execution_count": 53,
   "id": "592b6fd7",
   "metadata": {},
   "outputs": [
    {
     "data": {
      "text/plain": [
       "{'communication_format': [],\n",
       " 'connect_to': [],\n",
       " 'convergence_accelerators': ['convergence_accelerators_1'],\n",
       " 'convergence_criteria': ['convergence_criteria_1'],\n",
       " 'coupled_system': ['coupled_system_1'],\n",
       " 'coupling_sequence': ['coupling_sequence_1', 'coupling_sequence_2'],\n",
       " 'data': ['data_1'],\n",
       " 'data_name': [],\n",
       " 'data_transfer_operator': [],\n",
       " 'data_transfer_operator_options': [],\n",
       " 'data_transfer_operators': ['data_transfer_operators_1'],\n",
       " 'export_data': [],\n",
       " 'from_solver': [],\n",
       " 'from_solver_data': [],\n",
       " 'import_data': [],\n",
       " 'import_meshes': [],\n",
       " 'input_data_list': ['input_data_list_1'],\n",
       " 'input_file': [],\n",
       " 'io_settings': ['io_settings_1'],\n",
       " 'location': [],\n",
       " 'mapper_settings': ['mapper_settings_1'],\n",
       " 'mapper_type': [],\n",
       " 'model_part_name': [],\n",
       " 'name': [],\n",
       " 'output_data_list': ['output_data_list_1'],\n",
       " 'parallel_type': [],\n",
       " 'problem_data': ['problem_data_1'],\n",
       " 'solver': [],\n",
       " 'solver_settings': ['solver_settings_1'],\n",
       " 'solver_wrapper_settings': ['solver_wrapper_settings_1',\n",
       "  'solver_wrapper_settings_2'],\n",
       " 'solvers': ['solvers_1', 'solvers_2'],\n",
       " 'to_solver': [],\n",
       " 'to_solver_data': [],\n",
       " 'type': [],\n",
       " 'variable_name': []}"
      ]
     },
     "execution_count": 53,
     "metadata": {},
     "output_type": "execute_result"
    }
   ],
   "source": [
    "kb.get_class_hierarchy()"
   ]
  }
 ],
 "metadata": {
  "kernelspec": {
   "display_name": "Python 3",
   "language": "python",
   "name": "python3"
  },
  "language_info": {
   "codemirror_mode": {
    "name": "ipython",
    "version": 3
   },
   "file_extension": ".py",
   "mimetype": "text/x-python",
   "name": "python",
   "nbconvert_exporter": "python",
   "pygments_lexer": "ipython3",
   "version": "3.12.9"
  }
 },
 "nbformat": 4,
 "nbformat_minor": 5
}
