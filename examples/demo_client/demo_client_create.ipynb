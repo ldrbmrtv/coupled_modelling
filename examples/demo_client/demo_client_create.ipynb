{
 "cells": [
  {
   "cell_type": "markdown",
   "id": "89d9908e",
   "metadata": {},
   "source": [
    "# Creating a new coupled system step by step"
   ]
  },
  {
   "cell_type": "markdown",
   "id": "20d8cbbc",
   "metadata": {},
   "source": [
    "Connecting to the knowledge base"
   ]
  },
  {
   "cell_type": "code",
   "execution_count": 1,
   "id": "3d6db8ee",
   "metadata": {},
   "outputs": [
    {
     "data": {
      "text/plain": [
       "<coupled_modelling.coupled_modelling.KnowledgeBase at 0x1c9608574d0>"
      ]
     },
     "execution_count": 1,
     "metadata": {},
     "output_type": "execute_result"
    }
   ],
   "source": [
    "from coupled_modelling import KnowledgeBase\n",
    "\n",
    "kb = KnowledgeBase('http://127.0.0.1:5000/api/v1.0/')\n",
    "\n",
    "kb"
   ]
  },
  {
   "cell_type": "markdown",
   "id": "14594abd",
   "metadata": {},
   "source": [
    "Importing an existing coupled system from the JSON file"
   ]
  },
  {
   "cell_type": "code",
   "execution_count": 2,
   "id": "1674a194",
   "metadata": {},
   "outputs": [
    {
     "data": {
      "text/plain": [
       "<coupled_modelling.coupled_modelling.CoupledSystem at 0x1c960537110>"
      ]
     },
     "execution_count": 2,
     "metadata": {},
     "output_type": "execute_result"
    }
   ],
   "source": [
    "import os\n",
    "import json\n",
    "\n",
    "main_dir = os.path.dirname(os.path.abspath(''))\n",
    "\n",
    "input_path = os.path.join(\n",
    "    main_dir,\n",
    "    'mixed_fid_models/',\n",
    "    'ProjectParametersCoSimFSI.json')\n",
    "\n",
    "with open(input_path) as f:\n",
    "    data = json.load(f)\n",
    "\n",
    "mixed_fid_models = kb.import_kratos('mixed_fid_models', data)\n",
    "\n",
    "mixed_fid_models"
   ]
  },
  {
   "cell_type": "markdown",
   "id": "8dfdb187",
   "metadata": {},
   "source": [
    "Creating a new coupled system instance"
   ]
  },
  {
   "cell_type": "code",
   "execution_count": 3,
   "id": "80147c9c",
   "metadata": {},
   "outputs": [
    {
     "data": {
      "text/plain": [
       "<coupled_modelling.coupled_modelling.CoupledSystem at 0x1c96092ccb0>"
      ]
     },
     "execution_count": 3,
     "metadata": {},
     "output_type": "execute_result"
    }
   ],
   "source": [
    "Onera_FSI = kb.create_coupled('Onera_FSI')\n",
    "\n",
    "Onera_FSI"
   ]
  },
  {
   "cell_type": "markdown",
   "id": "2b5866d5",
   "metadata": {},
   "source": [
    "We guess a new couple system is similar to *mixed_fid_models* and can reuse its properties"
   ]
  },
  {
   "cell_type": "code",
   "execution_count": 4,
   "id": "36d6ccf8",
   "metadata": {},
   "outputs": [
    {
     "data": {
      "text/plain": [
       "{'label': 'mixed_fid_models',\n",
       " 'problem_data': 'instance_79',\n",
       " 'solver_settings': 'instance_80'}"
      ]
     },
     "execution_count": 4,
     "metadata": {},
     "output_type": "execute_result"
    }
   ],
   "source": [
    "mixed_fid_models.get_properties()\n"
   ]
  },
  {
   "cell_type": "markdown",
   "id": "9878e01c",
   "metadata": {},
   "source": [
    "Let's explore problem data of *mixed_fid_models*"
   ]
  },
  {
   "cell_type": "code",
   "execution_count": 5,
   "id": "f4f3bb55",
   "metadata": {},
   "outputs": [
    {
     "data": {
      "text/plain": [
       "'instance_79'"
      ]
     },
     "execution_count": 5,
     "metadata": {},
     "output_type": "execute_result"
    }
   ],
   "source": [
    "mixed_fid_models.properties['problem_data']"
   ]
  },
  {
   "cell_type": "code",
   "execution_count": 6,
   "id": "05f30ea9",
   "metadata": {},
   "outputs": [
    {
     "data": {
      "text/plain": [
       "{'echo_level': 0,\n",
       " 'end_time': 1.0,\n",
       " 'parallel_type': 'OpenMP',\n",
       " 'print_colors': True,\n",
       " 'start_time': 0.0}"
      ]
     },
     "execution_count": 6,
     "metadata": {},
     "output_type": "execute_result"
    }
   ],
   "source": [
    "problem_data_old = kb.get_instance('instance_2')\n",
    "problem_data_old.get_properties()"
   ]
  },
  {
   "cell_type": "markdown",
   "id": "1619b95a",
   "metadata": {},
   "source": [
    "All values of the problem data from *mixed_fid_models* are similar to the new model, except of the *echo_level* value. We make a copy of the old problem data, set a new *echo_level* value and specify the new coupled system as a parent instance"
   ]
  },
  {
   "cell_type": "code",
   "execution_count": 7,
   "id": "660fccf7",
   "metadata": {},
   "outputs": [
    {
     "data": {
      "text/plain": [
       "{'echo_level': 2,\n",
       " 'end_time': 1.0,\n",
       " 'parallel_type': 'OpenMP',\n",
       " 'print_colors': True,\n",
       " 'start_time': 0.0}"
      ]
     },
     "execution_count": 7,
     "metadata": {},
     "output_type": "execute_result"
    }
   ],
   "source": [
    "problem_data_new = problem_data_old.make_copy(Onera_FSI, {'echo_level': 2})\n",
    "problem_data_new.get_properties()"
   ]
  },
  {
   "cell_type": "markdown",
   "id": "e6119a91",
   "metadata": {},
   "source": [
    "Let's explore *solver_settings* of the old model"
   ]
  },
  {
   "cell_type": "code",
   "execution_count": 8,
   "id": "7a1a1604",
   "metadata": {},
   "outputs": [
    {
     "data": {
      "text/plain": [
       "'instance_80'"
      ]
     },
     "execution_count": 8,
     "metadata": {},
     "output_type": "execute_result"
    }
   ],
   "source": [
    "mixed_fid_models.properties['solver_settings']"
   ]
  },
  {
   "cell_type": "code",
   "execution_count": 9,
   "id": "b04d0993",
   "metadata": {},
   "outputs": [
    {
     "data": {
      "text/plain": [
       "{'convergence_accelerators': ['instance_10'],\n",
       " 'convergence_criteria': ['instance_14'],\n",
       " 'coupling_sequence': ['instance_16', 'instance_17'],\n",
       " 'data_transfer_operators': 'instance_6',\n",
       " 'echo_level': 3,\n",
       " 'num_coupling_iterations': 20,\n",
       " 'solvers': ['instance_23', 'instance_36'],\n",
       " 'type': 'coupled_solvers.gauss_seidel_strong'}"
      ]
     },
     "execution_count": 9,
     "metadata": {},
     "output_type": "execute_result"
    }
   ],
   "source": [
    "solver_settings_old = kb.get_instance('instance_4')\n",
    "solver_settings_old.get_properties()"
   ]
  },
  {
   "cell_type": "markdown",
   "id": "b426d0b6",
   "metadata": {},
   "source": [
    "By default, the copying method does not copy nested instances. Thus, we can copy first the solver settings from the existing coupled system with the old *num_coupling_iterations* and *type*, but with a new *echo_level*. Afterwards, we will create instances of convergence accelerators, convergence criteria, coupling sequence, data transfer operators and solvers, and add them to the mew solver settings"
   ]
  },
  {
   "cell_type": "code",
   "execution_count": 10,
   "id": "55b004f1",
   "metadata": {},
   "outputs": [
    {
     "data": {
      "text/plain": [
       "{'echo_level': 4,\n",
       " 'num_coupling_iterations': 20,\n",
       " 'type': 'coupled_solvers.gauss_seidel_strong'}"
      ]
     },
     "execution_count": 10,
     "metadata": {},
     "output_type": "execute_result"
    }
   ],
   "source": [
    "solver_settings_new = solver_settings_old.make_copy(Onera_FSI, {'echo_level': 4})\n",
    "solver_settings_new.get_properties()"
   ]
  },
  {
   "cell_type": "markdown",
   "id": "72be013a",
   "metadata": {},
   "source": [
    "Checking old convergence accelerators"
   ]
  },
  {
   "cell_type": "code",
   "execution_count": 11,
   "id": "a97fc2dd",
   "metadata": {},
   "outputs": [
    {
     "data": {
      "text/plain": [
       "['instance_10']"
      ]
     },
     "execution_count": 11,
     "metadata": {},
     "output_type": "execute_result"
    }
   ],
   "source": [
    "solver_settings_old.properties['convergence_accelerators']"
   ]
  },
  {
   "cell_type": "code",
   "execution_count": 12,
   "id": "01140a16",
   "metadata": {},
   "outputs": [
    {
     "data": {
      "text/plain": [
       "{'data_name': 'pitch_angle', 'solver': 'low_fid_fluid', 'type': 'aitken'}"
      ]
     },
     "execution_count": 12,
     "metadata": {},
     "output_type": "execute_result"
    }
   ],
   "source": [
    "convergence_accelerators_old = kb.get_instance('instance_10')\n",
    "convergence_accelerators_old.get_properties()"
   ]
  },
  {
   "cell_type": "markdown",
   "id": "b31163e4",
   "metadata": {},
   "source": [
    "Only *type* of the existing convergence accelerators can be reused, thus, we create a fresh new instance for new convergence accelerators and specify its class, parent instance and new property values"
   ]
  },
  {
   "cell_type": "code",
   "execution_count": 13,
   "id": "a4e0f436",
   "metadata": {},
   "outputs": [
    {
     "data": {
      "text/plain": [
       "{'data_name': 'displacements', 'solver': 'CFD', 'type': 'aitken'}"
      ]
     },
     "execution_count": 13,
     "metadata": {},
     "output_type": "execute_result"
    }
   ],
   "source": [
    "convergence_accelerators_new = kb.create_instance(\n",
    "    'convergence_accelerators',\n",
    "    solver_settings_new,\n",
    "    {'data_name': 'displacements', 'solver': 'CFD', 'type': 'aitken'})\n",
    "\n",
    "convergence_accelerators_new.get_properties()"
   ]
  },
  {
   "cell_type": "markdown",
   "id": "e6f354c6",
   "metadata": {},
   "source": [
    "Copying convergence criteria, passing new *data_name*, *solver* and *type*"
   ]
  },
  {
   "cell_type": "code",
   "execution_count": 14,
   "id": "7143d162",
   "metadata": {},
   "outputs": [
    {
     "data": {
      "text/plain": [
       "['instance_14']"
      ]
     },
     "execution_count": 14,
     "metadata": {},
     "output_type": "execute_result"
    }
   ],
   "source": [
    "solver_settings_old.properties['convergence_criteria']"
   ]
  },
  {
   "cell_type": "code",
   "execution_count": 15,
   "id": "f984e93c",
   "metadata": {},
   "outputs": [
    {
     "data": {
      "text/plain": [
       "{'abs_tolerance': 1e-07,\n",
       " 'data_name': 'displacements',\n",
       " 'rel_tolerance': 1e-05,\n",
       " 'solver': 'CFD',\n",
       " 'type': 'relative_norm_initial_residual'}"
      ]
     },
     "execution_count": 15,
     "metadata": {},
     "output_type": "execute_result"
    }
   ],
   "source": [
    "convergence_criteria_old = kb.get_instance('instance_14')\n",
    "convergence_criteria_new = convergence_criteria_old.make_copy(solver_settings_new, {\n",
    "    'data_name': 'displacements',\n",
    "    'solver': 'CFD',\n",
    "    'type': 'relative_norm_initial_residual'})\n",
    "convergence_criteria_new.get_properties()"
   ]
  },
  {
   "cell_type": "markdown",
   "id": "e073919f",
   "metadata": {},
   "source": [
    "We create a new coupling sequence by creating its elements one by one"
   ]
  },
  {
   "cell_type": "code",
   "execution_count": 16,
   "id": "617d9472",
   "metadata": {},
   "outputs": [
    {
     "data": {
      "text/plain": [
       "{'name': 'CFD'}"
      ]
     },
     "execution_count": 16,
     "metadata": {},
     "output_type": "execute_result"
    }
   ],
   "source": [
    "coupling_sequence_new_0 = kb.create_instance('coupling_sequence', solver_settings_new, {\n",
    "    'name': 'CFD'})\n",
    "\n",
    "coupling_sequence_new_0.get_properties()"
   ]
  },
  {
   "cell_type": "markdown",
   "id": "e2c7341e",
   "metadata": {},
   "source": [
    "Creating another coupling sequence"
   ]
  },
  {
   "cell_type": "code",
   "execution_count": 17,
   "id": "566ee5f7",
   "metadata": {},
   "outputs": [
    {
     "data": {
      "text/plain": [
       "{'name': 'SM'}"
      ]
     },
     "execution_count": 17,
     "metadata": {},
     "output_type": "execute_result"
    }
   ],
   "source": [
    "coupling_sequence_new_1 = kb.create_instance('coupling_sequence', solver_settings_new, {\n",
    "    'name': 'SM'})\n",
    "\n",
    "coupling_sequence_new_1.get_properties()"
   ]
  },
  {
   "cell_type": "markdown",
   "id": "f67fc584",
   "metadata": {},
   "source": [
    "Let's check properties of the second item of the old coupled sequence"
   ]
  },
  {
   "cell_type": "code",
   "execution_count": 18,
   "id": "e5861a71",
   "metadata": {},
   "outputs": [
    {
     "data": {
      "text/plain": [
       "'instance_17'"
      ]
     },
     "execution_count": 18,
     "metadata": {},
     "output_type": "execute_result"
    }
   ],
   "source": [
    "solver_settings_old.properties['coupling_sequence'][1]"
   ]
  },
  {
   "cell_type": "code",
   "execution_count": 19,
   "id": "70784351",
   "metadata": {},
   "outputs": [
    {
     "data": {
      "text/plain": [
       "{'input_data_list': ['instance_19'],\n",
       " 'name': 'spring_structure',\n",
       " 'output_data_list': ['instance_22']}"
      ]
     },
     "execution_count": 19,
     "metadata": {},
     "output_type": "execute_result"
    }
   ],
   "source": [
    "coupling_sequence_old_1 = kb.get_instance('instance_17')\n",
    "coupling_sequence_old_1.get_properties()"
   ]
  },
  {
   "cell_type": "markdown",
   "id": "f17a0c95",
   "metadata": {},
   "source": [
    "We create new nested instances for the second item in the new coupling sequence by copying nested instances of *coupling_sequence_old_1*."
   ]
  },
  {
   "cell_type": "code",
   "execution_count": 20,
   "id": "0b4a57a6",
   "metadata": {},
   "outputs": [
    {
     "data": {
      "text/plain": [
       "['instance_19']"
      ]
     },
     "execution_count": 20,
     "metadata": {},
     "output_type": "execute_result"
    }
   ],
   "source": [
    "coupling_sequence_old_1.properties['input_data_list']"
   ]
  },
  {
   "cell_type": "code",
   "execution_count": 21,
   "id": "c645c52d",
   "metadata": {},
   "outputs": [
    {
     "data": {
      "text/plain": [
       "{'data': 'lift_force',\n",
       " 'data_transfer_operator': 'mapping_operation',\n",
       " 'data_transfer_operator_options': ['use_transpose'],\n",
       " 'from_solver': 'CFD',\n",
       " 'from_solver_data': 'lift_force'}"
      ]
     },
     "execution_count": 21,
     "metadata": {},
     "output_type": "execute_result"
    }
   ],
   "source": [
    "input_data_list_old = kb.get_instance('instance_19')\n",
    "input_data_list_new = input_data_list_old.make_copy(coupling_sequence_new_1, {\n",
    "    'data_transfer_operator': 'mapping_operation',\n",
    "    'from_solver': 'CFD',\n",
    "    'data_transfer_operator_options': 'use_transpose'})\n",
    "input_data_list_new.get_properties()"
   ]
  },
  {
   "cell_type": "markdown",
   "id": "40465539",
   "metadata": {},
   "source": [
    "Creating a new output data list"
   ]
  },
  {
   "cell_type": "code",
   "execution_count": 22,
   "id": "dd1ed5a8",
   "metadata": {},
   "outputs": [
    {
     "data": {
      "text/plain": [
       "['instance_22']"
      ]
     },
     "execution_count": 22,
     "metadata": {},
     "output_type": "execute_result"
    }
   ],
   "source": [
    "coupling_sequence_old_1.properties['output_data_list']"
   ]
  },
  {
   "cell_type": "code",
   "execution_count": 23,
   "id": "0aa1a9e5",
   "metadata": {},
   "outputs": [
    {
     "data": {
      "text/plain": [
       "{'data': 'displacements',\n",
       " 'data_transfer_operator': 'mapping_operation',\n",
       " 'to_solver': 'CFD',\n",
       " 'to_solver_data': 'displacements'}"
      ]
     },
     "execution_count": 23,
     "metadata": {},
     "output_type": "execute_result"
    }
   ],
   "source": [
    "output_data_list_old = kb.get_instance('instance_22')\n",
    "output_data_list_new = kb.create_instance('output_data_list', coupling_sequence_new_1, {\n",
    "    'data': 'displacements',\n",
    "    'data_transfer_operator': 'mapping_operation',\n",
    "    'to_solver': 'CFD',\n",
    "    'to_solver_data': 'displacements'})\n",
    "output_data_list_new.get_properties()"
   ]
  },
  {
   "cell_type": "markdown",
   "id": "1274e56d",
   "metadata": {},
   "source": [
    "Creating a mapping operation instance as the data transfer operator"
   ]
  },
  {
   "cell_type": "code",
   "execution_count": 24,
   "id": "57d97f2d",
   "metadata": {},
   "outputs": [
    {
     "data": {
      "text/plain": [
       "{'label': 'mapping_operation', 'type': 'kratos_mapping'}"
      ]
     },
     "execution_count": 24,
     "metadata": {},
     "output_type": "execute_result"
    }
   ],
   "source": [
    "mapping_operation = kb.create_instance('data_transfer_operators', solver_settings_new, {\n",
    "    'label': 'mapping_operation',\n",
    "    'type': 'kratos_mapping'})\n",
    "mapping_operation.get_properties()"
   ]
  },
  {
   "cell_type": "markdown",
   "id": "0e721bee",
   "metadata": {},
   "source": [
    "Creating new mapper settings"
   ]
  },
  {
   "cell_type": "code",
   "execution_count": 25,
   "id": "3e8e7eab",
   "metadata": {},
   "outputs": [
    {
     "data": {
      "text/plain": [
       "{'mapper_type': 'nearest_neighbor', 'use_initial_configuration': True}"
      ]
     },
     "execution_count": 25,
     "metadata": {},
     "output_type": "execute_result"
    }
   ],
   "source": [
    "mapper_settings = kb.create_instance('mapper_settings', mapping_operation, {\n",
    "    'mapper_type': 'nearest_neighbor',\n",
    "    'use_initial_configuration': True})\n",
    "mapper_settings.get_properties()"
   ]
  },
  {
   "cell_type": "markdown",
   "id": "af529eda",
   "metadata": {},
   "source": [
    "Checking the first existing solver"
   ]
  },
  {
   "cell_type": "code",
   "execution_count": 26,
   "id": "932a35c8",
   "metadata": {},
   "outputs": [
    {
     "data": {
      "text/plain": [
       "'instance_23'"
      ]
     },
     "execution_count": 26,
     "metadata": {},
     "output_type": "execute_result"
    }
   ],
   "source": [
    "solver_settings_old.properties['solvers'][0]"
   ]
  },
  {
   "cell_type": "code",
   "execution_count": 27,
   "id": "29aef2aa",
   "metadata": {},
   "outputs": [
    {
     "data": {
      "text/plain": [
       "{'data': ['instance_31', 'instance_34'],\n",
       " 'io_settings': 'instance_27',\n",
       " 'label': 'low_fid_fluid',\n",
       " 'solver_wrapper_settings': 'instance_25',\n",
       " 'type': 'solver_wrappers.external.remote_controlled_solver_wrapper'}"
      ]
     },
     "execution_count": 27,
     "metadata": {},
     "output_type": "execute_result"
    }
   ],
   "source": [
    "solver_old_0 = kb.get_instance('instance_23')\n",
    "solver_old_0.get_properties()"
   ]
  },
  {
   "cell_type": "markdown",
   "id": "6bc0bf84",
   "metadata": {},
   "source": [
    "In the new soupled system, we apply the CFD solver. Thus, we creat an instance of the CFD solver by copying the first solver"
   ]
  },
  {
   "cell_type": "code",
   "execution_count": 28,
   "id": "2c83b066",
   "metadata": {},
   "outputs": [
    {
     "data": {
      "text/plain": [
       "{'label': 'CFD',\n",
       " 'type': 'solver_wrappers.external.remote_controlled_solver_wrapper'}"
      ]
     },
     "execution_count": 28,
     "metadata": {},
     "output_type": "execute_result"
    }
   ],
   "source": [
    "CFD = solver_old_0.make_copy(solver_settings_new, {\n",
    "    'label': 'CFD'})\n",
    "CFD.get_properties()"
   ]
  },
  {
   "cell_type": "markdown",
   "id": "71203da6",
   "metadata": {},
   "source": [
    "The old data doesn't fit to the new solver. Creating displacements data for the CFD solver instance"
   ]
  },
  {
   "cell_type": "code",
   "execution_count": 29,
   "id": "b5ef1d45",
   "metadata": {},
   "outputs": [
    {
     "data": {
      "text/plain": [
       "{'dimensions': 3,\n",
       " 'label': 'displacements',\n",
       " 'model_part_name': 'WING',\n",
       " 'variable_name': 'MESH_DISPLACEMENT'}"
      ]
     },
     "execution_count": 29,
     "metadata": {},
     "output_type": "execute_result"
    }
   ],
   "source": [
    "displacements_0 = kb.create_instance('data', CFD, {\n",
    "    'label': 'displacements',\n",
    "    'dimensions': 3,\n",
    "    'model_part_name': 'WING',\n",
    "    'variable_name': 'MESH_DISPLACEMENT'})\n",
    "displacements_0.get_properties()"
   ]
  },
  {
   "cell_type": "markdown",
   "id": "04e2cc4d",
   "metadata": {},
   "source": [
    "Creating lift force data instance for the CFD solver"
   ]
  },
  {
   "cell_type": "code",
   "execution_count": 30,
   "id": "6f2cc27f",
   "metadata": {},
   "outputs": [
    {
     "data": {
      "text/plain": [
       "{'dimensions': 3,\n",
       " 'label': 'lift_force',\n",
       " 'model_part_name': 'WING',\n",
       " 'variable_name': 'REACTION'}"
      ]
     },
     "execution_count": 30,
     "metadata": {},
     "output_type": "execute_result"
    }
   ],
   "source": [
    "lift_force_0 = kb.create_instance('data', CFD, {\n",
    "    'label': 'lift_force',\n",
    "    'dimensions': 3,\n",
    "    'model_part_name': 'WING',\n",
    "    'variable_name': 'REACTION'})\n",
    "lift_force_0.get_properties()"
   ]
  },
  {
   "cell_type": "markdown",
   "id": "e2106c09",
   "metadata": {},
   "source": [
    "Checking old *io_settings*"
   ]
  },
  {
   "cell_type": "code",
   "execution_count": 31,
   "id": "a16ea2d7",
   "metadata": {},
   "outputs": [
    {
     "data": {
      "text/plain": [
       "'instance_27'"
      ]
     },
     "execution_count": 31,
     "metadata": {},
     "output_type": "execute_result"
    }
   ],
   "source": [
    "solver_old_0.properties['io_settings']"
   ]
  },
  {
   "cell_type": "code",
   "execution_count": 32,
   "id": "584e0cef",
   "metadata": {},
   "outputs": [
    {
     "data": {
      "text/plain": [
       "{'communication_format': 'file',\n",
       " 'connect_to': 'run_fluid',\n",
       " 'echo_level': 4,\n",
       " 'type': 'kratos_co_sim_io'}"
      ]
     },
     "execution_count": 32,
     "metadata": {},
     "output_type": "execute_result"
    }
   ],
   "source": [
    "io_settings_old = kb.get_instance('instance_27')\n",
    "io_settings_old.get_properties()"
   ]
  },
  {
   "cell_type": "markdown",
   "id": "cb6c25d4",
   "metadata": {},
   "source": [
    "Copying io settings with a new *connect_to* value"
   ]
  },
  {
   "cell_type": "code",
   "execution_count": 33,
   "id": "e68977b9",
   "metadata": {},
   "outputs": [
    {
     "data": {
      "text/plain": [
       "{'communication_format': 'file',\n",
       " 'connect_to': 'run_SU2',\n",
       " 'echo_level': 4,\n",
       " 'type': 'kratos_co_sim_io'}"
      ]
     },
     "execution_count": 33,
     "metadata": {},
     "output_type": "execute_result"
    }
   ],
   "source": [
    "io_settings_new = io_settings_old.make_copy(CFD, {\n",
    "    'connect_to': 'run_SU2'})\n",
    "io_settings_new.get_properties()"
   ]
  },
  {
   "cell_type": "markdown",
   "id": "7d4a53c0",
   "metadata": {},
   "source": [
    "Checking old solver wrapper settings"
   ]
  },
  {
   "cell_type": "code",
   "execution_count": 34,
   "id": "a1769b45",
   "metadata": {},
   "outputs": [
    {
     "data": {
      "text/plain": [
       "'instance_25'"
      ]
     },
     "execution_count": 34,
     "metadata": {},
     "output_type": "execute_result"
    }
   ],
   "source": [
    "solver_old_0.properties['solver_wrapper_settings']"
   ]
  },
  {
   "cell_type": "code",
   "execution_count": 35,
   "id": "05118015",
   "metadata": {},
   "outputs": [
    {
     "data": {
      "text/plain": [
       "{'export_data': ['pitch_angle'],\n",
       " 'import_data': ['lift_force'],\n",
       " 'import_meshes': ['single_node_mesh_f']}"
      ]
     },
     "execution_count": 35,
     "metadata": {},
     "output_type": "execute_result"
    }
   ],
   "source": [
    "solver_wrapper_settings_old_0 = kb.get_instance('instance_25')\n",
    "solver_wrapper_settings_old_0.get_properties()"
   ]
  },
  {
   "cell_type": "markdown",
   "id": "d6971ddd",
   "metadata": {},
   "source": [
    "Copying solver wrapper settings"
   ]
  },
  {
   "cell_type": "code",
   "execution_count": 36,
   "id": "98e83e94",
   "metadata": {},
   "outputs": [
    {
     "data": {
      "text/plain": [
       "{'export_data': ['displacements'],\n",
       " 'import_data': ['lift_force'],\n",
       " 'import_meshes': ['WING']}"
      ]
     },
     "execution_count": 36,
     "metadata": {},
     "output_type": "execute_result"
    }
   ],
   "source": [
    "solver_wrapper_settings_new_0 = solver_wrapper_settings_old_0.make_copy(CFD, {\n",
    "    'export_data': 'displacements',\n",
    "    'import_meshes': 'WING'})\n",
    "solver_wrapper_settings_new_0.get_properties()"
   ]
  },
  {
   "cell_type": "markdown",
   "id": "27e598e7",
   "metadata": {},
   "source": [
    "Checking the second existing solver"
   ]
  },
  {
   "cell_type": "code",
   "execution_count": 37,
   "id": "8f22c150",
   "metadata": {},
   "outputs": [
    {
     "data": {
      "text/plain": [
       "'instance_36'"
      ]
     },
     "execution_count": 37,
     "metadata": {},
     "output_type": "execute_result"
    }
   ],
   "source": [
    "solver_settings_old.properties['solvers'][1]"
   ]
  },
  {
   "cell_type": "code",
   "execution_count": 38,
   "id": "78070bfe",
   "metadata": {},
   "outputs": [
    {
     "data": {
      "text/plain": [
       "{'data': ['instance_41', 'instance_42'],\n",
       " 'io_settings': 'instance_39',\n",
       " 'label': 'spring_structure',\n",
       " 'solver_wrapper_settings': 'instance_37',\n",
       " 'type': 'solver_wrappers.external.remote_controlled_solver_wrapper'}"
      ]
     },
     "execution_count": 38,
     "metadata": {},
     "output_type": "execute_result"
    }
   ],
   "source": [
    "solver_old_1 = kb.get_instance('instance_36')\n",
    "solver_old_1.get_properties()"
   ]
  },
  {
   "cell_type": "markdown",
   "id": "c26c5822",
   "metadata": {},
   "source": [
    "As the second solver for the new coupled system, we creat an instance of the SM solver"
   ]
  },
  {
   "cell_type": "code",
   "execution_count": 39,
   "id": "ce88a906",
   "metadata": {},
   "outputs": [
    {
     "data": {
      "text/plain": [
       "{'label': 'SM', 'type': 'solver_wrappers.kratos.structural_mechanics_wrapper'}"
      ]
     },
     "execution_count": 39,
     "metadata": {},
     "output_type": "execute_result"
    }
   ],
   "source": [
    "SM = kb.create_instance('solvers', solver_settings_new, {\n",
    "    'label': 'SM',\n",
    "    'type': 'solver_wrappers.kratos.structural_mechanics_wrapper'})\n",
    "SM.get_properties()"
   ]
  },
  {
   "cell_type": "markdown",
   "id": "78cfaf4f",
   "metadata": {},
   "source": [
    "Coping data for the second new solver from the first one"
   ]
  },
  {
   "cell_type": "code",
   "execution_count": 40,
   "id": "b3499e89",
   "metadata": {},
   "outputs": [
    {
     "data": {
      "text/plain": [
       "{'dimensions': 3,\n",
       " 'label': 'displacements',\n",
       " 'model_part_name': 'Structure.interface',\n",
       " 'variable_name': 'DISPLACEMENT'}"
      ]
     },
     "execution_count": 40,
     "metadata": {},
     "output_type": "execute_result"
    }
   ],
   "source": [
    "displacements_1 = displacements_0.make_copy(SM, {\n",
    "    'model_part_name': 'Structure.interface',\n",
    "    'variable_name': 'DISPLACEMENT'})\n",
    "displacements_1.get_properties()"
   ]
  },
  {
   "cell_type": "markdown",
   "id": "09125e64",
   "metadata": {},
   "source": [
    "Copying the second data item from the first solver"
   ]
  },
  {
   "cell_type": "code",
   "execution_count": 41,
   "id": "499e69fa",
   "metadata": {},
   "outputs": [
    {
     "data": {
      "text/plain": [
       "{'dimensions': 3,\n",
       " 'label': 'lift_force',\n",
       " 'model_part_name': 'Structure.interface',\n",
       " 'variable_name': 'POINT_LOAD'}"
      ]
     },
     "execution_count": 41,
     "metadata": {},
     "output_type": "execute_result"
    }
   ],
   "source": [
    "lift_force_1 = lift_force_0.make_copy(SM, {\n",
    "    'model_part_name': 'Structure.interface',\n",
    "    'variable_name': 'POINT_LOAD'})\n",
    "lift_force_1.get_properties()"
   ]
  },
  {
   "cell_type": "markdown",
   "id": "83834660",
   "metadata": {},
   "source": [
    "Creating solver wrapper settings for the second new solver"
   ]
  },
  {
   "cell_type": "code",
   "execution_count": 42,
   "id": "40e60b6a",
   "metadata": {},
   "outputs": [
    {
     "data": {
      "text/plain": [
       "{'input_file': 'ProjectParametersSM'}"
      ]
     },
     "execution_count": 42,
     "metadata": {},
     "output_type": "execute_result"
    }
   ],
   "source": [
    "solver_wrapper_settings_new_1 = kb.create_instance('solver_wrapper_settings', SM, {\n",
    "    'input_file': 'ProjectParametersSM'})\n",
    "solver_wrapper_settings_new_1.get_properties()"
   ]
  },
  {
   "cell_type": "markdown",
   "id": "ab309762",
   "metadata": {},
   "source": [
    "Exporting created coupled system in a Kratos-compatible JSON format"
   ]
  },
  {
   "cell_type": "code",
   "execution_count": 44,
   "id": "4009b038",
   "metadata": {},
   "outputs": [
    {
     "data": {
      "text/plain": [
       "{'problem_data': {'echo_level': 2,\n",
       "  'end_time': 1.0,\n",
       "  'parallel_type': 'OpenMP',\n",
       "  'print_colors': True,\n",
       "  'start_time': 0.0},\n",
       " 'solver_settings': {'convergence_accelerators': [{'data_name': 'displacements',\n",
       "    'solver': 'CFD',\n",
       "    'type': 'aitken'}],\n",
       "  'convergence_criteria': [{'abs_tolerance': 1e-07,\n",
       "    'data_name': 'displacements',\n",
       "    'rel_tolerance': 1e-05,\n",
       "    'solver': 'CFD',\n",
       "    'type': 'relative_norm_initial_residual'}],\n",
       "  'coupling_sequence': [{'name': 'CFD'},\n",
       "   {'input_data_list': [{'data': 'lift_force',\n",
       "      'data_transfer_operator': 'mapping_operation',\n",
       "      'data_transfer_operator_options': ['use_transpose'],\n",
       "      'from_solver': 'CFD',\n",
       "      'from_solver_data': 'lift_force'}],\n",
       "    'name': 'SM',\n",
       "    'output_data_list': [{'data': 'displacements',\n",
       "      'data_transfer_operator': 'mapping_operation',\n",
       "      'to_solver': 'CFD',\n",
       "      'to_solver_data': 'displacements'}]}],\n",
       "  'data_transfer_operators': {'mapping_operation': {'mapper_settings': {'mapper_type': 'nearest_neighbor',\n",
       "     'use_initial_configuration': True},\n",
       "    'type': 'kratos_mapping'}},\n",
       "  'echo_level': 4,\n",
       "  'num_coupling_iterations': 20,\n",
       "  'solvers': {'CFD': {'data': {'displacements': {'dimensions': 3,\n",
       "      'model_part_name': 'WING',\n",
       "      'variable_name': 'MESH_DISPLACEMENT'},\n",
       "     'lift_force': {'dimensions': 3,\n",
       "      'model_part_name': 'WING',\n",
       "      'variable_name': 'REACTION'}},\n",
       "    'io_settings': {'communication_format': 'file',\n",
       "     'connect_to': 'run_SU2',\n",
       "     'echo_level': 4,\n",
       "     'type': 'kratos_co_sim_io'},\n",
       "    'solver_wrapper_settings': {'export_data': ['displacements'],\n",
       "     'import_data': ['lift_force'],\n",
       "     'import_meshes': ['WING']},\n",
       "    'type': 'solver_wrappers.external.remote_controlled_solver_wrapper'},\n",
       "   'SM': {'data': {'displacements': {'dimensions': 3,\n",
       "      'model_part_name': 'Structure.interface',\n",
       "      'variable_name': 'DISPLACEMENT'},\n",
       "     'lift_force': {'dimensions': 3,\n",
       "      'model_part_name': 'Structure.interface',\n",
       "      'variable_name': 'POINT_LOAD'}},\n",
       "    'solver_wrapper_settings': {'input_file': 'ProjectParametersSM'},\n",
       "    'type': 'solver_wrappers.kratos.structural_mechanics_wrapper'}},\n",
       "  'type': 'coupled_solvers.gauss_seidel_strong'}}"
      ]
     },
     "execution_count": 44,
     "metadata": {},
     "output_type": "execute_result"
    }
   ],
   "source": [
    "export = Onera_FSI.export_kratos()\n",
    "\n",
    "export"
   ]
  },
  {
   "cell_type": "markdown",
   "id": "81b3bc7f",
   "metadata": {},
   "source": [
    "Saving exported data into a file"
   ]
  },
  {
   "cell_type": "code",
   "execution_count": 45,
   "id": "5c9bea79",
   "metadata": {},
   "outputs": [],
   "source": [
    "export_path = os.path.join(\n",
    "    os.path.abspath(''),\n",
    "    'export_onera_fsi.json')\n",
    "\n",
    "with open(export_path, 'w') as file:\n",
    "    json.dump(export, file, indent=2)"
   ]
  },
  {
   "cell_type": "markdown",
   "id": "85bc6591",
   "metadata": {},
   "source": [
    "Once the coupled system is resolved, we can specify a link to the result"
   ]
  },
  {
   "cell_type": "code",
   "execution_count": 43,
   "id": "d03b807d",
   "metadata": {},
   "outputs": [
    {
     "data": {
      "text/plain": [
       "''"
      ]
     },
     "execution_count": 43,
     "metadata": {},
     "output_type": "execute_result"
    }
   ],
   "source": [
    "Onera_FSI.add_result('https://github.com/ldrbmrtv/coupled_modelling/tree/main/examples/Onera_FSI/results')"
   ]
  },
  {
   "cell_type": "markdown",
   "id": "64365069",
   "metadata": {},
   "source": [
    "Inferring new classes from the created coupled system"
   ]
  },
  {
   "cell_type": "code",
   "execution_count": 46,
   "id": "c0cad2dd",
   "metadata": {},
   "outputs": [
    {
     "data": {
      "text/plain": [
       "''"
      ]
     },
     "execution_count": 46,
     "metadata": {},
     "output_type": "execute_result"
    }
   ],
   "source": [
    "Onera_FSI.infer_classes()"
   ]
  },
  {
   "cell_type": "markdown",
   "id": "eca96b7c",
   "metadata": {},
   "source": [
    "To check the infered classes, we can retrieve the class hierarchy of the knowledge base"
   ]
  },
  {
   "cell_type": "code",
   "execution_count": 47,
   "id": "592b6fd7",
   "metadata": {},
   "outputs": [
    {
     "data": {
      "text/plain": [
       "{'communication_format': [],\n",
       " 'connect_to': [],\n",
       " 'convergence_accelerators': ['convergence_accelerators_1',\n",
       "  'convergence_accelerators_2'],\n",
       " 'convergence_criteria': ['convergence_criteria_1'],\n",
       " 'coupled_system': ['coupled_system_1', 'coupled_system_2'],\n",
       " 'coupling_sequence': ['coupling_sequence_1',\n",
       "  'coupling_sequence_2',\n",
       "  'coupling_sequence_3'],\n",
       " 'data': ['data_1', 'data_2', 'data_3'],\n",
       " 'data_name': [],\n",
       " 'data_transfer_operator': [],\n",
       " 'data_transfer_operator_options': [],\n",
       " 'data_transfer_operators': ['data_transfer_operators_1',\n",
       "  'data_transfer_operators_2'],\n",
       " 'export_data': [],\n",
       " 'from_solver': [],\n",
       " 'from_solver_data': [],\n",
       " 'import_data': [],\n",
       " 'import_meshes': [],\n",
       " 'input_data_list': ['input_data_list_1'],\n",
       " 'input_file': [],\n",
       " 'io_settings': ['io_settings_1'],\n",
       " 'location': [],\n",
       " 'mapper_settings': ['mapper_settings_1', 'mapper_settings_2'],\n",
       " 'mapper_type': [],\n",
       " 'model_part_name': [],\n",
       " 'name': [],\n",
       " 'output_data_list': ['output_data_list_1', 'output_data_list_2'],\n",
       " 'parallel_type': [],\n",
       " 'problem_data': ['problem_data_1'],\n",
       " 'solver': [],\n",
       " 'solver_settings': ['solver_settings_1'],\n",
       " 'solver_wrapper_settings': ['solver_wrapper_settings_1',\n",
       "  'solver_wrapper_settings_2',\n",
       "  'solver_wrapper_settings_3'],\n",
       " 'solvers': ['solvers_1', 'solvers_2', 'solvers_3'],\n",
       " 'to_solver': [],\n",
       " 'to_solver_data': [],\n",
       " 'type': [],\n",
       " 'variable_name': []}"
      ]
     },
     "execution_count": 47,
     "metadata": {},
     "output_type": "execute_result"
    }
   ],
   "source": [
    "kb.get_class_hierarchy()"
   ]
  }
 ],
 "metadata": {
  "kernelspec": {
   "display_name": "Python 3",
   "language": "python",
   "name": "python3"
  },
  "language_info": {
   "codemirror_mode": {
    "name": "ipython",
    "version": 3
   },
   "file_extension": ".py",
   "mimetype": "text/x-python",
   "name": "python",
   "nbconvert_exporter": "python",
   "pygments_lexer": "ipython3",
   "version": "3.12.9"
  }
 },
 "nbformat": 4,
 "nbformat_minor": 5
}
