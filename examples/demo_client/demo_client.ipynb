{
 "cells": [
  {
   "cell_type": "markdown",
   "id": "14594abd",
   "metadata": {},
   "source": [
    "Reading JSON data of an existing coupled system"
   ]
  },
  {
   "cell_type": "code",
   "execution_count": 1,
   "id": "1674a194",
   "metadata": {},
   "outputs": [
    {
     "data": {
      "text/plain": [
       "{'problem_data': {'start_time': 0.0,\n",
       "  'end_time': 1.0,\n",
       "  'echo_level': 0,\n",
       "  'print_colors': True,\n",
       "  'parallel_type': 'OpenMP'},\n",
       " 'solver_settings': {'type': 'coupled_solvers.gauss_seidel_strong',\n",
       "  'num_coupling_iterations': 20,\n",
       "  'echo_level': 3,\n",
       "  'data_transfer_operators': {'direct_transfer': {'type': 'kratos_mapping',\n",
       "    'mapper_settings': {'mapper_type': 'nearest_neighbor', 'echo_level': 3}}},\n",
       "  'predictors': [],\n",
       "  'convergence_accelerators': [{'type': 'aitken',\n",
       "    'solver': 'low_fid_fluid',\n",
       "    'data_name': 'pitch_angle'}],\n",
       "  'convergence_criteria': [{'type': 'relative_norm_previous_residual',\n",
       "    'solver': 'low_fid_fluid',\n",
       "    'data_name': 'pitch_angle',\n",
       "    'abs_tolerance': 1e-07,\n",
       "    'rel_tolerance': 1e-05}],\n",
       "  'coupling_sequence': [{'name': 'low_fid_fluid',\n",
       "    'output_data_list': [],\n",
       "    'input_data_list': []},\n",
       "   {'name': 'spring_structure',\n",
       "    'input_data_list': [{'data': 'lift_force',\n",
       "      'from_solver': 'low_fid_fluid',\n",
       "      'from_solver_data': 'lift_force',\n",
       "      'data_transfer_operator': 'direct_transfer'}],\n",
       "    'output_data_list': [{'data': 'pitch_angle',\n",
       "      'to_solver': 'low_fid_fluid',\n",
       "      'to_solver_data': 'pitch_angle',\n",
       "      'data_transfer_operator': 'direct_transfer'}]}],\n",
       "  'solvers': {'low_fid_fluid': {'type': 'solver_wrappers.external.remote_controlled_solver_wrapper',\n",
       "    'solver_wrapper_settings': {'export_data': ['pitch_angle'],\n",
       "     'import_data': ['lift_force'],\n",
       "     'import_meshes': ['single_node_mesh_f']},\n",
       "    'io_settings': {'type': 'kratos_co_sim_io',\n",
       "     'echo_level': 4,\n",
       "     'connect_to': 'run_fluid',\n",
       "     'communication_format': 'file'},\n",
       "    'data': {'pitch_angle': {'model_part_name': 'single_node_mesh_f',\n",
       "      'variable_name': 'SCALAR_DISPLACEMENT',\n",
       "      'location': 'node_historical'},\n",
       "     'lift_force': {'model_part_name': 'single_node_mesh_f',\n",
       "      'variable_name': 'SCALAR_FORCE',\n",
       "      'location': 'node_historical'}}},\n",
       "   'spring_structure': {'type': 'solver_wrappers.external.remote_controlled_solver_wrapper',\n",
       "    'solver_wrapper_settings': {'export_data': ['lift_force'],\n",
       "     'import_data': ['pitch_angle'],\n",
       "     'import_meshes': ['single_node_mesh_s']},\n",
       "    'io_settings': {'type': 'kratos_co_sim_io',\n",
       "     'echo_level': 4,\n",
       "     'connect_to': 'run_structure',\n",
       "     'communication_format': 'file'},\n",
       "    'data': {'pitch_angle': {'model_part_name': 'single_node_mesh_s',\n",
       "      'variable_name': 'SCALAR_DISPLACEMENT',\n",
       "      'location': 'node_historical'},\n",
       "     'lift_force': {'model_part_name': 'single_node_mesh_s',\n",
       "      'variable_name': 'SCALAR_FORCE',\n",
       "      'location': 'node_historical'}}}}}}"
      ]
     },
     "execution_count": 1,
     "metadata": {},
     "output_type": "execute_result"
    }
   ],
   "source": [
    "import os\n",
    "import json\n",
    "\n",
    "\n",
    "input_path = os.path.join(\n",
    "    os.path.dirname(os.path.abspath('')),\n",
    "    'mixed_fid_models/',\n",
    "    'ProjectParametersCoSimFSI.json')\n",
    "\n",
    "with open(input_path) as f:\n",
    "    data = json.load(f)\n",
    "\n",
    "data"
   ]
  },
  {
   "cell_type": "markdown",
   "id": "20d8cbbc",
   "metadata": {},
   "source": [
    "Connecting to the knowledge base"
   ]
  },
  {
   "cell_type": "code",
   "execution_count": 2,
   "id": "3d6db8ee",
   "metadata": {},
   "outputs": [
    {
     "data": {
      "text/plain": [
       "<coupled_modeling.client.KnowledgeBase at 0x15a4606b7a0>"
      ]
     },
     "execution_count": 2,
     "metadata": {},
     "output_type": "execute_result"
    }
   ],
   "source": [
    "from coupled_modeling import KnowledgeBase\n",
    "\n",
    "kb = KnowledgeBase('http://127.0.0.1:5000/api/v1.0/')\n",
    "\n",
    "kb"
   ]
  },
  {
   "cell_type": "markdown",
   "id": "932e33ab",
   "metadata": {},
   "source": [
    "Importing data of the existing coupled system"
   ]
  },
  {
   "cell_type": "code",
   "execution_count": 3,
   "id": "f3b56b2b",
   "metadata": {},
   "outputs": [
    {
     "data": {
      "text/plain": [
       "'instance_246'"
      ]
     },
     "execution_count": 3,
     "metadata": {},
     "output_type": "execute_result"
    }
   ],
   "source": [
    "mixed_fid_models = kb.import_coupled_kratos('mixed_fid_models', data)\n",
    "\n",
    "mixed_fid_models"
   ]
  },
  {
   "cell_type": "markdown",
   "id": "8dfdb187",
   "metadata": {},
   "source": [
    "Creating a new coupled system"
   ]
  },
  {
   "cell_type": "code",
   "execution_count": 4,
   "id": "80147c9c",
   "metadata": {},
   "outputs": [
    {
     "data": {
      "text/plain": [
       "'instance_267'"
      ]
     },
     "execution_count": 4,
     "metadata": {},
     "output_type": "execute_result"
    }
   ],
   "source": [
    "Onera_FSI = kb.create_coupled('Onera_FSI')\n",
    "\n",
    "Onera_FSI"
   ]
  },
  {
   "cell_type": "markdown",
   "id": "fbd6559d",
   "metadata": {},
   "source": [
    "Checking properties of the imported coupled system"
   ]
  },
  {
   "cell_type": "code",
   "execution_count": 5,
   "id": "60987ba7",
   "metadata": {},
   "outputs": [
    {
     "data": {
      "text/plain": [
       "{'label': ['mixed_fid_models'],\n",
       " 'problem_data': ['instance_247'],\n",
       " 'solver_settings': ['instance_248']}"
      ]
     },
     "execution_count": 5,
     "metadata": {},
     "output_type": "execute_result"
    }
   ],
   "source": [
    "mixed_fid_models_props = kb.get_instance_properties(mixed_fid_models)\n",
    "\n",
    "mixed_fid_models_props"
   ]
  },
  {
   "cell_type": "markdown",
   "id": "270d6616-8c7a-46df-9cf4-a4e7ae43d6fa",
   "metadata": {},
   "source": [
    "Checking problem data of the imported coupled system"
   ]
  },
  {
   "cell_type": "code",
   "execution_count": 6,
   "id": "4ed5cb1b-823b-4b60-9ee0-888ef9e77693",
   "metadata": {},
   "outputs": [
    {
     "data": {
      "text/plain": [
       "{'echo_level': [0],\n",
       " 'end_time': [1.0],\n",
       " 'parallel_type': ['instance_3'],\n",
       " 'print_colors': [True],\n",
       " 'start_time': [0.0]}"
      ]
     },
     "execution_count": 6,
     "metadata": {},
     "output_type": "execute_result"
    }
   ],
   "source": [
    "problem_data_old = mixed_fid_models_props['problem_data'][0]\n",
    "kb.get_instance_properties(problem_data_old)"
   ]
  },
  {
   "cell_type": "markdown",
   "id": "1619b95a",
   "metadata": {},
   "source": [
    "All properties of the existing problem data instance can be reused, except of echo_level. Copying problem data from the existing coupled system with a new echo_level value"
   ]
  },
  {
   "cell_type": "code",
   "execution_count": 7,
   "id": "660fccf7",
   "metadata": {},
   "outputs": [
    {
     "data": {
      "text/plain": [
       "'instance_268'"
      ]
     },
     "execution_count": 7,
     "metadata": {},
     "output_type": "execute_result"
    }
   ],
   "source": [
    "problem_data_new = kb.copy_instance(\n",
    "    problem_data_old,\n",
    "    Onera_FSI,\n",
    "    {'echo_level': 2})\n",
    "\n",
    "problem_data_new"
   ]
  },
  {
   "cell_type": "markdown",
   "id": "c19481fd-7e0c-4602-8118-723db89bc7d1",
   "metadata": {},
   "source": [
    "Getting solver settings of the imported coupled system"
   ]
  },
  {
   "cell_type": "code",
   "execution_count": 8,
   "id": "d1be183c-02b3-493c-ad1b-f41c64abda85",
   "metadata": {},
   "outputs": [
    {
     "data": {
      "text/plain": [
       "{'convergence_accelerators': ['instance_251'],\n",
       " 'convergence_criteria': ['instance_252'],\n",
       " 'coupling_sequence': ['instance_253', 'instance_254'],\n",
       " 'data_transfer_operators': ['instance_249'],\n",
       " 'echo_level': [3],\n",
       " 'num_coupling_iterations': [20],\n",
       " 'solvers': ['instance_257', 'instance_262'],\n",
       " 'type': ['instance_5']}"
      ]
     },
     "execution_count": 8,
     "metadata": {},
     "output_type": "execute_result"
    }
   ],
   "source": [
    "solver_settings_old = mixed_fid_models_props['solver_settings'][0]\n",
    "solver_settings_old_props = kb.get_instance_properties(solver_settings_old)\n",
    "\n",
    "solver_settings_old_props"
   ]
  },
  {
   "cell_type": "markdown",
   "id": "b426d0b6",
   "metadata": {},
   "source": [
    "Copying solver settings from the existing coupled system with a new echo level"
   ]
  },
  {
   "cell_type": "code",
   "execution_count": 9,
   "id": "55b004f1",
   "metadata": {},
   "outputs": [
    {
     "data": {
      "text/plain": [
       "'instance_269'"
      ]
     },
     "execution_count": 9,
     "metadata": {},
     "output_type": "execute_result"
    }
   ],
   "source": [
    "solver_settings_new = kb.copy_instance(\n",
    "    solver_settings_old,\n",
    "    Onera_FSI,\n",
    "    {'echo_level': 4})\n",
    "\n",
    "solver_settings_new"
   ]
  },
  {
   "cell_type": "markdown",
   "id": "69beea41-6428-43e7-846a-68c43069f840",
   "metadata": {},
   "source": [
    "Getting existing convergence accelerators"
   ]
  },
  {
   "cell_type": "code",
   "execution_count": 10,
   "id": "aa073a25-db61-4767-a293-1883914e371d",
   "metadata": {},
   "outputs": [
    {
     "data": {
      "text/plain": [
       "{'data_name': ['instance_13'],\n",
       " 'solver': ['instance_12'],\n",
       " 'type': ['instance_11']}"
      ]
     },
     "execution_count": 10,
     "metadata": {},
     "output_type": "execute_result"
    }
   ],
   "source": [
    "convergence_accelerators_old = solver_settings_old_props['convergence_accelerators'][0]\n",
    "convergence_accelerators_old_props = kb.get_instance_properties(convergence_accelerators_old)\n",
    "\n",
    "convergence_accelerators_old_props"
   ]
  },
  {
   "cell_type": "markdown",
   "id": "6fef2907-2365-45f3-a0c2-ab1d9b4a07bb",
   "metadata": {},
   "source": [
    "Getting properties of the nested instances"
   ]
  },
  {
   "cell_type": "code",
   "execution_count": 11,
   "id": "fa854fc5-100b-4834-9861-23864bb57875",
   "metadata": {},
   "outputs": [
    {
     "data": {
      "text/plain": [
       "{'label': ['pitch_angle']}"
      ]
     },
     "execution_count": 11,
     "metadata": {},
     "output_type": "execute_result"
    }
   ],
   "source": [
    "kb.get_instance_properties(convergence_accelerators_old_props['data_name'][0])"
   ]
  },
  {
   "cell_type": "code",
   "execution_count": 12,
   "id": "a5a02613-8f92-444d-974a-ce695e1eb50c",
   "metadata": {},
   "outputs": [
    {
     "data": {
      "text/plain": [
       "{'label': ['low_fid_fluid']}"
      ]
     },
     "execution_count": 12,
     "metadata": {},
     "output_type": "execute_result"
    }
   ],
   "source": [
    "kb.get_instance_properties(convergence_accelerators_old_props['solver'][0])"
   ]
  },
  {
   "cell_type": "code",
   "execution_count": 13,
   "id": "cea18acc-aa78-4740-8e70-75eba0a862bf",
   "metadata": {},
   "outputs": [
    {
     "data": {
      "text/plain": [
       "{'label': ['aitken']}"
      ]
     },
     "execution_count": 13,
     "metadata": {},
     "output_type": "execute_result"
    }
   ],
   "source": [
    "kb.get_instance_properties(convergence_accelerators_old_props['type'][0])"
   ]
  },
  {
   "cell_type": "markdown",
   "id": "b31163e4",
   "metadata": {},
   "source": [
    "Only type can be reused, creating convergence accelerators for the new coupled system from scratch, passing class, parent instance and property values"
   ]
  },
  {
   "cell_type": "code",
   "execution_count": 14,
   "id": "a4e0f436",
   "metadata": {},
   "outputs": [
    {
     "data": {
      "text/plain": [
       "'instance_270'"
      ]
     },
     "execution_count": 14,
     "metadata": {},
     "output_type": "execute_result"
    }
   ],
   "source": [
    "convergence_accelerators_new = kb.create_instance(\n",
    "    'convergence_accelerators',\n",
    "    solver_settings_new,\n",
    "    {'data_name': 'displacements', 'solver': 'CFD', 'type': 'aitken'})\n",
    "\n",
    "convergence_accelerators_new"
   ]
  },
  {
   "cell_type": "markdown",
   "id": "ae630ab4",
   "metadata": {},
   "source": [
    "Checking existing convergence criteria"
   ]
  },
  {
   "cell_type": "code",
   "execution_count": 15,
   "id": "60854f61",
   "metadata": {},
   "outputs": [
    {
     "data": {
      "text/plain": [
       "{'abs_tolerance': [1e-07],\n",
       " 'data_name': ['instance_13'],\n",
       " 'rel_tolerance': [1e-05],\n",
       " 'solver': ['instance_12'],\n",
       " 'type': ['instance_15']}"
      ]
     },
     "execution_count": 15,
     "metadata": {},
     "output_type": "execute_result"
    }
   ],
   "source": [
    "convergence_criteria_old = solver_settings_old_props['convergence_criteria'][0]\n",
    "kb.get_instance_properties(convergence_criteria_old)"
   ]
  },
  {
   "cell_type": "markdown",
   "id": "e6f354c6",
   "metadata": {},
   "source": [
    "Copying convergence criteria"
   ]
  },
  {
   "cell_type": "code",
   "execution_count": 16,
   "id": "f984e93c",
   "metadata": {},
   "outputs": [
    {
     "data": {
      "text/plain": [
       "'instance_271'"
      ]
     },
     "execution_count": 16,
     "metadata": {},
     "output_type": "execute_result"
    }
   ],
   "source": [
    "convergence_criteria_new = kb.copy_instance(convergence_criteria_old, solver_settings_new, {\n",
    "    'data_name': 'displacements',\n",
    "    'solver': 'CFD',\n",
    "    'type': 'relative_norm_initial_residual'})\n",
    "\n",
    "convergence_criteria_new"
   ]
  },
  {
   "cell_type": "markdown",
   "id": "4f52a785",
   "metadata": {},
   "source": [
    "Checking existing coupling sequences"
   ]
  },
  {
   "cell_type": "code",
   "execution_count": 17,
   "id": "402a2435",
   "metadata": {},
   "outputs": [
    {
     "data": {
      "text/plain": [
       "['instance_253', 'instance_254']"
      ]
     },
     "execution_count": 17,
     "metadata": {},
     "output_type": "execute_result"
    }
   ],
   "source": [
    "coupling_sequence_old = solver_settings_old_props['coupling_sequence']\n",
    "\n",
    "coupling_sequence_old"
   ]
  },
  {
   "cell_type": "code",
   "execution_count": 18,
   "id": "ecec683d-a8d8-4367-9724-7903e7dfbaaa",
   "metadata": {},
   "outputs": [
    {
     "data": {
      "text/plain": [
       "{'name': ['instance_12']}"
      ]
     },
     "execution_count": 18,
     "metadata": {},
     "output_type": "execute_result"
    }
   ],
   "source": [
    "coupling_sequence_old_0 = coupling_sequence_old[0]\n",
    "coupling_sequence_old_0_props = kb.get_instance_properties(coupling_sequence_old_0)\n",
    "\n",
    "coupling_sequence_old_0_props"
   ]
  },
  {
   "cell_type": "code",
   "execution_count": 19,
   "id": "02ae1186-5f55-4d08-9e8f-e1b0ee3c1008",
   "metadata": {},
   "outputs": [
    {
     "data": {
      "text/plain": [
       "{'label': ['low_fid_fluid']}"
      ]
     },
     "execution_count": 19,
     "metadata": {},
     "output_type": "execute_result"
    }
   ],
   "source": [
    "kb.get_instance_properties(coupling_sequence_old_0_props['name'][0])"
   ]
  },
  {
   "cell_type": "code",
   "execution_count": 20,
   "id": "f1cba210",
   "metadata": {},
   "outputs": [
    {
     "data": {
      "text/plain": [
       "{'input_data_list': ['instance_255'],\n",
       " 'name': ['instance_18'],\n",
       " 'output_data_list': ['instance_256']}"
      ]
     },
     "execution_count": 20,
     "metadata": {},
     "output_type": "execute_result"
    }
   ],
   "source": [
    "coupling_sequence_old_1 = coupling_sequence_old[1]\n",
    "coupling_sequence_old_1_props = kb.get_instance_properties(coupling_sequence_old_1)\n",
    "\n",
    "coupling_sequence_old_1_props"
   ]
  },
  {
   "cell_type": "code",
   "execution_count": 21,
   "id": "26d1b83a-b97a-4dc0-bcb4-7fdb95665054",
   "metadata": {},
   "outputs": [
    {
     "data": {
      "text/plain": [
       "{'data': ['instance_20'],\n",
       " 'data_transfer_operator': ['instance_21'],\n",
       " 'from_solver': ['instance_12'],\n",
       " 'from_solver_data': ['instance_20']}"
      ]
     },
     "execution_count": 21,
     "metadata": {},
     "output_type": "execute_result"
    }
   ],
   "source": [
    "input_data_list_old = coupling_sequence_old_1_props['input_data_list'][0]\n",
    "kb.get_instance_properties(input_data_list_old)"
   ]
  },
  {
   "cell_type": "code",
   "execution_count": 22,
   "id": "b23e7d80-4b72-4fac-8e06-f7e43a6b51ae",
   "metadata": {},
   "outputs": [
    {
     "data": {
      "text/plain": [
       "{'label': ['spring_structure']}"
      ]
     },
     "execution_count": 22,
     "metadata": {},
     "output_type": "execute_result"
    }
   ],
   "source": [
    "kb.get_instance_properties(coupling_sequence_old_1_props['name'][0])"
   ]
  },
  {
   "cell_type": "code",
   "execution_count": 23,
   "id": "02b3e024-163c-4f92-b093-8659aa61cb7e",
   "metadata": {},
   "outputs": [
    {
     "data": {
      "text/plain": [
       "{'data': ['instance_13'],\n",
       " 'data_transfer_operator': ['instance_21'],\n",
       " 'to_solver': ['instance_12'],\n",
       " 'to_solver_data': ['instance_13']}"
      ]
     },
     "execution_count": 23,
     "metadata": {},
     "output_type": "execute_result"
    }
   ],
   "source": [
    "output_data_list_old = coupling_sequence_old_1_props['output_data_list'][0]\n",
    "kb.get_instance_properties(output_data_list_old)"
   ]
  },
  {
   "cell_type": "markdown",
   "id": "e073919f",
   "metadata": {},
   "source": [
    "We create a new coupling sequence by creating its elements one by one"
   ]
  },
  {
   "cell_type": "code",
   "execution_count": 24,
   "id": "617d9472",
   "metadata": {},
   "outputs": [
    {
     "data": {
      "text/plain": [
       "'instance_272'"
      ]
     },
     "execution_count": 24,
     "metadata": {},
     "output_type": "execute_result"
    }
   ],
   "source": [
    "coupling_sequence_new_0 = kb.create_instance('coupling_sequence', solver_settings_new, {\n",
    "    'name': 'CFD'})\n",
    "\n",
    "coupling_sequence_new_0"
   ]
  },
  {
   "cell_type": "markdown",
   "id": "e2c7341e",
   "metadata": {},
   "source": [
    "Creating another coupling sequence"
   ]
  },
  {
   "cell_type": "code",
   "execution_count": 25,
   "id": "566ee5f7",
   "metadata": {},
   "outputs": [
    {
     "data": {
      "text/plain": [
       "'instance_273'"
      ]
     },
     "execution_count": 25,
     "metadata": {},
     "output_type": "execute_result"
    }
   ],
   "source": [
    "coupling_sequence_new_1 = kb.create_instance('coupling_sequence', solver_settings_new, {\n",
    "    'name': 'SM'})\n",
    "\n",
    "coupling_sequence_new_1"
   ]
  },
  {
   "cell_type": "markdown",
   "id": "f17a0c95",
   "metadata": {},
   "source": [
    "Then we create nested instances. Copying input data list"
   ]
  },
  {
   "cell_type": "code",
   "execution_count": 26,
   "id": "c645c52d",
   "metadata": {},
   "outputs": [
    {
     "data": {
      "text/plain": [
       "'instance_274'"
      ]
     },
     "execution_count": 26,
     "metadata": {},
     "output_type": "execute_result"
    }
   ],
   "source": [
    "input_data_list_new = kb.copy_instance(input_data_list_old, coupling_sequence_new_1, {\n",
    "    'data_transfer_operator': 'mapping_operation',\n",
    "    'from_solver': 'CFD',\n",
    "    'data_transfer_operator_options': 'use_transpose'})\n",
    "\n",
    "input_data_list_new"
   ]
  },
  {
   "cell_type": "markdown",
   "id": "40465539",
   "metadata": {},
   "source": [
    "Creating a new output data list"
   ]
  },
  {
   "cell_type": "code",
   "execution_count": 27,
   "id": "0aa1a9e5",
   "metadata": {},
   "outputs": [
    {
     "data": {
      "text/plain": [
       "'instance_275'"
      ]
     },
     "execution_count": 27,
     "metadata": {},
     "output_type": "execute_result"
    }
   ],
   "source": [
    "output_data_list_new = kb.create_instance('output_data_list', coupling_sequence_new_1, {\n",
    "    'data': 'displacements',\n",
    "    'data_transfer_operator': 'mapping_operation',\n",
    "    'to_solver': 'CFD',\n",
    "    'to_solver_data': 'displacements'})\n",
    "\n",
    "output_data_list_new"
   ]
  },
  {
   "cell_type": "markdown",
   "id": "6d7bac50",
   "metadata": {},
   "source": [
    "Checking existing data transfer operators"
   ]
  },
  {
   "cell_type": "code",
   "execution_count": 28,
   "id": "b37553f1",
   "metadata": {},
   "outputs": [
    {
     "data": {
      "text/plain": [
       "{'label': ['direct_transfer'],\n",
       " 'mapper_settings': ['instance_250'],\n",
       " 'type': ['instance_7']}"
      ]
     },
     "execution_count": 28,
     "metadata": {},
     "output_type": "execute_result"
    }
   ],
   "source": [
    "data_transfer_operators_old = solver_settings_old_props['data_transfer_operators'][0]\n",
    "data_transfer_operators_old_props = kb.get_instance_properties(data_transfer_operators_old)\n",
    "\n",
    "data_transfer_operators_old_props"
   ]
  },
  {
   "cell_type": "markdown",
   "id": "e68dd3ab",
   "metadata": {},
   "source": [
    "Checking existing mapper settings"
   ]
  },
  {
   "cell_type": "code",
   "execution_count": 29,
   "id": "72f219a6",
   "metadata": {},
   "outputs": [
    {
     "data": {
      "text/plain": [
       "{'echo_level': [3], 'mapper_type': ['instance_9']}"
      ]
     },
     "execution_count": 29,
     "metadata": {},
     "output_type": "execute_result"
    }
   ],
   "source": [
    "direct_transfer = data_transfer_operators_old_props['mapper_settings'][0]\n",
    "kb.get_instance_properties(direct_transfer)"
   ]
  },
  {
   "cell_type": "markdown",
   "id": "1274e56d",
   "metadata": {},
   "source": [
    "Creating mapping operation"
   ]
  },
  {
   "cell_type": "code",
   "execution_count": 30,
   "id": "57d97f2d",
   "metadata": {},
   "outputs": [
    {
     "data": {
      "text/plain": [
       "'instance_276'"
      ]
     },
     "execution_count": 30,
     "metadata": {},
     "output_type": "execute_result"
    }
   ],
   "source": [
    "mapping_operation = kb.create_instance('data_transfer_operators', solver_settings_new, {\n",
    "    'label': 'mapping_operation',\n",
    "    'type': 'kratos_mapping'})\n",
    "\n",
    "mapping_operation"
   ]
  },
  {
   "cell_type": "markdown",
   "id": "0e721bee",
   "metadata": {},
   "source": [
    "Creating new mapper settings"
   ]
  },
  {
   "cell_type": "code",
   "execution_count": 31,
   "id": "3e8e7eab",
   "metadata": {},
   "outputs": [
    {
     "data": {
      "text/plain": [
       "'instance_277'"
      ]
     },
     "execution_count": 31,
     "metadata": {},
     "output_type": "execute_result"
    }
   ],
   "source": [
    "mapper_settings = kb.create_instance('mapper_settings', mapping_operation, {\n",
    "    'mapper_type': 'nearest_neighbor',\n",
    "    'use_initial_configuration': True})\n",
    "\n",
    "mapper_settings"
   ]
  },
  {
   "cell_type": "markdown",
   "id": "8f3e1567",
   "metadata": {},
   "source": [
    "Checking existing solvers"
   ]
  },
  {
   "cell_type": "code",
   "execution_count": 32,
   "id": "3f7bb2c3-a1c1-4b97-8683-775c5c9460b2",
   "metadata": {},
   "outputs": [
    {
     "data": {
      "text/plain": [
       "['instance_257', 'instance_262']"
      ]
     },
     "execution_count": 32,
     "metadata": {},
     "output_type": "execute_result"
    }
   ],
   "source": [
    "solvers_old = solver_settings_old_props['solvers']\n",
    "\n",
    "solvers_old"
   ]
  },
  {
   "cell_type": "markdown",
   "id": "e3e9de9d-8fa6-4f94-8356-49893131ff3a",
   "metadata": {},
   "source": [
    "Checking properties of the first solver"
   ]
  },
  {
   "cell_type": "code",
   "execution_count": 33,
   "id": "dd8ef126",
   "metadata": {},
   "outputs": [
    {
     "data": {
      "text/plain": [
       "{'data': ['instance_260', 'instance_261'],\n",
       " 'io_settings': ['instance_259'],\n",
       " 'label': ['low_fid_fluid'],\n",
       " 'solver_wrapper_settings': ['instance_258'],\n",
       " 'type': ['instance_24']}"
      ]
     },
     "execution_count": 33,
     "metadata": {},
     "output_type": "execute_result"
    }
   ],
   "source": [
    "solver_old_0 = solvers_old[0]\n",
    "solver_old_0_props = kb.get_instance_properties(solver_old_0)\n",
    "\n",
    "solver_old_0_props"
   ]
  },
  {
   "cell_type": "markdown",
   "id": "6bc0bf84",
   "metadata": {},
   "source": [
    "Copying the first solver"
   ]
  },
  {
   "cell_type": "code",
   "execution_count": 34,
   "id": "2c83b066",
   "metadata": {},
   "outputs": [
    {
     "data": {
      "text/plain": [
       "'instance_278'"
      ]
     },
     "execution_count": 34,
     "metadata": {},
     "output_type": "execute_result"
    }
   ],
   "source": [
    "CFD = kb.copy_instance(solver_old_0, solver_settings_new, {\n",
    "    'label': 'CFD'})\n",
    "\n",
    "CFD"
   ]
  },
  {
   "cell_type": "markdown",
   "id": "8ef0a3bd",
   "metadata": {},
   "source": [
    "Checking existing data"
   ]
  },
  {
   "cell_type": "code",
   "execution_count": 35,
   "id": "e462b73e",
   "metadata": {},
   "outputs": [
    {
     "data": {
      "text/plain": [
       "{'label': ['pitch_angle'],\n",
       " 'location': ['instance_33'],\n",
       " 'model_part_name': ['instance_26'],\n",
       " 'variable_name': ['instance_32']}"
      ]
     },
     "execution_count": 35,
     "metadata": {},
     "output_type": "execute_result"
    }
   ],
   "source": [
    "kb.get_instance_properties(solver_old_0_props['data'][0])"
   ]
  },
  {
   "cell_type": "code",
   "execution_count": 36,
   "id": "efb0fed1",
   "metadata": {},
   "outputs": [
    {
     "data": {
      "text/plain": [
       "{'label': ['lift_force'],\n",
       " 'location': ['instance_33'],\n",
       " 'model_part_name': ['instance_26'],\n",
       " 'variable_name': ['instance_35']}"
      ]
     },
     "execution_count": 36,
     "metadata": {},
     "output_type": "execute_result"
    }
   ],
   "source": [
    "kb.get_instance_properties(solver_old_0_props['data'][1])"
   ]
  },
  {
   "cell_type": "markdown",
   "id": "71203da6",
   "metadata": {},
   "source": [
    "Creating new data"
   ]
  },
  {
   "cell_type": "code",
   "execution_count": 37,
   "id": "b5ef1d45",
   "metadata": {},
   "outputs": [
    {
     "data": {
      "text/plain": [
       "'instance_279'"
      ]
     },
     "execution_count": 37,
     "metadata": {},
     "output_type": "execute_result"
    }
   ],
   "source": [
    "displacements_0 = kb.create_instance('data', CFD, {\n",
    "    'label': 'displacements',\n",
    "    'dimensions': 3,\n",
    "    'model_part_name': 'WING',\n",
    "    'variable_name': 'MESH_DISPLACEMENT'})\n",
    "\n",
    "displacements_0"
   ]
  },
  {
   "cell_type": "markdown",
   "id": "04e2cc4d",
   "metadata": {},
   "source": [
    "Creating another data"
   ]
  },
  {
   "cell_type": "code",
   "execution_count": 38,
   "id": "6f2cc27f",
   "metadata": {},
   "outputs": [
    {
     "data": {
      "text/plain": [
       "'instance_280'"
      ]
     },
     "execution_count": 38,
     "metadata": {},
     "output_type": "execute_result"
    }
   ],
   "source": [
    "lift_force_0 = kb.create_instance('data', CFD, {\n",
    "    'label': 'lift_force',\n",
    "    'dimensions': 3,\n",
    "    'model_part_name': 'WING',\n",
    "    'variable_name': 'REACTION'})\n",
    "\n",
    "lift_force_0"
   ]
  },
  {
   "cell_type": "markdown",
   "id": "52a0d1f7",
   "metadata": {},
   "source": [
    "Checking existing IO settings"
   ]
  },
  {
   "cell_type": "code",
   "execution_count": 39,
   "id": "73b9c0da",
   "metadata": {},
   "outputs": [
    {
     "data": {
      "text/plain": [
       "{'communication_format': ['instance_30'],\n",
       " 'connect_to': ['instance_29'],\n",
       " 'echo_level': [4],\n",
       " 'type': ['instance_28']}"
      ]
     },
     "execution_count": 39,
     "metadata": {},
     "output_type": "execute_result"
    }
   ],
   "source": [
    "io_settings_old = solver_old_0_props['io_settings'][0]\n",
    "kb.get_instance_properties(io_settings_old)"
   ]
  },
  {
   "cell_type": "markdown",
   "id": "cb6c25d4",
   "metadata": {},
   "source": [
    "Copying io settings"
   ]
  },
  {
   "cell_type": "code",
   "execution_count": 40,
   "id": "e68977b9",
   "metadata": {},
   "outputs": [
    {
     "data": {
      "text/plain": [
       "'instance_281'"
      ]
     },
     "execution_count": 40,
     "metadata": {},
     "output_type": "execute_result"
    }
   ],
   "source": [
    "io_settings_new = kb.copy_instance(io_settings_old, CFD, {\n",
    "    'connect_to': 'run_SU2'})\n",
    "\n",
    "io_settings_new"
   ]
  },
  {
   "cell_type": "markdown",
   "id": "c83b9d8e",
   "metadata": {},
   "source": [
    "Checking existing solver wrapper settings"
   ]
  },
  {
   "cell_type": "code",
   "execution_count": 41,
   "id": "87a3f77f",
   "metadata": {},
   "outputs": [
    {
     "data": {
      "text/plain": [
       "{'export_data': ['instance_13'],\n",
       " 'import_data': ['instance_20'],\n",
       " 'import_meshes': ['instance_26']}"
      ]
     },
     "execution_count": 41,
     "metadata": {},
     "output_type": "execute_result"
    }
   ],
   "source": [
    "solver_wrapper_settings_old_0 = solver_old_0_props['solver_wrapper_settings'][0]\n",
    "kb.get_instance_properties(solver_wrapper_settings_old_0)"
   ]
  },
  {
   "cell_type": "markdown",
   "id": "d6971ddd",
   "metadata": {},
   "source": [
    "Copying solver wrapper settings"
   ]
  },
  {
   "cell_type": "code",
   "execution_count": 42,
   "id": "98e83e94",
   "metadata": {},
   "outputs": [
    {
     "data": {
      "text/plain": [
       "'instance_282'"
      ]
     },
     "execution_count": 42,
     "metadata": {},
     "output_type": "execute_result"
    }
   ],
   "source": [
    "solver_wrapper_settings_new_0 = kb.copy_instance(solver_wrapper_settings_old_0, CFD, {\n",
    "    'export_data': 'displacements',\n",
    "    'import_meshes': 'WING'})\n",
    "\n",
    "solver_wrapper_settings_new_0"
   ]
  },
  {
   "cell_type": "markdown",
   "id": "27e598e7",
   "metadata": {},
   "source": [
    "Checking another existing solver"
   ]
  },
  {
   "cell_type": "code",
   "execution_count": 43,
   "id": "78070bfe",
   "metadata": {},
   "outputs": [
    {
     "data": {
      "text/plain": [
       "{'data': ['instance_265', 'instance_266'],\n",
       " 'io_settings': ['instance_264'],\n",
       " 'label': ['spring_structure'],\n",
       " 'solver_wrapper_settings': ['instance_263'],\n",
       " 'type': ['instance_24']}"
      ]
     },
     "execution_count": 43,
     "metadata": {},
     "output_type": "execute_result"
    }
   ],
   "source": [
    "solver_old_1 = solvers_old[1]\n",
    "solver_old_1_props = kb.get_instance_properties(solver_old_1)\n",
    "\n",
    "solver_old_1_props"
   ]
  },
  {
   "cell_type": "markdown",
   "id": "c26c5822",
   "metadata": {},
   "source": [
    "Creating the second new solver"
   ]
  },
  {
   "cell_type": "code",
   "execution_count": 44,
   "id": "ce88a906",
   "metadata": {},
   "outputs": [
    {
     "data": {
      "text/plain": [
       "'instance_283'"
      ]
     },
     "execution_count": 44,
     "metadata": {},
     "output_type": "execute_result"
    }
   ],
   "source": [
    "SM = kb.create_instance('solvers', solver_settings_new, {\n",
    "    'label': 'SM',\n",
    "    'type': 'solver_wrappers.kratos.structural_mechanics_wrapper'})\n",
    "\n",
    "SM"
   ]
  },
  {
   "cell_type": "markdown",
   "id": "41694d15",
   "metadata": {},
   "source": [
    "Checking existing data of the second solver"
   ]
  },
  {
   "cell_type": "code",
   "execution_count": 45,
   "id": "6c1ce179",
   "metadata": {},
   "outputs": [
    {
     "data": {
      "text/plain": [
       "{'label': ['pitch_angle'],\n",
       " 'location': ['instance_33'],\n",
       " 'model_part_name': ['instance_38'],\n",
       " 'variable_name': ['instance_32']}"
      ]
     },
     "execution_count": 45,
     "metadata": {},
     "output_type": "execute_result"
    }
   ],
   "source": [
    "kb.get_instance_properties(solver_old_1_props['data'][0])"
   ]
  },
  {
   "cell_type": "code",
   "execution_count": 46,
   "id": "c5ef3987",
   "metadata": {},
   "outputs": [
    {
     "data": {
      "text/plain": [
       "{'label': ['lift_force'],\n",
       " 'location': ['instance_33'],\n",
       " 'model_part_name': ['instance_26'],\n",
       " 'variable_name': ['instance_35']}"
      ]
     },
     "execution_count": 46,
     "metadata": {},
     "output_type": "execute_result"
    }
   ],
   "source": [
    "kb.get_instance_properties(solver_old_0_props['data'][1])"
   ]
  },
  {
   "cell_type": "markdown",
   "id": "78cfaf4f",
   "metadata": {},
   "source": [
    "Coping data for the second solver from the first one"
   ]
  },
  {
   "cell_type": "code",
   "execution_count": 47,
   "id": "b3499e89",
   "metadata": {},
   "outputs": [
    {
     "data": {
      "text/plain": [
       "'instance_284'"
      ]
     },
     "execution_count": 47,
     "metadata": {},
     "output_type": "execute_result"
    }
   ],
   "source": [
    "displacements_1 = kb.copy_instance(displacements_0, SM, {\n",
    "    'model_part_name': 'Structure.interface',\n",
    "    'variable_name': 'DISPLACEMENT'})\n",
    "\n",
    "displacements_1"
   ]
  },
  {
   "cell_type": "markdown",
   "id": "09125e64",
   "metadata": {},
   "source": [
    "Copying another data from the first solver"
   ]
  },
  {
   "cell_type": "code",
   "execution_count": 48,
   "id": "499e69fa",
   "metadata": {},
   "outputs": [
    {
     "data": {
      "text/plain": [
       "'instance_285'"
      ]
     },
     "execution_count": 48,
     "metadata": {},
     "output_type": "execute_result"
    }
   ],
   "source": [
    "lift_force_1 = kb.copy_instance(lift_force_0, SM, {\n",
    "    'model_part_name': 'Structure.interface',\n",
    "    'variable_name': 'POINT_LOAD'})\n",
    "\n",
    "lift_force_1"
   ]
  },
  {
   "cell_type": "markdown",
   "id": "e0a3cbc2",
   "metadata": {},
   "source": [
    "Checking existing wrapper settings of the second solver"
   ]
  },
  {
   "cell_type": "code",
   "execution_count": 49,
   "id": "b68f4906",
   "metadata": {},
   "outputs": [
    {
     "data": {
      "text/plain": [
       "{'export_data': ['instance_20'],\n",
       " 'import_data': ['instance_13'],\n",
       " 'import_meshes': ['instance_38']}"
      ]
     },
     "execution_count": 49,
     "metadata": {},
     "output_type": "execute_result"
    }
   ],
   "source": [
    "solver_wrapper_settings_old_1 = solver_old_1_props['solver_wrapper_settings'][0]\n",
    "kb.get_instance_properties(solver_wrapper_settings_old_1)"
   ]
  },
  {
   "cell_type": "markdown",
   "id": "83834660",
   "metadata": {},
   "source": [
    "Creating solver wrapper settings for the second solver"
   ]
  },
  {
   "cell_type": "code",
   "execution_count": 50,
   "id": "40e60b6a",
   "metadata": {},
   "outputs": [
    {
     "data": {
      "text/plain": [
       "'instance_286'"
      ]
     },
     "execution_count": 50,
     "metadata": {},
     "output_type": "execute_result"
    }
   ],
   "source": [
    "solver_wrapper_settings_new_1 = kb.create_instance('solver_wrapper_settings', SM, {\n",
    "    'input_file': 'ProjectParametersSM'})\n",
    "\n",
    "solver_wrapper_settings_new_1"
   ]
  },
  {
   "cell_type": "markdown",
   "id": "ab309762",
   "metadata": {},
   "source": [
    "Exporting created coupled system in JSON"
   ]
  },
  {
   "cell_type": "code",
   "execution_count": 51,
   "id": "4009b038",
   "metadata": {},
   "outputs": [
    {
     "data": {
      "text/plain": [
       "{'problem_data': {'echo_level': 2,\n",
       "  'end_time': 1.0,\n",
       "  'parallel_type': 'OpenMP',\n",
       "  'print_colors': True,\n",
       "  'start_time': 0.0},\n",
       " 'solver_settings': {'convergence_accelerators': [{'data_name': 'displacements',\n",
       "    'solver': 'CFD',\n",
       "    'type': 'aitken'}],\n",
       "  'convergence_criteria': [{'abs_tolerance': 1e-07,\n",
       "    'data_name': 'displacements',\n",
       "    'rel_tolerance': 1e-05,\n",
       "    'solver': 'CFD',\n",
       "    'type': 'relative_norm_initial_residual'}],\n",
       "  'coupling_sequence': [{'name': 'CFD'},\n",
       "   {'input_data_list': [{'data': 'lift_force',\n",
       "      'data_transfer_operator': 'mapping_operation',\n",
       "      'data_transfer_operator_options': ['use_transpose'],\n",
       "      'from_solver': 'CFD',\n",
       "      'from_solver_data': 'lift_force'}],\n",
       "    'name': 'SM',\n",
       "    'output_data_list': [{'data': 'displacements',\n",
       "      'data_transfer_operator': 'mapping_operation',\n",
       "      'to_solver': 'CFD',\n",
       "      'to_solver_data': 'displacements'}]}],\n",
       "  'data_transfer_operators': {'mapping_operation': {'mapper_settings': {'mapper_type': 'nearest_neighbor',\n",
       "     'use_initial_configuration': True},\n",
       "    'type': 'kratos_mapping'}},\n",
       "  'echo_level': 4,\n",
       "  'num_coupling_iterations': 20,\n",
       "  'solvers': {'CFD': {'data': {'displacements': {'dimensions': 3,\n",
       "      'model_part_name': 'WING',\n",
       "      'variable_name': 'MESH_DISPLACEMENT'},\n",
       "     'lift_force': {'dimensions': 3,\n",
       "      'model_part_name': 'WING',\n",
       "      'variable_name': 'REACTION'}},\n",
       "    'io_settings': {'communication_format': 'file',\n",
       "     'connect_to': 'run_SU2',\n",
       "     'echo_level': 4,\n",
       "     'type': 'kratos_co_sim_io'},\n",
       "    'solver_wrapper_settings': {'export_data': ['displacements'],\n",
       "     'import_data': ['lift_force'],\n",
       "     'import_meshes': ['WING']},\n",
       "    'type': 'solver_wrappers.external.remote_controlled_solver_wrapper'},\n",
       "   'SM': {'data': {'displacements': {'dimensions': 3,\n",
       "      'model_part_name': 'Structure.interface',\n",
       "      'variable_name': 'DISPLACEMENT'},\n",
       "     'lift_force': {'dimensions': 3,\n",
       "      'model_part_name': 'Structure.interface',\n",
       "      'variable_name': 'POINT_LOAD'}},\n",
       "    'solver_wrapper_settings': {'input_file': 'ProjectParametersSM'},\n",
       "    'type': 'solver_wrappers.kratos.structural_mechanics_wrapper'}},\n",
       "  'type': 'coupled_solvers.gauss_seidel_strong'}}"
      ]
     },
     "execution_count": 51,
     "metadata": {},
     "output_type": "execute_result"
    }
   ],
   "source": [
    "export = kb.export_coupled_kratos(Onera_FSI)\n",
    "\n",
    "export"
   ]
  },
  {
   "cell_type": "markdown",
   "id": "81b3bc7f",
   "metadata": {},
   "source": [
    "Saving exported data into a file"
   ]
  },
  {
   "cell_type": "code",
   "execution_count": 52,
   "id": "5c9bea79",
   "metadata": {},
   "outputs": [],
   "source": [
    "export_path = os.path.join(\n",
    "    os.path.abspath(''),\n",
    "    'export_onera_fsi.json')\n",
    "\n",
    "with open(export_path, 'w') as file:\n",
    "    json.dump(export, file, indent=2)"
   ]
  },
  {
   "cell_type": "markdown",
   "id": "1105de57",
   "metadata": {},
   "source": [
    "Inferring new classes from the created coupled system"
   ]
  },
  {
   "cell_type": "code",
   "execution_count": 53,
   "id": "c0cad2dd",
   "metadata": {},
   "outputs": [
    {
     "data": {
      "text/plain": [
       "''"
      ]
     },
     "execution_count": 53,
     "metadata": {},
     "output_type": "execute_result"
    }
   ],
   "source": [
    "kb.infer_coupled_structure(Onera_FSI)"
   ]
  },
  {
   "cell_type": "markdown",
   "id": "a8105431",
   "metadata": {},
   "source": [
    "Updating the knowledge base"
   ]
  },
  {
   "cell_type": "code",
   "execution_count": 54,
   "id": "d0def747",
   "metadata": {},
   "outputs": [
    {
     "data": {
      "text/plain": [
       "''"
      ]
     },
     "execution_count": 54,
     "metadata": {},
     "output_type": "execute_result"
    }
   ],
   "source": [
    "kb.save()"
   ]
  },
  {
   "cell_type": "markdown",
   "id": "ed7337bd-a1cf-4cdc-93cb-3de597df888b",
   "metadata": {},
   "source": [
    "Getting a local copy of the knowledge base"
   ]
  },
  {
   "cell_type": "code",
   "execution_count": 55,
   "id": "592b6fd7",
   "metadata": {},
   "outputs": [],
   "source": [
    "onto_path = os.path.join(\n",
    "    os.path.abspath(''),\n",
    "    'demo_client.owl')\n",
    "\n",
    "kb.save_locally(onto_path)"
   ]
  }
 ],
 "metadata": {
  "kernelspec": {
   "display_name": "Python 3 (ipykernel)",
   "language": "python",
   "name": "python3"
  },
  "language_info": {
   "codemirror_mode": {
    "name": "ipython",
    "version": 3
   },
   "file_extension": ".py",
   "mimetype": "text/x-python",
   "name": "python",
   "nbconvert_exporter": "python",
   "pygments_lexer": "ipython3",
   "version": "3.12.9"
  }
 },
 "nbformat": 4,
 "nbformat_minor": 5
}
