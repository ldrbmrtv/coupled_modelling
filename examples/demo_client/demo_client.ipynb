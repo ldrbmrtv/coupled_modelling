{
 "cells": [
  {
   "cell_type": "markdown",
   "id": "89d9908e",
   "metadata": {},
   "source": [
    "# Demo"
   ]
  },
  {
   "cell_type": "markdown",
   "id": "14594abd",
   "metadata": {},
   "source": [
    "Reading JSON data of an existing coupled system"
   ]
  },
  {
   "cell_type": "code",
   "execution_count": 1,
   "id": "1674a194",
   "metadata": {},
   "outputs": [
    {
     "data": {
      "text/plain": [
       "{'problem_data': {'start_time': 0.0,\n",
       "  'end_time': 1.0,\n",
       "  'echo_level': 0,\n",
       "  'print_colors': True,\n",
       "  'parallel_type': 'OpenMP'},\n",
       " 'solver_settings': {'type': 'coupled_solvers.gauss_seidel_strong',\n",
       "  'num_coupling_iterations': 20,\n",
       "  'echo_level': 3,\n",
       "  'data_transfer_operators': {'direct_transfer': {'type': 'kratos_mapping',\n",
       "    'mapper_settings': {'mapper_type': 'nearest_neighbor', 'echo_level': 3}}},\n",
       "  'predictors': [],\n",
       "  'convergence_accelerators': [{'type': 'aitken',\n",
       "    'solver': 'low_fid_fluid',\n",
       "    'data_name': 'pitch_angle'}],\n",
       "  'convergence_criteria': [{'type': 'relative_norm_previous_residual',\n",
       "    'solver': 'low_fid_fluid',\n",
       "    'data_name': 'pitch_angle',\n",
       "    'abs_tolerance': 1e-07,\n",
       "    'rel_tolerance': 1e-05}],\n",
       "  'coupling_sequence': [{'name': 'low_fid_fluid',\n",
       "    'output_data_list': [],\n",
       "    'input_data_list': []},\n",
       "   {'name': 'spring_structure',\n",
       "    'input_data_list': [{'data': 'lift_force',\n",
       "      'from_solver': 'low_fid_fluid',\n",
       "      'from_solver_data': 'lift_force',\n",
       "      'data_transfer_operator': 'direct_transfer'}],\n",
       "    'output_data_list': [{'data': 'pitch_angle',\n",
       "      'to_solver': 'low_fid_fluid',\n",
       "      'to_solver_data': 'pitch_angle',\n",
       "      'data_transfer_operator': 'direct_transfer'}]}],\n",
       "  'solvers': {'low_fid_fluid': {'type': 'solver_wrappers.external.remote_controlled_solver_wrapper',\n",
       "    'solver_wrapper_settings': {'export_data': ['pitch_angle'],\n",
       "     'import_data': ['lift_force'],\n",
       "     'import_meshes': ['single_node_mesh_f']},\n",
       "    'io_settings': {'type': 'kratos_co_sim_io',\n",
       "     'echo_level': 4,\n",
       "     'connect_to': 'run_fluid',\n",
       "     'communication_format': 'file'},\n",
       "    'data': {'pitch_angle': {'model_part_name': 'single_node_mesh_f',\n",
       "      'variable_name': 'SCALAR_DISPLACEMENT',\n",
       "      'location': 'node_historical'},\n",
       "     'lift_force': {'model_part_name': 'single_node_mesh_f',\n",
       "      'variable_name': 'SCALAR_FORCE',\n",
       "      'location': 'node_historical'}}},\n",
       "   'spring_structure': {'type': 'solver_wrappers.external.remote_controlled_solver_wrapper',\n",
       "    'solver_wrapper_settings': {'export_data': ['lift_force'],\n",
       "     'import_data': ['pitch_angle'],\n",
       "     'import_meshes': ['single_node_mesh_s']},\n",
       "    'io_settings': {'type': 'kratos_co_sim_io',\n",
       "     'echo_level': 4,\n",
       "     'connect_to': 'run_structure',\n",
       "     'communication_format': 'file'},\n",
       "    'data': {'pitch_angle': {'model_part_name': 'single_node_mesh_s',\n",
       "      'variable_name': 'SCALAR_DISPLACEMENT',\n",
       "      'location': 'node_historical'},\n",
       "     'lift_force': {'model_part_name': 'single_node_mesh_s',\n",
       "      'variable_name': 'SCALAR_FORCE',\n",
       "      'location': 'node_historical'}}}}}}"
      ]
     },
     "execution_count": 1,
     "metadata": {},
     "output_type": "execute_result"
    }
   ],
   "source": [
    "import os\n",
    "import json\n",
    "\n",
    "\n",
    "input_path = os.path.join(\n",
    "    os.path.dirname(os.path.abspath('')),\n",
    "    'mixed_fid_models/',\n",
    "    'ProjectParametersCoSimFSI.json')\n",
    "\n",
    "with open(input_path) as f:\n",
    "    data = json.load(f)\n",
    "\n",
    "data"
   ]
  },
  {
   "cell_type": "markdown",
   "id": "20d8cbbc",
   "metadata": {},
   "source": [
    "Connecting to the knowledge base"
   ]
  },
  {
   "cell_type": "code",
   "execution_count": 2,
   "id": "3d6db8ee",
   "metadata": {},
   "outputs": [
    {
     "data": {
      "text/plain": [
       "<coupled_modelling.coupled_modelling.KnowledgeBase at 0x1b190bdddf0>"
      ]
     },
     "execution_count": 2,
     "metadata": {},
     "output_type": "execute_result"
    }
   ],
   "source": [
    "from coupled_modelling import KnowledgeBase\n",
    "\n",
    "kb = KnowledgeBase('http://127.0.0.1:5000/api/v1.0/')\n",
    "\n",
    "kb"
   ]
  },
  {
   "cell_type": "markdown",
   "id": "932e33ab",
   "metadata": {},
   "source": [
    "Importing data of the existing coupled system"
   ]
  },
  {
   "cell_type": "code",
   "execution_count": 3,
   "id": "f3b56b2b",
   "metadata": {},
   "outputs": [
    {
     "data": {
      "text/plain": [
       "<coupled_modelling.coupled_modelling.CoupledSystem at 0x1b19220bec0>"
      ]
     },
     "execution_count": 3,
     "metadata": {},
     "output_type": "execute_result"
    }
   ],
   "source": [
    "mixed_fid_models = kb.import_coupled_kratos('mixed_fid_models', data)\n",
    "\n",
    "mixed_fid_models"
   ]
  },
  {
   "cell_type": "markdown",
   "id": "8dfdb187",
   "metadata": {},
   "source": [
    "Creating a new coupled system"
   ]
  },
  {
   "cell_type": "code",
   "execution_count": 4,
   "id": "80147c9c",
   "metadata": {},
   "outputs": [
    {
     "data": {
      "text/plain": [
       "<coupled_modelling.coupled_modelling.CoupledSystem at 0x1b19258e7e0>"
      ]
     },
     "execution_count": 4,
     "metadata": {},
     "output_type": "execute_result"
    }
   ],
   "source": [
    "Onera_FSI = kb.create_coupled('Onera_FSI')\n",
    "\n",
    "Onera_FSI"
   ]
  },
  {
   "cell_type": "markdown",
   "id": "fbd6559d",
   "metadata": {},
   "source": [
    "Checking properties of the imported coupled system"
   ]
  },
  {
   "cell_type": "code",
   "execution_count": 5,
   "id": "60987ba7",
   "metadata": {},
   "outputs": [
    {
     "data": {
      "text/plain": [
       "{'label': 'mixed_fid_models',\n",
       " 'problem_data': 'instance_278',\n",
       " 'solver_settings': 'instance_279'}"
      ]
     },
     "execution_count": 5,
     "metadata": {},
     "output_type": "execute_result"
    }
   ],
   "source": [
    "mixed_fid_models.get_properties()"
   ]
  },
  {
   "cell_type": "markdown",
   "id": "5d7e5431",
   "metadata": {},
   "source": [
    "The *.get_properties()* method has an optional *depth* parameter, which specifies how many levels of nested instances the method should retrieve properties for."
   ]
  },
  {
   "cell_type": "code",
   "execution_count": 6,
   "id": "576e5b61",
   "metadata": {},
   "outputs": [
    {
     "data": {
      "text/plain": [
       "{'label': 'mixed_fid_models',\n",
       " 'problem_data': {'instance_278': {'echo_level': 0,\n",
       "   'end_time': 1.0,\n",
       "   'parallel_type': 'OpenMP',\n",
       "   'print_colors': True,\n",
       "   'start_time': 0.0}},\n",
       " 'solver_settings': {'instance_279': {'convergence_accelerators': ['instance_282'],\n",
       "   'convergence_criteria': ['instance_283'],\n",
       "   'coupling_sequence': ['instance_284', 'instance_285'],\n",
       "   'data_transfer_operators': 'instance_280',\n",
       "   'echo_level': 3,\n",
       "   'num_coupling_iterations': 20,\n",
       "   'solvers': ['instance_288', 'instance_293'],\n",
       "   'type': 'coupled_solvers.gauss_seidel_strong'}}}"
      ]
     },
     "execution_count": 6,
     "metadata": {},
     "output_type": "execute_result"
    }
   ],
   "source": [
    "mixed_fid_models.get_properties(2)"
   ]
  },
  {
   "cell_type": "markdown",
   "id": "1619b95a",
   "metadata": {},
   "source": [
    "All properties of the existing problem data instance can be reused, except of the *echo_level* value. Thus, we copy problem data from the existing coupled system with the new coupled system as a parent instance and setting a new *echo_level* value to the new problem data"
   ]
  },
  {
   "cell_type": "code",
   "execution_count": 7,
   "id": "660fccf7",
   "metadata": {},
   "outputs": [
    {
     "data": {
      "text/plain": [
       "<coupled_modelling.coupled_modelling.Instance at 0x1b192766d50>"
      ]
     },
     "execution_count": 7,
     "metadata": {},
     "output_type": "execute_result"
    }
   ],
   "source": [
    "problem_data_old = next(iter(mixed_fid_models.properties['problem_data']))\n",
    "problem_data_old = kb.get_instance(problem_data_old)\n",
    "\n",
    "problem_data_new = problem_data_old.make_copy(\n",
    "    Onera_FSI,\n",
    "    {'echo_level': 2})\n",
    "\n",
    "problem_data_new"
   ]
  },
  {
   "cell_type": "markdown",
   "id": "b426d0b6",
   "metadata": {},
   "source": [
    "The copying method does not copy nested instances. Thus, we can copy the solver settings from the existing coupled system with the old *num_coupling_iterations* and *type*, but with a new *echo_level*. Afterwards, we will create instances of convergence accelerators, convergence criteria, coupling sequence, data transfer_operators and solvers, and add them to the mew solver settings"
   ]
  },
  {
   "cell_type": "code",
   "execution_count": 8,
   "id": "55b004f1",
   "metadata": {},
   "outputs": [
    {
     "data": {
      "text/plain": [
       "<coupled_modelling.coupled_modelling.Instance at 0x1b19258ca40>"
      ]
     },
     "execution_count": 8,
     "metadata": {},
     "output_type": "execute_result"
    }
   ],
   "source": [
    "solver_settings_old = next(iter(mixed_fid_models.properties['solver_settings']))\n",
    "solver_settings_old = kb.get_instance(solver_settings_old)\n",
    "\n",
    "solver_settings_new = solver_settings_old.make_copy(\n",
    "    Onera_FSI,\n",
    "    {'echo_level': 4})\n",
    "\n",
    "solver_settings_new"
   ]
  },
  {
   "cell_type": "markdown",
   "id": "c375050f",
   "metadata": {},
   "source": [
    "Checking existing convergence accelerators"
   ]
  },
  {
   "cell_type": "code",
   "execution_count": 9,
   "id": "25fb5d2b",
   "metadata": {},
   "outputs": [
    {
     "data": {
      "text/plain": [
       "{'convergence_accelerators': [{'instance_282': {'data_name': 'pitch_angle',\n",
       "    'solver': 'low_fid_fluid',\n",
       "    'type': 'aitken'}}],\n",
       " 'convergence_criteria': [{'instance_283': {'abs_tolerance': 1e-07,\n",
       "    'data_name': 'pitch_angle',\n",
       "    'rel_tolerance': 1e-05,\n",
       "    'solver': 'low_fid_fluid',\n",
       "    'type': 'relative_norm_previous_residual'}}],\n",
       " 'coupling_sequence': [{'instance_284': {'name': 'low_fid_fluid'}},\n",
       "  {'instance_285': {'input_data_list': ['instance_286'],\n",
       "    'name': 'spring_structure',\n",
       "    'output_data_list': ['instance_287']}}],\n",
       " 'data_transfer_operators': {'instance_280': {'label': 'direct_transfer',\n",
       "   'mapper_settings': 'instance_281',\n",
       "   'type': 'kratos_mapping'}},\n",
       " 'echo_level': 3,\n",
       " 'num_coupling_iterations': 20,\n",
       " 'solvers': [{'instance_288': {'data': ['instance_291', 'instance_292'],\n",
       "    'io_settings': 'instance_290',\n",
       "    'label': 'low_fid_fluid',\n",
       "    'solver_wrapper_settings': 'instance_289',\n",
       "    'type': 'solver_wrappers.external.remote_controlled_solver_wrapper'}},\n",
       "  {'instance_293': {'data': ['instance_296', 'instance_297'],\n",
       "    'io_settings': 'instance_295',\n",
       "    'label': 'spring_structure',\n",
       "    'solver_wrapper_settings': 'instance_294',\n",
       "    'type': 'solver_wrappers.external.remote_controlled_solver_wrapper'}}],\n",
       " 'type': 'coupled_solvers.gauss_seidel_strong'}"
      ]
     },
     "execution_count": 9,
     "metadata": {},
     "output_type": "execute_result"
    }
   ],
   "source": [
    "solver_settings_old.get_properties(2)"
   ]
  },
  {
   "cell_type": "markdown",
   "id": "b31163e4",
   "metadata": {},
   "source": [
    "Only *type* of the existing convergence accelerators can be reused, thus, we create new convergence accelerators for the new coupled system from scratch, passing the class, the parent instance and new property values"
   ]
  },
  {
   "cell_type": "code",
   "execution_count": 10,
   "id": "a4e0f436",
   "metadata": {},
   "outputs": [
    {
     "data": {
      "text/plain": [
       "<coupled_modelling.coupled_modelling.Instance at 0x1b1927675f0>"
      ]
     },
     "execution_count": 10,
     "metadata": {},
     "output_type": "execute_result"
    }
   ],
   "source": [
    "convergence_accelerators_old = next(iter(solver_settings_old.properties['convergence_accelerators'][0]))\n",
    "convergence_accelerators_old = kb.get_instance(convergence_accelerators_old)\n",
    "\n",
    "convergence_accelerators_new = kb.create_instance(\n",
    "    'convergence_accelerators',\n",
    "    solver_settings_new,\n",
    "    {'data_name': 'displacements', 'solver': 'CFD', 'type': 'aitken'})\n",
    "\n",
    "convergence_accelerators_new"
   ]
  },
  {
   "cell_type": "markdown",
   "id": "e6f354c6",
   "metadata": {},
   "source": [
    "Copying convergence criteria, passing new *data_name*, *solver* and *type*"
   ]
  },
  {
   "cell_type": "code",
   "execution_count": 11,
   "id": "f984e93c",
   "metadata": {},
   "outputs": [
    {
     "data": {
      "text/plain": [
       "<coupled_modelling.coupled_modelling.Instance at 0x1b192737380>"
      ]
     },
     "execution_count": 11,
     "metadata": {},
     "output_type": "execute_result"
    }
   ],
   "source": [
    "convergence_criteria_old = next(iter(solver_settings_old.properties['convergence_criteria'][0]))\n",
    "convergence_criteria_old = kb.get_instance(convergence_criteria_old)\n",
    "\n",
    "convergence_criteria_new = convergence_criteria_old.make_copy(solver_settings_new, {\n",
    "    'data_name': 'displacements',\n",
    "    'solver': 'CFD',\n",
    "    'type': 'relative_norm_initial_residual'})\n",
    "\n",
    "convergence_criteria_new"
   ]
  },
  {
   "cell_type": "markdown",
   "id": "e073919f",
   "metadata": {},
   "source": [
    "We create a new coupling sequence by creating its elements one by one"
   ]
  },
  {
   "cell_type": "code",
   "execution_count": 12,
   "id": "617d9472",
   "metadata": {},
   "outputs": [
    {
     "data": {
      "text/plain": [
       "<coupled_modelling.coupled_modelling.Instance at 0x1b1927677a0>"
      ]
     },
     "execution_count": 12,
     "metadata": {},
     "output_type": "execute_result"
    }
   ],
   "source": [
    "coupling_sequence_new_0 = kb.create_instance('coupling_sequence', solver_settings_new, {\n",
    "    'name': 'CFD'})\n",
    "\n",
    "coupling_sequence_new_0"
   ]
  },
  {
   "cell_type": "markdown",
   "id": "e2c7341e",
   "metadata": {},
   "source": [
    "Creating another coupling sequence"
   ]
  },
  {
   "cell_type": "code",
   "execution_count": 13,
   "id": "566ee5f7",
   "metadata": {},
   "outputs": [
    {
     "data": {
      "text/plain": [
       "<coupled_modelling.coupled_modelling.Instance at 0x1b19279c320>"
      ]
     },
     "execution_count": 13,
     "metadata": {},
     "output_type": "execute_result"
    }
   ],
   "source": [
    "coupling_sequence_new_1 = kb.create_instance('coupling_sequence', solver_settings_new, {\n",
    "    'name': 'SM'})\n",
    "\n",
    "coupling_sequence_new_1"
   ]
  },
  {
   "cell_type": "markdown",
   "id": "f17a0c95",
   "metadata": {},
   "source": [
    "We create new nested instances for the second item in the new coupling sequence by copying nested instances of the second item of the old coupling sequence. Getting the second item of the old coupling sequence first"
   ]
  },
  {
   "cell_type": "code",
   "execution_count": 14,
   "id": "70784351",
   "metadata": {},
   "outputs": [
    {
     "data": {
      "text/plain": [
       "{'input_data_list': [{'instance_286': {'data': 'lift_force',\n",
       "    'data_transfer_operator': 'direct_transfer',\n",
       "    'from_solver': 'low_fid_fluid',\n",
       "    'from_solver_data': 'lift_force'}}],\n",
       " 'name': 'spring_structure',\n",
       " 'output_data_list': [{'instance_287': {'data': 'pitch_angle',\n",
       "    'data_transfer_operator': 'direct_transfer',\n",
       "    'to_solver': 'low_fid_fluid',\n",
       "    'to_solver_data': 'pitch_angle'}}]}"
      ]
     },
     "execution_count": 14,
     "metadata": {},
     "output_type": "execute_result"
    }
   ],
   "source": [
    "coupling_sequence_old_1 = next(iter(solver_settings_old.properties['coupling_sequence'][1]))\n",
    "coupling_sequence_old_1 = kb.get_instance(coupling_sequence_old_1)\n",
    "coupling_sequence_old_1.get_properties(2)"
   ]
  },
  {
   "cell_type": "code",
   "execution_count": 15,
   "id": "c645c52d",
   "metadata": {},
   "outputs": [
    {
     "data": {
      "text/plain": [
       "<coupled_modelling.coupled_modelling.Instance at 0x1b19258f980>"
      ]
     },
     "execution_count": 15,
     "metadata": {},
     "output_type": "execute_result"
    }
   ],
   "source": [
    "input_data_list_old = next(iter(coupling_sequence_old_1.properties['input_data_list'][0]))\n",
    "input_data_list_old = kb.get_instance(input_data_list_old)\n",
    "\n",
    "input_data_list_new = input_data_list_old.make_copy(coupling_sequence_new_1, {\n",
    "    'data_transfer_operator': 'mapping_operation',\n",
    "    'from_solver': 'CFD',\n",
    "    'data_transfer_operator_options': 'use_transpose'})\n",
    "\n",
    "input_data_list_new"
   ]
  },
  {
   "cell_type": "markdown",
   "id": "40465539",
   "metadata": {},
   "source": [
    "Creating a new output data list"
   ]
  },
  {
   "cell_type": "code",
   "execution_count": 16,
   "id": "0aa1a9e5",
   "metadata": {},
   "outputs": [
    {
     "data": {
      "text/plain": [
       "<coupled_modelling.coupled_modelling.Instance at 0x1b192767770>"
      ]
     },
     "execution_count": 16,
     "metadata": {},
     "output_type": "execute_result"
    }
   ],
   "source": [
    "output_data_list_old = next(iter(coupling_sequence_old_1.properties['output_data_list'][0]))\n",
    "output_data_list_old = kb.get_instance(output_data_list_old)\n",
    "\n",
    "output_data_list_new = kb.create_instance('output_data_list', coupling_sequence_new_1, {\n",
    "    'data': 'displacements',\n",
    "    'data_transfer_operator': 'mapping_operation',\n",
    "    'to_solver': 'CFD',\n",
    "    'to_solver_data': 'displacements'})\n",
    "\n",
    "output_data_list_new"
   ]
  },
  {
   "cell_type": "markdown",
   "id": "1274e56d",
   "metadata": {},
   "source": [
    "Creating a mapping operation instance as the data transfer operator"
   ]
  },
  {
   "cell_type": "code",
   "execution_count": 17,
   "id": "57d97f2d",
   "metadata": {},
   "outputs": [
    {
     "data": {
      "text/plain": [
       "<coupled_modelling.coupled_modelling.Instance at 0x1b192737e90>"
      ]
     },
     "execution_count": 17,
     "metadata": {},
     "output_type": "execute_result"
    }
   ],
   "source": [
    "mapping_operation = kb.create_instance('data_transfer_operators', solver_settings_new, {\n",
    "    'label': 'mapping_operation',\n",
    "    'type': 'kratos_mapping'})\n",
    "\n",
    "mapping_operation"
   ]
  },
  {
   "cell_type": "markdown",
   "id": "0e721bee",
   "metadata": {},
   "source": [
    "Creating new mapper settings"
   ]
  },
  {
   "cell_type": "code",
   "execution_count": 18,
   "id": "3e8e7eab",
   "metadata": {},
   "outputs": [
    {
     "data": {
      "text/plain": [
       "<coupled_modelling.coupled_modelling.Instance at 0x1b19258f830>"
      ]
     },
     "execution_count": 18,
     "metadata": {},
     "output_type": "execute_result"
    }
   ],
   "source": [
    "mapper_settings = kb.create_instance('mapper_settings', mapping_operation, {\n",
    "    'mapper_type': 'nearest_neighbor',\n",
    "    'use_initial_configuration': True})\n",
    "\n",
    "mapper_settings"
   ]
  },
  {
   "cell_type": "markdown",
   "id": "af529eda",
   "metadata": {},
   "source": [
    "Checking the first existing solver"
   ]
  },
  {
   "cell_type": "code",
   "execution_count": 19,
   "id": "932a35c8",
   "metadata": {},
   "outputs": [
    {
     "data": {
      "text/plain": [
       "{'data': [{'instance_291': {'label': 'pitch_angle',\n",
       "    'location': 'node_historical',\n",
       "    'model_part_name': 'single_node_mesh_f',\n",
       "    'variable_name': 'SCALAR_DISPLACEMENT'}},\n",
       "  {'instance_292': {'label': 'lift_force',\n",
       "    'location': 'node_historical',\n",
       "    'model_part_name': 'single_node_mesh_f',\n",
       "    'variable_name': 'SCALAR_FORCE'}}],\n",
       " 'io_settings': {'instance_290': {'communication_format': 'file',\n",
       "   'connect_to': 'run_fluid',\n",
       "   'echo_level': 4,\n",
       "   'type': 'kratos_co_sim_io'}},\n",
       " 'label': 'low_fid_fluid',\n",
       " 'solver_wrapper_settings': {'instance_289': {'export_data': ['pitch_angle'],\n",
       "   'import_data': ['lift_force'],\n",
       "   'import_meshes': ['single_node_mesh_f']}},\n",
       " 'type': 'solver_wrappers.external.remote_controlled_solver_wrapper'}"
      ]
     },
     "execution_count": 19,
     "metadata": {},
     "output_type": "execute_result"
    }
   ],
   "source": [
    "solver_old_0 = next(iter(solver_settings_old.properties['solvers'][0]))\n",
    "solver_old_0 = kb.get_instance(solver_old_0)\n",
    "solver_old_0.get_properties(2)"
   ]
  },
  {
   "cell_type": "markdown",
   "id": "6bc0bf84",
   "metadata": {},
   "source": [
    "In the new soupled system, we apply a CFD solver. Thus, we creat an instance of the CFD solver by copying the first solver"
   ]
  },
  {
   "cell_type": "code",
   "execution_count": 20,
   "id": "2c83b066",
   "metadata": {},
   "outputs": [
    {
     "data": {
      "text/plain": [
       "<coupled_modelling.coupled_modelling.Instance at 0x1b192767b30>"
      ]
     },
     "execution_count": 20,
     "metadata": {},
     "output_type": "execute_result"
    }
   ],
   "source": [
    "CFD = solver_old_0.make_copy(solver_settings_new, {\n",
    "    'label': 'CFD'})\n",
    "\n",
    "CFD"
   ]
  },
  {
   "cell_type": "markdown",
   "id": "71203da6",
   "metadata": {},
   "source": [
    "The old data doesn't fit to the new solver. Creating displacements data for the CFD solver instance"
   ]
  },
  {
   "cell_type": "code",
   "execution_count": 21,
   "id": "b5ef1d45",
   "metadata": {},
   "outputs": [
    {
     "data": {
      "text/plain": [
       "<coupled_modelling.coupled_modelling.Instance at 0x1b19279c9b0>"
      ]
     },
     "execution_count": 21,
     "metadata": {},
     "output_type": "execute_result"
    }
   ],
   "source": [
    "displacements_0 = kb.create_instance('data', CFD, {\n",
    "    'label': 'displacements',\n",
    "    'dimensions': 3,\n",
    "    'model_part_name': 'WING',\n",
    "    'variable_name': 'MESH_DISPLACEMENT'})\n",
    "\n",
    "displacements_0"
   ]
  },
  {
   "cell_type": "markdown",
   "id": "04e2cc4d",
   "metadata": {},
   "source": [
    "Creating lift force data instance for the CFD solver"
   ]
  },
  {
   "cell_type": "code",
   "execution_count": 22,
   "id": "6f2cc27f",
   "metadata": {},
   "outputs": [
    {
     "data": {
      "text/plain": [
       "<coupled_modelling.coupled_modelling.Instance at 0x1b19258f2c0>"
      ]
     },
     "execution_count": 22,
     "metadata": {},
     "output_type": "execute_result"
    }
   ],
   "source": [
    "lift_force_0 = kb.create_instance('data', CFD, {\n",
    "    'label': 'lift_force',\n",
    "    'dimensions': 3,\n",
    "    'model_part_name': 'WING',\n",
    "    'variable_name': 'REACTION'})\n",
    "\n",
    "lift_force_0"
   ]
  },
  {
   "cell_type": "markdown",
   "id": "cb6c25d4",
   "metadata": {},
   "source": [
    "Copying io settings with a new *connect_to* value"
   ]
  },
  {
   "cell_type": "code",
   "execution_count": 23,
   "id": "e68977b9",
   "metadata": {},
   "outputs": [
    {
     "data": {
      "text/plain": [
       "<coupled_modelling.coupled_modelling.Instance at 0x1b19279d6d0>"
      ]
     },
     "execution_count": 23,
     "metadata": {},
     "output_type": "execute_result"
    }
   ],
   "source": [
    "io_settings_old = next(iter(solver_old_0.properties['io_settings']))\n",
    "io_settings_old = kb.get_instance(io_settings_old)\n",
    "\n",
    "io_settings_new = io_settings_old.make_copy(CFD, {\n",
    "    'connect_to': 'run_SU2'})\n",
    "\n",
    "io_settings_new"
   ]
  },
  {
   "cell_type": "markdown",
   "id": "d6971ddd",
   "metadata": {},
   "source": [
    "Copying solver wrapper settings"
   ]
  },
  {
   "cell_type": "code",
   "execution_count": 24,
   "id": "98e83e94",
   "metadata": {},
   "outputs": [
    {
     "data": {
      "text/plain": [
       "<coupled_modelling.coupled_modelling.Instance at 0x1b19279e300>"
      ]
     },
     "execution_count": 24,
     "metadata": {},
     "output_type": "execute_result"
    }
   ],
   "source": [
    "solver_wrapper_settings_old_0 = next(iter(solver_old_0.properties['solver_wrapper_settings']))\n",
    "solver_wrapper_settings_old_0 = kb.get_instance(solver_wrapper_settings_old_0)\n",
    "\n",
    "solver_wrapper_settings_new_0 = solver_wrapper_settings_old_0.make_copy(CFD, {\n",
    "    'export_data': 'displacements',\n",
    "    'import_meshes': 'WING'})\n",
    "\n",
    "solver_wrapper_settings_new_0"
   ]
  },
  {
   "cell_type": "markdown",
   "id": "27e598e7",
   "metadata": {},
   "source": [
    "Checking another existing solver"
   ]
  },
  {
   "cell_type": "code",
   "execution_count": 25,
   "id": "78070bfe",
   "metadata": {},
   "outputs": [
    {
     "data": {
      "text/plain": [
       "{'data': [{'instance_296': {'label': 'pitch_angle',\n",
       "    'location': 'node_historical',\n",
       "    'model_part_name': 'single_node_mesh_s',\n",
       "    'variable_name': 'SCALAR_DISPLACEMENT'}},\n",
       "  {'instance_297': {'label': 'lift_force',\n",
       "    'location': 'node_historical',\n",
       "    'model_part_name': 'single_node_mesh_s',\n",
       "    'variable_name': 'SCALAR_FORCE'}}],\n",
       " 'io_settings': {'instance_295': {'communication_format': 'file',\n",
       "   'connect_to': 'run_structure',\n",
       "   'echo_level': 4,\n",
       "   'type': 'kratos_co_sim_io'}},\n",
       " 'label': 'spring_structure',\n",
       " 'solver_wrapper_settings': {'instance_294': {'export_data': ['lift_force'],\n",
       "   'import_data': ['pitch_angle'],\n",
       "   'import_meshes': ['single_node_mesh_s']}},\n",
       " 'type': 'solver_wrappers.external.remote_controlled_solver_wrapper'}"
      ]
     },
     "execution_count": 25,
     "metadata": {},
     "output_type": "execute_result"
    }
   ],
   "source": [
    "solver_old_1 = next(iter(solver_settings_old.properties['solvers'][1]))\n",
    "solver_old_1 = kb.get_instance(solver_old_1)\n",
    "solver_old_1.get_properties(2)"
   ]
  },
  {
   "cell_type": "markdown",
   "id": "c26c5822",
   "metadata": {},
   "source": [
    "As the second solver for the new soupled system, we creat an instance of the SM solver"
   ]
  },
  {
   "cell_type": "code",
   "execution_count": 26,
   "id": "ce88a906",
   "metadata": {},
   "outputs": [
    {
     "data": {
      "text/plain": [
       "<coupled_modelling.coupled_modelling.Instance at 0x1b192552900>"
      ]
     },
     "execution_count": 26,
     "metadata": {},
     "output_type": "execute_result"
    }
   ],
   "source": [
    "SM = kb.create_instance('solvers', solver_settings_new, {\n",
    "    'label': 'SM',\n",
    "    'type': 'solver_wrappers.kratos.structural_mechanics_wrapper'})\n",
    "\n",
    "SM"
   ]
  },
  {
   "cell_type": "markdown",
   "id": "78cfaf4f",
   "metadata": {},
   "source": [
    "Coping data for the second new solver from the first one"
   ]
  },
  {
   "cell_type": "code",
   "execution_count": 27,
   "id": "b3499e89",
   "metadata": {},
   "outputs": [
    {
     "data": {
      "text/plain": [
       "<coupled_modelling.coupled_modelling.Instance at 0x1b19279ecc0>"
      ]
     },
     "execution_count": 27,
     "metadata": {},
     "output_type": "execute_result"
    }
   ],
   "source": [
    "displacements_1 = displacements_0.make_copy(SM, {\n",
    "    'model_part_name': 'Structure.interface',\n",
    "    'variable_name': 'DISPLACEMENT'})\n",
    "\n",
    "displacements_1"
   ]
  },
  {
   "cell_type": "markdown",
   "id": "09125e64",
   "metadata": {},
   "source": [
    "Copying another data from the first solver"
   ]
  },
  {
   "cell_type": "code",
   "execution_count": 28,
   "id": "499e69fa",
   "metadata": {},
   "outputs": [
    {
     "data": {
      "text/plain": [
       "<coupled_modelling.coupled_modelling.Instance at 0x1b19279e9f0>"
      ]
     },
     "execution_count": 28,
     "metadata": {},
     "output_type": "execute_result"
    }
   ],
   "source": [
    "lift_force_1 = lift_force_0.make_copy(SM, {\n",
    "    'model_part_name': 'Structure.interface',\n",
    "    'variable_name': 'POINT_LOAD'})\n",
    "\n",
    "lift_force_1"
   ]
  },
  {
   "cell_type": "markdown",
   "id": "83834660",
   "metadata": {},
   "source": [
    "Creating solver wrapper settings for the second new solver"
   ]
  },
  {
   "cell_type": "code",
   "execution_count": 29,
   "id": "40e60b6a",
   "metadata": {},
   "outputs": [
    {
     "data": {
      "text/plain": [
       "<coupled_modelling.coupled_modelling.Instance at 0x1b19279d550>"
      ]
     },
     "execution_count": 29,
     "metadata": {},
     "output_type": "execute_result"
    }
   ],
   "source": [
    "solver_wrapper_settings_new_1 = kb.create_instance('solver_wrapper_settings', SM, {\n",
    "    'input_file': 'ProjectParametersSM'})\n",
    "\n",
    "solver_wrapper_settings_new_1"
   ]
  },
  {
   "cell_type": "markdown",
   "id": "ab309762",
   "metadata": {},
   "source": [
    "Exporting created coupled system in a Kratos-compatible JSON format"
   ]
  },
  {
   "cell_type": "code",
   "execution_count": 30,
   "id": "4009b038",
   "metadata": {},
   "outputs": [
    {
     "data": {
      "text/plain": [
       "{'problem_data': {'echo_level': 2,\n",
       "  'end_time': 1.0,\n",
       "  'parallel_type': 'OpenMP',\n",
       "  'print_colors': True,\n",
       "  'start_time': 0.0},\n",
       " 'solver_settings': {'convergence_accelerators': [{'data_name': 'displacements',\n",
       "    'solver': 'CFD',\n",
       "    'type': 'aitken'}],\n",
       "  'convergence_criteria': [{'abs_tolerance': 1e-07,\n",
       "    'data_name': 'displacements',\n",
       "    'rel_tolerance': 1e-05,\n",
       "    'solver': 'CFD',\n",
       "    'type': 'relative_norm_initial_residual'}],\n",
       "  'coupling_sequence': [{'name': 'CFD'},\n",
       "   {'input_data_list': [{'data': 'lift_force',\n",
       "      'data_transfer_operator': 'mapping_operation',\n",
       "      'data_transfer_operator_options': ['use_transpose'],\n",
       "      'from_solver': 'CFD',\n",
       "      'from_solver_data': 'lift_force'}],\n",
       "    'name': 'SM',\n",
       "    'output_data_list': [{'data': 'displacements',\n",
       "      'data_transfer_operator': 'mapping_operation',\n",
       "      'to_solver': 'CFD',\n",
       "      'to_solver_data': 'displacements'}]}],\n",
       "  'data_transfer_operators': {'mapping_operation': {'mapper_settings': {'mapper_type': 'nearest_neighbor',\n",
       "     'use_initial_configuration': True},\n",
       "    'type': 'kratos_mapping'}},\n",
       "  'echo_level': 4,\n",
       "  'num_coupling_iterations': 20,\n",
       "  'solvers': {'CFD': {'data': {'displacements': {'dimensions': 3,\n",
       "      'model_part_name': 'WING',\n",
       "      'variable_name': 'MESH_DISPLACEMENT'},\n",
       "     'lift_force': {'dimensions': 3,\n",
       "      'model_part_name': 'WING',\n",
       "      'variable_name': 'REACTION'}},\n",
       "    'io_settings': {'communication_format': 'file',\n",
       "     'connect_to': 'run_SU2',\n",
       "     'echo_level': 4,\n",
       "     'type': 'kratos_co_sim_io'},\n",
       "    'solver_wrapper_settings': {'export_data': ['displacements'],\n",
       "     'import_data': ['lift_force'],\n",
       "     'import_meshes': ['WING']},\n",
       "    'type': 'solver_wrappers.external.remote_controlled_solver_wrapper'},\n",
       "   'SM': {'data': {'displacements': {'dimensions': 3,\n",
       "      'model_part_name': 'Structure.interface',\n",
       "      'variable_name': 'DISPLACEMENT'},\n",
       "     'lift_force': {'dimensions': 3,\n",
       "      'model_part_name': 'Structure.interface',\n",
       "      'variable_name': 'POINT_LOAD'}},\n",
       "    'solver_wrapper_settings': {'input_file': 'ProjectParametersSM'},\n",
       "    'type': 'solver_wrappers.kratos.structural_mechanics_wrapper'}},\n",
       "  'type': 'coupled_solvers.gauss_seidel_strong'}}"
      ]
     },
     "execution_count": 30,
     "metadata": {},
     "output_type": "execute_result"
    }
   ],
   "source": [
    "export = Onera_FSI.export_kratos()\n",
    "\n",
    "export"
   ]
  },
  {
   "cell_type": "markdown",
   "id": "81b3bc7f",
   "metadata": {},
   "source": [
    "Saving exported data into a file"
   ]
  },
  {
   "cell_type": "code",
   "execution_count": 31,
   "id": "5c9bea79",
   "metadata": {},
   "outputs": [],
   "source": [
    "export_path = os.path.join(\n",
    "    os.path.abspath(''),\n",
    "    'export_onera_fsi.json')\n",
    "\n",
    "with open(export_path, 'w') as file:\n",
    "    json.dump(export, file, indent=2)"
   ]
  },
  {
   "cell_type": "markdown",
   "id": "1105de57",
   "metadata": {},
   "source": [
    "Inferring new ontology classes from the created coupled system"
   ]
  },
  {
   "cell_type": "code",
   "execution_count": 32,
   "id": "c0cad2dd",
   "metadata": {},
   "outputs": [
    {
     "data": {
      "text/plain": [
       "''"
      ]
     },
     "execution_count": 32,
     "metadata": {},
     "output_type": "execute_result"
    }
   ],
   "source": [
    "Onera_FSI.infer_classes()"
   ]
  },
  {
   "cell_type": "markdown",
   "id": "a8105431",
   "metadata": {},
   "source": [
    "Updating the knowledge base"
   ]
  },
  {
   "cell_type": "code",
   "execution_count": 33,
   "id": "d0def747",
   "metadata": {},
   "outputs": [
    {
     "data": {
      "text/plain": [
       "''"
      ]
     },
     "execution_count": 33,
     "metadata": {},
     "output_type": "execute_result"
    }
   ],
   "source": [
    "kb.save()"
   ]
  },
  {
   "cell_type": "markdown",
   "id": "ed7337bd-a1cf-4cdc-93cb-3de597df888b",
   "metadata": {},
   "source": [
    "Getting a local copy of the knowledge base"
   ]
  },
  {
   "cell_type": "code",
   "execution_count": 34,
   "id": "592b6fd7",
   "metadata": {},
   "outputs": [],
   "source": [
    "onto_path = os.path.join(\n",
    "    os.path.abspath(''),\n",
    "    'demo_client.owl')\n",
    "\n",
    "kb.save_locally(onto_path)"
   ]
  }
 ],
 "metadata": {
  "kernelspec": {
   "display_name": "Python 3",
   "language": "python",
   "name": "python3"
  },
  "language_info": {
   "codemirror_mode": {
    "name": "ipython",
    "version": 3
   },
   "file_extension": ".py",
   "mimetype": "text/x-python",
   "name": "python",
   "nbconvert_exporter": "python",
   "pygments_lexer": "ipython3",
   "version": "3.12.9"
  }
 },
 "nbformat": 4,
 "nbformat_minor": 5
}
