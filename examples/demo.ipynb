{
 "cells": [
  {
   "cell_type": "code",
   "execution_count": 1,
   "id": "d2148af1",
   "metadata": {},
   "outputs": [
    {
     "name": "stderr",
     "output_type": "stream",
     "text": [
      "* Owlready2 * Warning: optimized Cython parser module 'owlready2_optimized' is not available, defaulting to slower Python implementation\n"
     ]
    }
   ],
   "source": [
    "from coupled_modelling import *"
   ]
  },
  {
   "cell_type": "markdown",
   "id": "781e037e",
   "metadata": {},
   "source": [
    "Creating a new empty coupled system"
   ]
  },
  {
   "cell_type": "code",
   "execution_count": 2,
   "id": "2c5a898e",
   "metadata": {},
   "outputs": [
    {
     "data": {
      "text/plain": [
       "'coupled_system2'"
      ]
     },
     "execution_count": 2,
     "metadata": {},
     "output_type": "execute_result"
    }
   ],
   "source": [
    "test_coupled = create_coupled('test')\n",
    "test_coupled.name"
   ]
  },
  {
   "cell_type": "markdown",
   "id": "d4ff177c",
   "metadata": {},
   "source": [
    "Checking that the new coupled system appeared amongs instences of coupled systems"
   ]
  },
  {
   "cell_type": "code",
   "execution_count": 3,
   "id": "a64489e0",
   "metadata": {},
   "outputs": [
    {
     "data": {
      "text/plain": [
       "['coupled_system1', 'coupled_system2']"
      ]
     },
     "execution_count": 3,
     "metadata": {},
     "output_type": "execute_result"
    }
   ],
   "source": [
    "get_instances('coupled_system')"
   ]
  },
  {
   "cell_type": "markdown",
   "id": "5bea30f9",
   "metadata": {},
   "source": [
    "Copying an existing connected instance"
   ]
  },
  {
   "cell_type": "code",
   "execution_count": 4,
   "id": "3195c946",
   "metadata": {},
   "outputs": [
    {
     "data": {
      "text/plain": [
       "'class_problem_data11'"
      ]
     },
     "execution_count": 4,
     "metadata": {},
     "output_type": "execute_result"
    }
   ],
   "source": [
    "test_problem_data = copy_instance(test_coupled, 'problem_data', 'problem_data1')\n",
    "test_problem_data.name"
   ]
  },
  {
   "cell_type": "markdown",
   "id": "dd70c76d",
   "metadata": {},
   "source": [
    "Copying an existing connected instance recursively"
   ]
  },
  {
   "cell_type": "code",
   "execution_count": 5,
   "id": "06b03df5",
   "metadata": {},
   "outputs": [
    {
     "data": {
      "text/plain": [
       "{'has_coupling_sequence': ['class_coupling_sequence11',\n",
       "  'class_coupling_sequence21'],\n",
       " 'has_type': ['coupled_solvers.gauss_seidel_strong'],\n",
       " 'has_convergence_accelerators': ['class_convergence_accelerators11'],\n",
       " 'has_convergence_criteria': ['class_convergence_criteria11'],\n",
       " 'has_data_transfer_operators': ['class_data_transfer_operators11'],\n",
       " 'has_echo_level': [3],\n",
       " 'has_solvers': ['class_solvers11', 'class_solvers12'],\n",
       " 'has_num_coupling_iterations': [20]}"
      ]
     },
     "execution_count": 5,
     "metadata": {},
     "output_type": "execute_result"
    }
   ],
   "source": [
    "test_solver_settings = copy_instance_recursively('solver_settings1')\n",
    "get_instance_properties(test_solver_settings.name)"
   ]
  },
  {
   "cell_type": "code",
   "execution_count": 6,
   "id": "f1fedf67",
   "metadata": {},
   "outputs": [
    {
     "data": {
      "text/plain": [
       "{'has_solver_settings': ['class_solver_settings11'],\n",
       " 'label': ['test'],\n",
       " 'has_problem_data': ['class_problem_data11']}"
      ]
     },
     "execution_count": 6,
     "metadata": {},
     "output_type": "execute_result"
    }
   ],
   "source": [
    "add_value(test_coupled, 'solver_settings', test_solver_settings)\n",
    "get_instance_properties(test_coupled.name)"
   ]
  },
  {
   "cell_type": "markdown",
   "id": "6353f515",
   "metadata": {},
   "source": [
    "Adding a property to the copied instance"
   ]
  },
  {
   "cell_type": "code",
   "execution_count": 7,
   "id": "3a6fd5e6",
   "metadata": {},
   "outputs": [
    {
     "data": {
      "text/plain": [
       "{'has_coupling_sequence': ['class_coupling_sequence11',\n",
       "  'class_coupling_sequence21'],\n",
       " 'has_type': ['coupled_solvers.gauss_seidel_strong'],\n",
       " 'has_convergence_accelerators': ['class_convergence_accelerators11'],\n",
       " 'has_convergence_criteria': ['class_convergence_criteria11'],\n",
       " 'has_data_transfer_operators': ['class_data_transfer_operators11'],\n",
       " 'has_echo_level': [3],\n",
       " 'has_solvers': ['class_solvers11', 'class_solvers12'],\n",
       " 'has_num_coupling_iterations': [30]}"
      ]
     },
     "execution_count": 7,
     "metadata": {},
     "output_type": "execute_result"
    }
   ],
   "source": [
    "replace_value(test_solver_settings, 'num_coupling_iterations', 30)\n",
    "get_instance_properties(test_solver_settings.name)"
   ]
  },
  {
   "cell_type": "markdown",
   "id": "24613ef5",
   "metadata": {},
   "source": [
    "Getting instance properties recursively in Kratos format"
   ]
  },
  {
   "cell_type": "code",
   "execution_count": 8,
   "id": "60edc6fb",
   "metadata": {},
   "outputs": [
    {
     "name": "stdout",
     "output_type": "stream",
     "text": [
      "solver_settings ['class_solver_settings11']\n",
      "name ['low_fid_fluid']\n",
      "name ['spring_structure']\n",
      "to_solver_data ['pitch_angle']\n",
      "data_transfer_operator ['direct_transfer']\n",
      "to_solver ['low_fid_fluid']\n",
      "data ['pitch_angle']\n",
      "from_solver ['low_fid_fluid']\n",
      "from_solver_data ['lift_force']\n",
      "data_transfer_operator ['direct_transfer']\n",
      "data ['lift_force']\n",
      "type ['coupled_solvers.gauss_seidel_strong']\n",
      "type ['aitken']\n",
      "data_name ['pitch_angle']\n",
      "solver ['low_fid_fluid']\n",
      "type ['relative_norm_previous_residual']\n",
      "abs_tolerance [1e-07]\n",
      "data_name ['pitch_angle']\n",
      "solver ['low_fid_fluid']\n",
      "rel_tolerance [1e-05]\n",
      "data_transfer_operators ['class_data_transfer_operators11']\n",
      "type ['kratos_mapping']\n",
      "mapper_settings ['class_mapper_settings11']\n",
      "mapper_type ['nearest_neighbor']\n",
      "echo_level [3]\n",
      "echo_level [3]\n",
      "type ['solver_wrappers.external.remote_controlled_solver_wrapper']\n",
      "solver_wrapper_settings ['class_solver_wrapper_settings11']\n",
      "io_settings ['class_io_settings11']\n",
      "type ['kratos_co_sim_io']\n",
      "communication_format ['file']\n",
      "connect_to ['run_fluid']\n",
      "echo_level [4]\n",
      "variable_name ['SCALAR_DISPLACEMENT']\n",
      "model_part_name ['single_node_mesh_f']\n",
      "location ['node_historical']\n",
      "variable_name ['SCALAR_FORCE']\n",
      "model_part_name ['single_node_mesh_f']\n",
      "location ['node_historical']\n",
      "type ['solver_wrappers.external.remote_controlled_solver_wrapper']\n",
      "solver_wrapper_settings ['class_solver_wrapper_settings12']\n",
      "io_settings ['class_io_settings12']\n",
      "type ['kratos_co_sim_io']\n",
      "communication_format ['file']\n",
      "connect_to ['run_structure']\n",
      "echo_level [4]\n",
      "variable_name ['SCALAR_DISPLACEMENT']\n",
      "model_part_name ['single_node_mesh_s']\n",
      "location ['node_historical']\n",
      "variable_name ['SCALAR_FORCE']\n",
      "model_part_name ['single_node_mesh_s']\n",
      "location ['node_historical']\n",
      "num_coupling_iterations [30]\n",
      "problem_data ['class_problem_data11']\n",
      "parallel_type ['OpenMP']\n",
      "end_time [1.0]\n",
      "print_colors [True]\n",
      "start_time [0.0]\n",
      "echo_level [0]\n"
     ]
    }
   ],
   "source": [
    "import json\n",
    "\n",
    "export = export_coupled_kratos(test_coupled.name)\n",
    "with open('export_kratos.json', 'w') as file:\n",
    "    json.dump(export, file, indent=2)"
   ]
  },
  {
   "cell_type": "code",
   "execution_count": null,
   "id": "6c700c5d",
   "metadata": {},
   "outputs": [],
   "source": []
  }
 ],
 "metadata": {
  "kernelspec": {
   "display_name": "Python 3 (ipykernel)",
   "language": "python",
   "name": "python3"
  },
  "language_info": {
   "codemirror_mode": {
    "name": "ipython",
    "version": 3
   },
   "file_extension": ".py",
   "mimetype": "text/x-python",
   "name": "python",
   "nbconvert_exporter": "python",
   "pygments_lexer": "ipython3",
   "version": "3.10.5"
  }
 },
 "nbformat": 4,
 "nbformat_minor": 5
}
