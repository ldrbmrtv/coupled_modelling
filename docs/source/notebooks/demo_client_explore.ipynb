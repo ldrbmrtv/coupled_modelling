{
 "cells": [
  {
   "cell_type": "markdown",
   "id": "89d9908e",
   "metadata": {},
   "source": [
    "# Exploring the knowledge base"
   ]
  },
  {
   "cell_type": "markdown",
   "id": "20d8cbbc",
   "metadata": {},
   "source": [
    "Connecting to the knowledge base"
   ]
  },
  {
   "cell_type": "code",
   "execution_count": 1,
   "id": "3d6db8ee",
   "metadata": {},
   "outputs": [
    {
     "data": {
      "text/plain": [
       "<coupled_modelling.coupled_modelling.KnowledgeBase at 0x2596b3e1ca0>"
      ]
     },
     "execution_count": 1,
     "metadata": {},
     "output_type": "execute_result"
    }
   ],
   "source": [
    "from coupled_modelling import KnowledgeBase\n",
    "\n",
    "kb = KnowledgeBase('http://127.0.0.1:5000/api/v1.0/')\n",
    "\n",
    "kb"
   ]
  },
  {
   "cell_type": "markdown",
   "id": "14594abd",
   "metadata": {},
   "source": [
    "Importing a couple of existing coupled systems from JSON files"
   ]
  },
  {
   "cell_type": "code",
   "execution_count": 2,
   "id": "1674a194",
   "metadata": {},
   "outputs": [],
   "source": [
    "import os\n",
    "import json\n",
    "\n",
    "main_dir = os.path.dirname(os.path.abspath(''))\n",
    "\n",
    "input_path_1 = os.path.join(\n",
    "    main_dir,\n",
    "    'mixed_fid_models/',\n",
    "    'ProjectParametersCoSimFSI.json')\n",
    "\n",
    "input_path_2 = os.path.join(\n",
    "    main_dir,\n",
    "    'FSI_Mok/',\n",
    "    'ProjectParametersCoSim.json')\n",
    "\n",
    "inputs = {\n",
    "    'mixed_fid_models': input_path_1,\n",
    "    'FSI_Mok': input_path_2\n",
    "}\n",
    "\n",
    "for label, path in inputs.items():\n",
    "    with open(path) as f:\n",
    "        data = json.load(f)\n",
    "    kb.import_kratos(label, data)"
   ]
  },
  {
   "cell_type": "markdown",
   "id": "99d780de",
   "metadata": {},
   "source": [
    "The knowledge base creates a high level class for each nested property of the coupled system and infers a specific subclass of the high level class if an instance in the coupled system has a unique set of value types for its properties. Let's look at the class hierarchy in the knowledge base"
   ]
  },
  {
   "cell_type": "code",
   "execution_count": 3,
   "id": "cc5eb8f0",
   "metadata": {},
   "outputs": [
    {
     "data": {
      "text/plain": [
       "{'communication_format': [],\n",
       " 'connect_to': [],\n",
       " 'convergence_accelerators': ['convergence_accelerators_1',\n",
       "  'convergence_accelerators_2',\n",
       "  'convergence_accelerators_3'],\n",
       " 'convergence_criteria': ['convergence_criteria_1', 'convergence_criteria_2'],\n",
       " 'coupled_system': ['coupled_system_1',\n",
       "  'coupled_system_2',\n",
       "  'coupled_system_3'],\n",
       " 'coupling_sequence': ['coupling_sequence_1',\n",
       "  'coupling_sequence_2',\n",
       "  'coupling_sequence_3',\n",
       "  'coupling_sequence_4'],\n",
       " 'data': ['data_1', 'data_2', 'data_3', 'data_4'],\n",
       " 'data_name': [],\n",
       " 'data_transfer_operator': [],\n",
       " 'data_transfer_operator_options': [],\n",
       " 'data_transfer_operators': ['data_transfer_operators_1',\n",
       "  'data_transfer_operators_2',\n",
       "  'data_transfer_operators_3'],\n",
       " 'export_data': [],\n",
       " 'from_solver': [],\n",
       " 'from_solver_data': [],\n",
       " 'import_data': [],\n",
       " 'import_meshes': [],\n",
       " 'input_data_list': ['input_data_list_1', 'input_data_list_2'],\n",
       " 'input_file': [],\n",
       " 'io_settings': ['io_settings_1'],\n",
       " 'location': [],\n",
       " 'mapper_settings': ['mapper_settings_1',\n",
       "  'mapper_settings_2',\n",
       "  'mapper_settings_3'],\n",
       " 'mapper_type': [],\n",
       " 'model_part_name': [],\n",
       " 'name': [],\n",
       " 'output_data_list': ['output_data_list_1',\n",
       "  'output_data_list_2',\n",
       "  'output_data_list_3'],\n",
       " 'parallel_type': [],\n",
       " 'problem_data': ['problem_data_1'],\n",
       " 'solver': [],\n",
       " 'solver_settings': ['solver_settings_1', 'solver_settings_2'],\n",
       " 'solver_wrapper_settings': ['solver_wrapper_settings_1',\n",
       "  'solver_wrapper_settings_2',\n",
       "  'solver_wrapper_settings_3'],\n",
       " 'solvers': ['solvers_1', 'solvers_2', 'solvers_3', 'solvers_4', 'solvers_5'],\n",
       " 'to_solver': [],\n",
       " 'to_solver_data': [],\n",
       " 'type': [],\n",
       " 'variable_name': []}"
      ]
     },
     "execution_count": 3,
     "metadata": {},
     "output_type": "execute_result"
    }
   ],
   "source": [
    "kb.get_class_hierarchy()"
   ]
  },
  {
   "cell_type": "markdown",
   "id": "ef3fc99f",
   "metadata": {},
   "source": [
    "Let's Look into properties of the *coupled_system_1* subclass specifically. The method *get_properties* returns a list of class properties, where each item has a name of the property, its cardinality, i.e. the number of values, and its value type"
   ]
  },
  {
   "cell_type": "code",
   "execution_count": 4,
   "id": "4ad2e0e3",
   "metadata": {},
   "outputs": [
    {
     "data": {
      "text/plain": [
       "[{'cardinality': 1,\n",
       "  'property': 'has_solver_settings',\n",
       "  'value': ['solver_settings_1']},\n",
       " {'cardinality': 1,\n",
       "  'property': 'has_problem_data',\n",
       "  'value': ['problem_data_1']}]"
      ]
     },
     "execution_count": 4,
     "metadata": {},
     "output_type": "execute_result"
    }
   ],
   "source": [
    "coupled_system_class_1 = kb.get_class('coupled_system_1')\n",
    "coupled_system_class_1.get_properties()"
   ]
  },
  {
   "cell_type": "markdown",
   "id": "f41950f2",
   "metadata": {},
   "source": [
    "Sometimes it is easier to get nested properties too. To support this, the *.get_properties()* method has an optional *depth* parameter, which specifies how many levels of nested classes the method should retrieve properties for"
   ]
  },
  {
   "cell_type": "code",
   "execution_count": 5,
   "id": "9f4cbd12",
   "metadata": {},
   "outputs": [
    {
     "data": {
      "text/plain": [
       "[{'cardinality': 1,\n",
       "  'property': 'has_solver_settings',\n",
       "  'value': [{'solver_settings_1': [{'cardinality': 1,\n",
       "      'property': 'has_num_coupling_iterations',\n",
       "      'value': 'int'},\n",
       "     {'cardinality': 1, 'property': 'has_solvers', 'value': ['solvers_1']},\n",
       "     {'cardinality': 1, 'property': 'has_solvers', 'value': ['solvers_2']},\n",
       "     {'cardinality': 1,\n",
       "      'property': 'has_convergence_criteria',\n",
       "      'value': ['convergence_criteria_1']},\n",
       "     {'cardinality': 1, 'property': 'has_type', 'value': ['type']},\n",
       "     {'cardinality': 1,\n",
       "      'property': 'has_data_transfer_operators',\n",
       "      'value': ['data_transfer_operators_1']},\n",
       "     {'cardinality': 1, 'property': 'has_echo_level', 'value': 'int'},\n",
       "     {'cardinality': 1,\n",
       "      'property': 'has_coupling_sequence',\n",
       "      'value': ['coupling_sequence_1']},\n",
       "     {'cardinality': 1,\n",
       "      'property': 'has_coupling_sequence',\n",
       "      'value': ['coupling_sequence_2']},\n",
       "     {'cardinality': 1,\n",
       "      'property': 'has_convergence_accelerators',\n",
       "      'value': ['convergence_accelerators_1']}]}]},\n",
       " {'cardinality': 1,\n",
       "  'property': 'has_problem_data',\n",
       "  'value': [{'problem_data_1': [{'cardinality': 1,\n",
       "      'property': 'has_start_time',\n",
       "      'value': 'float'},\n",
       "     {'cardinality': 1, 'property': 'has_print_colors', 'value': 'bool'},\n",
       "     {'cardinality': 1,\n",
       "      'property': 'has_parallel_type',\n",
       "      'value': ['parallel_type']},\n",
       "     {'cardinality': 1, 'property': 'has_end_time', 'value': 'float'},\n",
       "     {'cardinality': 1, 'property': 'has_echo_level', 'value': 'int'}]}]}]"
      ]
     },
     "execution_count": 5,
     "metadata": {},
     "output_type": "execute_result"
    }
   ],
   "source": [
    "coupled_system_class_1.get_properties(2)"
   ]
  },
  {
   "cell_type": "markdown",
   "id": "2c48dd59",
   "metadata": {},
   "source": [
    "And in case we need all the nested properties without the limit, there is an optional *recursive* parameter"
   ]
  },
  {
   "cell_type": "code",
   "execution_count": 6,
   "id": "e4821189",
   "metadata": {},
   "outputs": [
    {
     "data": {
      "text/plain": [
       "[{'cardinality': 1,\n",
       "  'property': 'has_solver_settings',\n",
       "  'value': [{'solver_settings_1': [{'cardinality': 1,\n",
       "      'property': 'has_num_coupling_iterations',\n",
       "      'value': 'int'},\n",
       "     {'cardinality': 1,\n",
       "      'property': 'has_solvers',\n",
       "      'value': [{'solvers_1': [{'cardinality': 2,\n",
       "          'property': 'has_data',\n",
       "          'value': [{'data_1': [{'cardinality': 1,\n",
       "              'property': 'has_variable_name',\n",
       "              'value': [{'variable_name': []}]},\n",
       "             {'cardinality': 1,\n",
       "              'property': 'has_model_part_name',\n",
       "              'value': [{'import_meshes': []}, {'model_part_name': []}]},\n",
       "             {'cardinality': 1,\n",
       "              'property': 'has_location',\n",
       "              'value': [{'location': []}]}]}]},\n",
       "         {'cardinality': 1, 'property': 'has_type', 'value': [{'type': []}]},\n",
       "         {'cardinality': 1,\n",
       "          'property': 'has_io_settings',\n",
       "          'value': [{'io_settings_1': [{'cardinality': 1,\n",
       "              'property': 'has_echo_level',\n",
       "              'value': 'int'},\n",
       "             {'cardinality': 1,\n",
       "              'property': 'has_type',\n",
       "              'value': [{'type': []}]},\n",
       "             {'cardinality': 1,\n",
       "              'property': 'has_connect_to',\n",
       "              'value': [{'connect_to': []}]},\n",
       "             {'cardinality': 1,\n",
       "              'property': 'has_communication_format',\n",
       "              'value': [{'communication_format': []}]}]}]},\n",
       "         {'cardinality': 1,\n",
       "          'property': 'has_solver_wrapper_settings',\n",
       "          'value': [{'solver_wrapper_settings_1': [{'cardinality': 1,\n",
       "              'property': 'has_import_meshes',\n",
       "              'value': [{'import_meshes': []}, {'model_part_name': []}]},\n",
       "             {'cardinality': 1,\n",
       "              'property': 'has_export_data',\n",
       "              'value': [{'data_name': []},\n",
       "               {'data': []},\n",
       "               {'to_solver_data': []},\n",
       "               {'export_data': []},\n",
       "               {'import_data': []}]},\n",
       "             {'cardinality': 1,\n",
       "              'property': 'has_import_data',\n",
       "              'value': [{'data': []},\n",
       "               {'from_solver_data': []},\n",
       "               {'import_data': []},\n",
       "               {'export_data': []}]}]}]}]}]},\n",
       "     {'cardinality': 1,\n",
       "      'property': 'has_solvers',\n",
       "      'value': [{'solvers_2': [{'cardinality': 2,\n",
       "          'property': 'has_data',\n",
       "          'value': [{'data_1': [{'cardinality': 1,\n",
       "              'property': 'has_variable_name',\n",
       "              'value': [{'variable_name': []}]},\n",
       "             {'cardinality': 1,\n",
       "              'property': 'has_model_part_name',\n",
       "              'value': [{'import_meshes': []}, {'model_part_name': []}]},\n",
       "             {'cardinality': 1,\n",
       "              'property': 'has_location',\n",
       "              'value': [{'location': []}]}]}]},\n",
       "         {'cardinality': 1, 'property': 'has_type', 'value': [{'type': []}]},\n",
       "         {'cardinality': 1,\n",
       "          'property': 'has_io_settings',\n",
       "          'value': [{'io_settings_1': [{'cardinality': 1,\n",
       "              'property': 'has_echo_level',\n",
       "              'value': 'int'},\n",
       "             {'cardinality': 1,\n",
       "              'property': 'has_type',\n",
       "              'value': [{'type': []}]},\n",
       "             {'cardinality': 1,\n",
       "              'property': 'has_connect_to',\n",
       "              'value': [{'connect_to': []}]},\n",
       "             {'cardinality': 1,\n",
       "              'property': 'has_communication_format',\n",
       "              'value': [{'communication_format': []}]}]}]},\n",
       "         {'cardinality': 1,\n",
       "          'property': 'has_solver_wrapper_settings',\n",
       "          'value': [{'solver_wrapper_settings_2': [{'cardinality': 1,\n",
       "              'property': 'has_import_meshes',\n",
       "              'value': [{'import_meshes': []}, {'model_part_name': []}]},\n",
       "             {'cardinality': 1,\n",
       "              'property': 'has_export_data',\n",
       "              'value': [{'data': []},\n",
       "               {'from_solver_data': []},\n",
       "               {'import_data': []},\n",
       "               {'export_data': []}]},\n",
       "             {'cardinality': 1,\n",
       "              'property': 'has_import_data',\n",
       "              'value': [{'data_name': []},\n",
       "               {'data': []},\n",
       "               {'to_solver_data': []},\n",
       "               {'export_data': []},\n",
       "               {'import_data': []}]}]}]}]}]},\n",
       "     {'cardinality': 1,\n",
       "      'property': 'has_convergence_criteria',\n",
       "      'value': [{'convergence_criteria_1': [{'cardinality': 1,\n",
       "          'property': 'has_abs_tolerance',\n",
       "          'value': 'float'},\n",
       "         {'cardinality': 1, 'property': 'has_rel_tolerance', 'value': 'float'},\n",
       "         {'cardinality': 1,\n",
       "          'property': 'has_data_name',\n",
       "          'value': [{'data_name': []},\n",
       "           {'data': []},\n",
       "           {'to_solver_data': []},\n",
       "           {'export_data': []},\n",
       "           {'import_data': []}]},\n",
       "         {'cardinality': 1, 'property': 'has_type', 'value': [{'type': []}]},\n",
       "         {'cardinality': 1,\n",
       "          'property': 'has_solver',\n",
       "          'value': [{'solver': []},\n",
       "           {'name': []},\n",
       "           {'from_solver': []},\n",
       "           {'to_solver': []}]}]}]},\n",
       "     {'cardinality': 1, 'property': 'has_type', 'value': [{'type': []}]},\n",
       "     {'cardinality': 1,\n",
       "      'property': 'has_data_transfer_operators',\n",
       "      'value': [{'data_transfer_operators_1': [{'cardinality': 1,\n",
       "          'property': 'has_mapper_settings',\n",
       "          'value': [{'mapper_settings_1': [{'cardinality': 1,\n",
       "              'property': 'has_mapper_type',\n",
       "              'value': [{'mapper_type': []}]},\n",
       "             {'cardinality': 1,\n",
       "              'property': 'has_echo_level',\n",
       "              'value': 'int'}]}]},\n",
       "         {'cardinality': 1,\n",
       "          'property': 'has_type',\n",
       "          'value': [{'type': []}]}]}]},\n",
       "     {'cardinality': 1, 'property': 'has_echo_level', 'value': 'int'},\n",
       "     {'cardinality': 1,\n",
       "      'property': 'has_coupling_sequence',\n",
       "      'value': [{'coupling_sequence_1': [{'cardinality': 1,\n",
       "          'property': 'has_name',\n",
       "          'value': [{'solver': []},\n",
       "           {'name': []},\n",
       "           {'from_solver': []},\n",
       "           {'to_solver': []}]}]}]},\n",
       "     {'cardinality': 1,\n",
       "      'property': 'has_coupling_sequence',\n",
       "      'value': [{'coupling_sequence_2': [{'cardinality': 1,\n",
       "          'property': 'has_input_data_list',\n",
       "          'value': [{'input_data_list_1': [{'cardinality': 1,\n",
       "              'property': 'has_from_solver_data',\n",
       "              'value': [{'data': []},\n",
       "               {'from_solver_data': []},\n",
       "               {'import_data': []},\n",
       "               {'export_data': []}]},\n",
       "             {'cardinality': 1,\n",
       "              'property': 'has_data',\n",
       "              'value': [{'data': []},\n",
       "               {'from_solver_data': []},\n",
       "               {'import_data': []},\n",
       "               {'export_data': []}]},\n",
       "             {'cardinality': 1,\n",
       "              'property': 'has_from_solver',\n",
       "              'value': [{'solver': []},\n",
       "               {'name': []},\n",
       "               {'from_solver': []},\n",
       "               {'to_solver': []}]},\n",
       "             {'cardinality': 1,\n",
       "              'property': 'has_data_transfer_operator',\n",
       "              'value': [{'data_transfer_operator': []}]}]}]},\n",
       "         {'cardinality': 1,\n",
       "          'property': 'has_output_data_list',\n",
       "          'value': [{'output_data_list_1': [{'cardinality': 1,\n",
       "              'property': 'has_to_solver',\n",
       "              'value': [{'solver': []},\n",
       "               {'name': []},\n",
       "               {'from_solver': []},\n",
       "               {'to_solver': []}]},\n",
       "             {'cardinality': 1,\n",
       "              'property': 'has_data',\n",
       "              'value': [{'data_name': []},\n",
       "               {'data': []},\n",
       "               {'to_solver_data': []},\n",
       "               {'export_data': []},\n",
       "               {'import_data': []}]},\n",
       "             {'cardinality': 1,\n",
       "              'property': 'has_to_solver_data',\n",
       "              'value': [{'data_name': []},\n",
       "               {'data': []},\n",
       "               {'to_solver_data': []},\n",
       "               {'export_data': []},\n",
       "               {'import_data': []}]},\n",
       "             {'cardinality': 1,\n",
       "              'property': 'has_data_transfer_operator',\n",
       "              'value': [{'data_transfer_operator': []}]}]}]},\n",
       "         {'cardinality': 1,\n",
       "          'property': 'has_name',\n",
       "          'value': [{'name': []}]}]}]},\n",
       "     {'cardinality': 1,\n",
       "      'property': 'has_convergence_accelerators',\n",
       "      'value': [{'convergence_accelerators_1': [{'cardinality': 1,\n",
       "          'property': 'has_type',\n",
       "          'value': [{'type': []}]},\n",
       "         {'cardinality': 1,\n",
       "          'property': 'has_data_name',\n",
       "          'value': [{'data_name': []},\n",
       "           {'data': []},\n",
       "           {'to_solver_data': []},\n",
       "           {'export_data': []},\n",
       "           {'import_data': []}]},\n",
       "         {'cardinality': 1,\n",
       "          'property': 'has_solver',\n",
       "          'value': [{'solver': []},\n",
       "           {'name': []},\n",
       "           {'from_solver': []},\n",
       "           {'to_solver': []}]}]}]}]}]},\n",
       " {'cardinality': 1,\n",
       "  'property': 'has_problem_data',\n",
       "  'value': [{'problem_data_1': [{'cardinality': 1,\n",
       "      'property': 'has_start_time',\n",
       "      'value': 'float'},\n",
       "     {'cardinality': 1, 'property': 'has_print_colors', 'value': 'bool'},\n",
       "     {'cardinality': 1,\n",
       "      'property': 'has_parallel_type',\n",
       "      'value': [{'parallel_type': []}]},\n",
       "     {'cardinality': 1, 'property': 'has_end_time', 'value': 'float'},\n",
       "     {'cardinality': 1, 'property': 'has_echo_level', 'value': 'int'}]}]}]"
      ]
     },
     "execution_count": 6,
     "metadata": {},
     "output_type": "execute_result"
    }
   ],
   "source": [
    "coupled_system_class_1.get_properties(recursive=True)"
   ]
  },
  {
   "cell_type": "markdown",
   "id": "ab87e630",
   "metadata": {},
   "source": [
    "Let's compare it with the second subclass"
   ]
  },
  {
   "cell_type": "code",
   "execution_count": 7,
   "id": "977a10dd",
   "metadata": {},
   "outputs": [
    {
     "data": {
      "text/plain": [
       "[{'cardinality': 1, 'property': 'has_result', 'value': 'str'},\n",
       " {'cardinality': 1,\n",
       "  'property': 'has_solver_settings',\n",
       "  'value': ['solver_settings_1_1']},\n",
       " {'cardinality': 1,\n",
       "  'property': 'has_problem_data',\n",
       "  'value': ['problem_data_1']}]"
      ]
     },
     "execution_count": 7,
     "metadata": {},
     "output_type": "execute_result"
    }
   ],
   "source": [
    "coupled_system_class_2 = kb.get_class('coupled_system_2')\n",
    "coupled_system_class_2.get_properties()"
   ]
  },
  {
   "cell_type": "markdown",
   "id": "9b932c21",
   "metadata": {},
   "source": [
    "We see that both classes have similar problem data but different solver settings. Let's check the difference in the solver settings"
   ]
  },
  {
   "cell_type": "code",
   "execution_count": 8,
   "id": "81cc12bc",
   "metadata": {},
   "outputs": [
    {
     "data": {
      "text/plain": [
       "[{'cardinality': 1, 'property': 'has_num_coupling_iterations', 'value': 'int'},\n",
       " {'cardinality': 1, 'property': 'has_solvers', 'value': ['solvers_1']},\n",
       " {'cardinality': 1, 'property': 'has_solvers', 'value': ['solvers_2']},\n",
       " {'cardinality': 1,\n",
       "  'property': 'has_convergence_criteria',\n",
       "  'value': ['convergence_criteria_1']},\n",
       " {'cardinality': 1, 'property': 'has_type', 'value': ['type']},\n",
       " {'cardinality': 1,\n",
       "  'property': 'has_data_transfer_operators',\n",
       "  'value': ['data_transfer_operators_1']},\n",
       " {'cardinality': 1, 'property': 'has_echo_level', 'value': 'int'},\n",
       " {'cardinality': 1,\n",
       "  'property': 'has_coupling_sequence',\n",
       "  'value': ['coupling_sequence_1']},\n",
       " {'cardinality': 1,\n",
       "  'property': 'has_coupling_sequence',\n",
       "  'value': ['coupling_sequence_2']},\n",
       " {'cardinality': 1,\n",
       "  'property': 'has_convergence_accelerators',\n",
       "  'value': ['convergence_accelerators_1']}]"
      ]
     },
     "execution_count": 8,
     "metadata": {},
     "output_type": "execute_result"
    }
   ],
   "source": [
    "solver_settings_class_1 = kb.get_class('solver_settings_1')\n",
    "solver_settings_class_1.get_properties()"
   ]
  },
  {
   "cell_type": "code",
   "execution_count": 9,
   "id": "a1c1e7d3",
   "metadata": {},
   "outputs": [
    {
     "data": {
      "text/plain": [
       "[{'cardinality': 1, 'property': 'has_type', 'value': ['type']},\n",
       " {'cardinality': 1,\n",
       "  'property': 'has_convergence_accelerators',\n",
       "  'value': ['convergence_accelerators_3']},\n",
       " {'cardinality': 1,\n",
       "  'property': 'has_data_transfer_operators',\n",
       "  'value': ['data_transfer_operators_3']},\n",
       " {'cardinality': 1, 'property': 'has_num_coupling_iterations', 'value': 'int'},\n",
       " {'cardinality': 1,\n",
       "  'property': 'has_convergence_criteria',\n",
       "  'value': ['convergence_criteria_2']},\n",
       " {'cardinality': 1, 'property': 'has_solvers', 'value': ['solvers_4']},\n",
       " {'cardinality': 1, 'property': 'has_solvers', 'value': ['solvers_5']},\n",
       " {'cardinality': 1, 'property': 'has_echo_level', 'value': 'int'},\n",
       " {'cardinality': 1,\n",
       "  'property': 'has_coupling_sequence',\n",
       "  'value': ['coupling_sequence_1']},\n",
       " {'cardinality': 1,\n",
       "  'property': 'has_coupling_sequence',\n",
       "  'value': ['coupling_sequence_4']}]"
      ]
     },
     "execution_count": 9,
     "metadata": {},
     "output_type": "execute_result"
    }
   ],
   "source": [
    "solver_settings_class_2 = kb.get_class('solver_settings_2')\n",
    "solver_settings_class_2.get_properties()"
   ]
  },
  {
   "cell_type": "markdown",
   "id": "2d9ee392",
   "metadata": {},
   "source": [
    "We see that they have different solvers, convergence criteria, data transfer operators, second items in coupling sequences and convergence accelerators."
   ]
  },
  {
   "cell_type": "markdown",
   "id": "8ced5a57",
   "metadata": {},
   "source": [
    "We can also check instances of the *coupled_system_class_1* class"
   ]
  },
  {
   "cell_type": "code",
   "execution_count": 10,
   "id": "6be1d91d",
   "metadata": {},
   "outputs": [
    {
     "data": {
      "text/plain": [
       "['instance_1', 'instance_78', 'instance_119']"
      ]
     },
     "execution_count": 10,
     "metadata": {},
     "output_type": "execute_result"
    }
   ],
   "source": [
    "coupled_system_class_1.get_instances()"
   ]
  },
  {
   "cell_type": "markdown",
   "id": "d7c05063",
   "metadata": {},
   "source": [
    "Checking properties of the first instance, which is called *mixed_fid_models*"
   ]
  },
  {
   "cell_type": "code",
   "execution_count": 11,
   "id": "60987ba7",
   "metadata": {},
   "outputs": [
    {
     "data": {
      "text/plain": [
       "{'label': 'mixed_fid_models',\n",
       " 'problem_data': 'instance_2',\n",
       " 'solver_settings': 'instance_4'}"
      ]
     },
     "execution_count": 11,
     "metadata": {},
     "output_type": "execute_result"
    }
   ],
   "source": [
    "mixed_fid_models = kb.get_instance(coupled_system_class_1.instances[0])\n",
    "mixed_fid_models.get_properties()"
   ]
  },
  {
   "cell_type": "markdown",
   "id": "04e9c94c",
   "metadata": {},
   "source": [
    "Depth of the instance properties recursion can be increased too"
   ]
  },
  {
   "cell_type": "code",
   "execution_count": 12,
   "id": "576e5b61",
   "metadata": {},
   "outputs": [
    {
     "data": {
      "text/plain": [
       "{'label': 'mixed_fid_models',\n",
       " 'problem_data': {'instance_2': {'echo_level': 0,\n",
       "   'end_time': 1.0,\n",
       "   'parallel_type': 'OpenMP',\n",
       "   'print_colors': True,\n",
       "   'start_time': 0.0}},\n",
       " 'solver_settings': {'instance_4': {'convergence_accelerators': ['instance_10'],\n",
       "   'convergence_criteria': ['instance_14'],\n",
       "   'coupling_sequence': ['instance_16', 'instance_17'],\n",
       "   'data_transfer_operators': 'instance_6',\n",
       "   'echo_level': 3,\n",
       "   'num_coupling_iterations': 20,\n",
       "   'solvers': ['instance_23', 'instance_36'],\n",
       "   'type': 'coupled_solvers.gauss_seidel_strong'}}}"
      ]
     },
     "execution_count": 12,
     "metadata": {},
     "output_type": "execute_result"
    }
   ],
   "source": [
    "mixed_fid_models.get_properties(2)"
   ]
  },
  {
   "cell_type": "markdown",
   "id": "71e4b5f4",
   "metadata": {},
   "source": [
    "Checking instances of the second class"
   ]
  },
  {
   "cell_type": "code",
   "execution_count": 13,
   "id": "23b70092",
   "metadata": {},
   "outputs": [
    {
     "data": {
      "text/plain": [
       "['instance_43', 'instance_99']"
      ]
     },
     "execution_count": 13,
     "metadata": {},
     "output_type": "execute_result"
    }
   ],
   "source": [
    "coupled_system_class_2.get_instances()"
   ]
  },
  {
   "cell_type": "code",
   "execution_count": 14,
   "id": "5110314b",
   "metadata": {},
   "outputs": [
    {
     "data": {
      "text/plain": [
       "{'label': 'Onera_FSI',\n",
       " 'problem_data': {'instance_44': {'echo_level': 2,\n",
       "   'end_time': 1.0,\n",
       "   'parallel_type': 'OpenMP',\n",
       "   'print_colors': True,\n",
       "   'start_time': 0.0}},\n",
       " 'result': 'https://github.com/ldrbmrtv/coupled_modelling/tree/main/examples/Onera_FSI/results',\n",
       " 'solver_settings': {'instance_45': {'convergence_accelerators': ['instance_46'],\n",
       "   'convergence_criteria': ['instance_49'],\n",
       "   'coupling_sequence': ['instance_51', 'instance_52'],\n",
       "   'data_transfer_operators': 'instance_58',\n",
       "   'echo_level': 4,\n",
       "   'num_coupling_iterations': 20,\n",
       "   'solvers': ['instance_60', 'instance_69'],\n",
       "   'type': 'coupled_solvers.gauss_seidel_strong'}}}"
      ]
     },
     "execution_count": 14,
     "metadata": {},
     "output_type": "execute_result"
    }
   ],
   "source": [
    "FSI_Mok = kb.get_instance(coupled_system_class_2.instances[0])\n",
    "FSI_Mok.get_properties(2)"
   ]
  },
  {
   "cell_type": "markdown",
   "id": "dcac9684",
   "metadata": {},
   "source": [
    "Now we can compare properties of these two instances"
   ]
  },
  {
   "cell_type": "markdown",
   "id": "3be166f4",
   "metadata": {},
   "source": [
    "Additionally, we can download a copy of the knowledge base locally and explore it in Protege"
   ]
  },
  {
   "cell_type": "code",
   "execution_count": 15,
   "id": "eec4568a",
   "metadata": {},
   "outputs": [],
   "source": [
    "onto_path = os.path.join(\n",
    "    os.path.abspath(''),\n",
    "    'demo_client.owl')\n",
    "\n",
    "kb.save_locally(onto_path)"
   ]
  }
 ],
 "metadata": {
  "kernelspec": {
   "display_name": "Python 3",
   "language": "python",
   "name": "python3"
  },
  "language_info": {
   "codemirror_mode": {
    "name": "ipython",
    "version": 3
   },
   "file_extension": ".py",
   "mimetype": "text/x-python",
   "name": "python",
   "nbconvert_exporter": "python",
   "pygments_lexer": "ipython3",
   "version": "3.12.9"
  }
 },
 "nbformat": 4,
 "nbformat_minor": 5
}
